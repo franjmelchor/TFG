{
 "cells": [
  {
   "cell_type": "markdown",
   "metadata": {},
   "source": [
    "# Extracción de características y creación de tablas ABT"
   ]
  },
  {
   "cell_type": "markdown",
   "metadata": {},
   "source": [
    "En este dataset se realizará la fase de extracción de características de las diferentes tablas y se comenzará la fase de modelado creando un conjunto de tablas ABT que posteriormente serán utilizadas cada una de ellas para un proceso de modelado diferente"
   ]
  },
  {
   "cell_type": "code",
   "execution_count": 1,
   "metadata": {
    "scrolled": true
   },
   "outputs": [],
   "source": [
    "import pandas as pd\n",
    "import numpy as np\n",
    "from sklearn.ensemble import ExtraTreesClassifier\n",
    "import matplotlib as mpl\n",
    "mpl.use('nbAgg')\n",
    "import matplotlib.pyplot as plt\n",
    "from pandas_profiling import ProfileReport\n",
    "from scipy.stats import chi2_contingency\n",
    "from scipy.stats import chi2\n",
    "from sklearn import preprocessing\n",
    "import sklearn.model_selection as ms\n",
    "from sklearn import linear_model\n",
    "import sklearn.metrics as sklm\n",
    "import numpy as np\n",
    "import numpy.random as nr\n",
    "import matplotlib.pyplot as plt\n",
    "import seaborn as sns\n",
    "import scipy.stats as ss\n",
    "import math\n",
    "\n",
    "%matplotlib inline"
   ]
  },
  {
   "cell_type": "code",
   "execution_count": 2,
   "metadata": {},
   "outputs": [],
   "source": [
    "dv_uex_190401_filtrado_personas = pd.read_csv('../../datasets_editados/dv_uex_190401_procesada.csv',sep='|')"
   ]
  },
  {
   "cell_type": "code",
   "execution_count": 3,
   "metadata": {},
   "outputs": [],
   "source": [
    "dv_historial_contratos_190411 = pd.read_csv('../../datasets_editados/dv_historial_contratos_190411_procesada.csv',sep='|')"
   ]
  },
  {
   "cell_type": "code",
   "execution_count": 4,
   "metadata": {},
   "outputs": [],
   "source": [
    "dv_erasmus_180108_2005a2012_filtrado_persona = pd.read_csv('../../datasets_editados/dv_erasmus_180108_2005a2012_filtrado_persona_procesada.csv',sep='|')"
   ]
  },
  {
   "cell_type": "code",
   "execution_count": 5,
   "metadata": {},
   "outputs": [],
   "source": [
    "dv_idiomas_190411 = pd.read_csv('../../datasets_editados/dv_idiomas_190411_procesada.csv',sep='|')"
   ]
  },
  {
   "cell_type": "code",
   "execution_count": 6,
   "metadata": {
    "scrolled": true
   },
   "outputs": [
    {
     "data": {
      "text/html": [
       "<div>\n",
       "<style scoped>\n",
       "    .dataframe tbody tr th:only-of-type {\n",
       "        vertical-align: middle;\n",
       "    }\n",
       "\n",
       "    .dataframe tbody tr th {\n",
       "        vertical-align: top;\n",
       "    }\n",
       "\n",
       "    .dataframe thead th {\n",
       "        text-align: right;\n",
       "    }\n",
       "</style>\n",
       "<table border=\"1\" class=\"dataframe\">\n",
       "  <thead>\n",
       "    <tr style=\"text-align: right;\">\n",
       "      <th></th>\n",
       "      <th>id</th>\n",
       "      <th>tipo_studio</th>\n",
       "      <th>titulacion</th>\n",
       "      <th>dni</th>\n",
       "      <th>sexo</th>\n",
       "      <th>fnac</th>\n",
       "      <th>municipio_familiar</th>\n",
       "      <th>centro_secundaria</th>\n",
       "      <th>orden_preinscripcion</th>\n",
       "      <th>tipo_acceso</th>\n",
       "      <th>subtipo_acceso</th>\n",
       "      <th>num_estudios</th>\n",
       "      <th>fecha_inicio</th>\n",
       "      <th>fecha_fin</th>\n",
       "      <th>edad_fin</th>\n",
       "      <th>duracion_studio</th>\n",
       "      <th>curso_inicio</th>\n",
       "      <th>curso_fin</th>\n",
       "      <th>total</th>\n",
       "    </tr>\n",
       "  </thead>\n",
       "  <tbody>\n",
       "    <tr>\n",
       "      <th>0</th>\n",
       "      <td>36957</td>\n",
       "      <td>Grado</td>\n",
       "      <td>GRADO EN EDUCACIÓN PRIMARIA</td>\n",
       "      <td>19a9b555a1c6b860c9c68039d1a3ff9d36a49ec3c2b67e...</td>\n",
       "      <td>M</td>\n",
       "      <td>1993-03-27</td>\n",
       "      <td>SALVALEÓN</td>\n",
       "      <td>I.E.S VIRGEN DE SOTERRAÑO</td>\n",
       "      <td>3.0</td>\n",
       "      <td>Selectividad</td>\n",
       "      <td>LOE (Grados)</td>\n",
       "      <td>2</td>\n",
       "      <td>2011-01-09</td>\n",
       "      <td>2014-01-08</td>\n",
       "      <td>21</td>\n",
       "      <td>3</td>\n",
       "      <td>2011-12</td>\n",
       "      <td>2014-15</td>\n",
       "      <td>1</td>\n",
       "    </tr>\n",
       "    <tr>\n",
       "      <th>1</th>\n",
       "      <td>37041</td>\n",
       "      <td>Grado</td>\n",
       "      <td>GRADO EN EDUCACIÓN PRIMARIA</td>\n",
       "      <td>8adf6e032c747e87ffcd7ac9ccf885d653c6b689071f9a...</td>\n",
       "      <td>M</td>\n",
       "      <td>2000-07-08</td>\n",
       "      <td>ALDEA DEL CANO</td>\n",
       "      <td>I.E.S. EL BROCENSE</td>\n",
       "      <td>1.0</td>\n",
       "      <td>Selectividad</td>\n",
       "      <td>LOE (Grados)</td>\n",
       "      <td>1</td>\n",
       "      <td>2012-01-09</td>\n",
       "      <td>2014-01-08</td>\n",
       "      <td>26</td>\n",
       "      <td>2</td>\n",
       "      <td>2012-13</td>\n",
       "      <td>2014-15</td>\n",
       "      <td>1</td>\n",
       "    </tr>\n",
       "    <tr>\n",
       "      <th>2</th>\n",
       "      <td>24088</td>\n",
       "      <td>Primer y segundo ciclo</td>\n",
       "      <td>ING. TÉC. OBRAS PÚB. (ESPECIALIDAD EN CONST. C...</td>\n",
       "      <td>73a526034466484b0e207f81f45b455d844822bf20442e...</td>\n",
       "      <td>M</td>\n",
       "      <td>1988-09-08</td>\n",
       "      <td>BADAJOZ</td>\n",
       "      <td>NaN</td>\n",
       "      <td>1.0</td>\n",
       "      <td>Selectividad</td>\n",
       "      <td>LOGSE</td>\n",
       "      <td>1</td>\n",
       "      <td>2006-01-09</td>\n",
       "      <td>2011-01-08</td>\n",
       "      <td>23</td>\n",
       "      <td>5</td>\n",
       "      <td>2006-07</td>\n",
       "      <td>2011-12</td>\n",
       "      <td>1</td>\n",
       "    </tr>\n",
       "    <tr>\n",
       "      <th>3</th>\n",
       "      <td>29263</td>\n",
       "      <td>Primer y segundo ciclo</td>\n",
       "      <td>INGENIERO QUÍMICO</td>\n",
       "      <td>2fa7d47d08dea2cc0b6deb109d0fa0964ac0093f40ec46...</td>\n",
       "      <td>M</td>\n",
       "      <td>1989-09-14</td>\n",
       "      <td>MONTIJO</td>\n",
       "      <td>NaN</td>\n",
       "      <td>1.0</td>\n",
       "      <td>Selectividad</td>\n",
       "      <td>LOGSE</td>\n",
       "      <td>1</td>\n",
       "      <td>2007-01-09</td>\n",
       "      <td>2012-01-08</td>\n",
       "      <td>23</td>\n",
       "      <td>5</td>\n",
       "      <td>2007-08</td>\n",
       "      <td>2012-13</td>\n",
       "      <td>1</td>\n",
       "    </tr>\n",
       "    <tr>\n",
       "      <th>4</th>\n",
       "      <td>5679</td>\n",
       "      <td>Primer y segundo ciclo</td>\n",
       "      <td>INGENIERO TÉCNICO FORESTAL (ESPECIALIDAD EN EX...</td>\n",
       "      <td>74477b74079d34e19f4a3d4a1b6e5bbdd6bd3ac1e77fab...</td>\n",
       "      <td>M</td>\n",
       "      <td>1982-12-26</td>\n",
       "      <td>TRUJILLO</td>\n",
       "      <td>NaN</td>\n",
       "      <td>2.0</td>\n",
       "      <td>Selectividad</td>\n",
       "      <td>Otros (sin especificar)</td>\n",
       "      <td>2</td>\n",
       "      <td>2002-01-09</td>\n",
       "      <td>2007-01-08</td>\n",
       "      <td>25</td>\n",
       "      <td>5</td>\n",
       "      <td>2002-03</td>\n",
       "      <td>2007-08</td>\n",
       "      <td>1</td>\n",
       "    </tr>\n",
       "  </tbody>\n",
       "</table>\n",
       "</div>"
      ],
      "text/plain": [
       "      id             tipo_studio  \\\n",
       "0  36957                   Grado   \n",
       "1  37041                   Grado   \n",
       "2  24088  Primer y segundo ciclo   \n",
       "3  29263  Primer y segundo ciclo   \n",
       "4   5679  Primer y segundo ciclo   \n",
       "\n",
       "                                          titulacion  \\\n",
       "0                        GRADO EN EDUCACIÓN PRIMARIA   \n",
       "1                        GRADO EN EDUCACIÓN PRIMARIA   \n",
       "2  ING. TÉC. OBRAS PÚB. (ESPECIALIDAD EN CONST. C...   \n",
       "3                                  INGENIERO QUÍMICO   \n",
       "4  INGENIERO TÉCNICO FORESTAL (ESPECIALIDAD EN EX...   \n",
       "\n",
       "                                                 dni sexo        fnac  \\\n",
       "0  19a9b555a1c6b860c9c68039d1a3ff9d36a49ec3c2b67e...    M  1993-03-27   \n",
       "1  8adf6e032c747e87ffcd7ac9ccf885d653c6b689071f9a...    M  2000-07-08   \n",
       "2  73a526034466484b0e207f81f45b455d844822bf20442e...    M  1988-09-08   \n",
       "3  2fa7d47d08dea2cc0b6deb109d0fa0964ac0093f40ec46...    M  1989-09-14   \n",
       "4  74477b74079d34e19f4a3d4a1b6e5bbdd6bd3ac1e77fab...    M  1982-12-26   \n",
       "\n",
       "  municipio_familiar          centro_secundaria  orden_preinscripcion  \\\n",
       "0          SALVALEÓN  I.E.S VIRGEN DE SOTERRAÑO                   3.0   \n",
       "1     ALDEA DEL CANO         I.E.S. EL BROCENSE                   1.0   \n",
       "2            BADAJOZ                        NaN                   1.0   \n",
       "3            MONTIJO                        NaN                   1.0   \n",
       "4           TRUJILLO                        NaN                   2.0   \n",
       "\n",
       "    tipo_acceso           subtipo_acceso  num_estudios fecha_inicio  \\\n",
       "0  Selectividad             LOE (Grados)             2   2011-01-09   \n",
       "1  Selectividad             LOE (Grados)             1   2012-01-09   \n",
       "2  Selectividad                    LOGSE             1   2006-01-09   \n",
       "3  Selectividad                    LOGSE             1   2007-01-09   \n",
       "4  Selectividad  Otros (sin especificar)             2   2002-01-09   \n",
       "\n",
       "    fecha_fin  edad_fin  duracion_studio curso_inicio curso_fin  total  \n",
       "0  2014-01-08        21                3      2011-12   2014-15      1  \n",
       "1  2014-01-08        26                2      2012-13   2014-15      1  \n",
       "2  2011-01-08        23                5      2006-07   2011-12      1  \n",
       "3  2012-01-08        23                5      2007-08   2012-13      1  \n",
       "4  2007-01-08        25                5      2002-03   2007-08      1  "
      ]
     },
     "execution_count": 6,
     "metadata": {},
     "output_type": "execute_result"
    }
   ],
   "source": [
    "dv_uex_190401_filtrado_personas.head()"
   ]
  },
  {
   "cell_type": "code",
   "execution_count": 7,
   "metadata": {},
   "outputs": [
    {
     "data": {
      "text/html": [
       "<div>\n",
       "<style scoped>\n",
       "    .dataframe tbody tr th:only-of-type {\n",
       "        vertical-align: middle;\n",
       "    }\n",
       "\n",
       "    .dataframe tbody tr th {\n",
       "        vertical-align: top;\n",
       "    }\n",
       "\n",
       "    .dataframe thead th {\n",
       "        text-align: right;\n",
       "    }\n",
       "</style>\n",
       "<table border=\"1\" class=\"dataframe\">\n",
       "  <thead>\n",
       "    <tr style=\"text-align: right;\">\n",
       "      <th></th>\n",
       "      <th>dni</th>\n",
       "      <th>cod_tipo</th>\n",
       "      <th>descripcion</th>\n",
       "      <th>fecha_inicio</th>\n",
       "      <th>fecha_fin</th>\n",
       "      <th>tipologia</th>\n",
       "      <th>cno_cod</th>\n",
       "      <th>cno_desc</th>\n",
       "      <th>actividad_economica_cod</th>\n",
       "      <th>actividad_economica_desc</th>\n",
       "      <th>seccion_economica</th>\n",
       "      <th>sector</th>\n",
       "      <th>localidad_cod</th>\n",
       "      <th>famprof_id</th>\n",
       "      <th>id</th>\n",
       "      <th>duracion_contrato_dias</th>\n",
       "      <th>total</th>\n",
       "      <th>estudios</th>\n",
       "      <th>edad_inicio_contrato</th>\n",
       "    </tr>\n",
       "  </thead>\n",
       "  <tbody>\n",
       "    <tr>\n",
       "      <th>0</th>\n",
       "      <td>e84f231536b1ad08b01ff8506ff2317bf0c2c460b02fa8...</td>\n",
       "      <td>402</td>\n",
       "      <td>EVENTUAL A TIEMPO COMPLETO CIRCUNSTANCIAS DE L...</td>\n",
       "      <td>2010-07-25</td>\n",
       "      <td>2010-07-25</td>\n",
       "      <td>TEMPORAL</td>\n",
       "      <td>2630</td>\n",
       "      <td>TECNICOS DE EMPRESAS Y ACTIVIDADES TURISTICAS</td>\n",
       "      <td>77</td>\n",
       "      <td>Actividades de alquiler</td>\n",
       "      <td>ACTIVIDADES ADMINISTRATIVAS Y SERVICIOS AUXILI...</td>\n",
       "      <td>SERVICIOS</td>\n",
       "      <td>6015.0</td>\n",
       "      <td>FCO</td>\n",
       "      <td>103833</td>\n",
       "      <td>1.0</td>\n",
       "      <td>1</td>\n",
       "      <td>t</td>\n",
       "      <td>31</td>\n",
       "    </tr>\n",
       "    <tr>\n",
       "      <th>1</th>\n",
       "      <td>28c55e81e8ac34e4ce37fc04d4a519822969e9dc0de41b...</td>\n",
       "      <td>502</td>\n",
       "      <td>EVENTUAL A TIEMPO PARCIAL CIRCUNSTANCIAS DE LA...</td>\n",
       "      <td>2017-11-28</td>\n",
       "      <td>2017-11-28</td>\n",
       "      <td>TEMPORAL</td>\n",
       "      <td>5824</td>\n",
       "      <td>AZAFATOS DE TIERRA</td>\n",
       "      <td>78</td>\n",
       "      <td>Actividades relacionadas con el empleo</td>\n",
       "      <td>ACTIVIDADES ADMINISTRATIVAS Y SERVICIOS AUXILI...</td>\n",
       "      <td>SERVICIOS</td>\n",
       "      <td>6015.0</td>\n",
       "      <td>FCO</td>\n",
       "      <td>499104</td>\n",
       "      <td>1.0</td>\n",
       "      <td>1</td>\n",
       "      <td>t</td>\n",
       "      <td>23</td>\n",
       "    </tr>\n",
       "    <tr>\n",
       "      <th>2</th>\n",
       "      <td>03dda4db89262c831360c859cd18b68b2b44ba7e3c3806...</td>\n",
       "      <td>402</td>\n",
       "      <td>EVENTUAL A TIEMPO COMPLETO CIRCUNSTANCIAS DE L...</td>\n",
       "      <td>2006-03-28</td>\n",
       "      <td>2006-03-28</td>\n",
       "      <td>TEMPORAL</td>\n",
       "      <td>5824</td>\n",
       "      <td>AZAFATOS DE TIERRA</td>\n",
       "      <td>52</td>\n",
       "      <td>Almacenamiento y actividades anexas al transporte</td>\n",
       "      <td>TRANSPORTE Y ALMACENAMIENTO</td>\n",
       "      <td>SERVICIOS</td>\n",
       "      <td>6015.0</td>\n",
       "      <td>FCO</td>\n",
       "      <td>455531</td>\n",
       "      <td>1.0</td>\n",
       "      <td>1</td>\n",
       "      <td>t</td>\n",
       "      <td>22</td>\n",
       "    </tr>\n",
       "    <tr>\n",
       "      <th>3</th>\n",
       "      <td>9b91cc5cd1b11d613160c96159a1a5d3d6eba44052a656...</td>\n",
       "      <td>502</td>\n",
       "      <td>EVENTUAL A TIEMPO PARCIAL CIRCUNSTANCIAS DE LA...</td>\n",
       "      <td>2017-03-26</td>\n",
       "      <td>2017-03-26</td>\n",
       "      <td>TEMPORAL</td>\n",
       "      <td>5120</td>\n",
       "      <td>CAMAREROS ASALARIADOS</td>\n",
       "      <td>56</td>\n",
       "      <td>Servicios de comidas y bebidas</td>\n",
       "      <td>HOSTELERÍA</td>\n",
       "      <td>SERVICIOS</td>\n",
       "      <td>6015.0</td>\n",
       "      <td>HOT</td>\n",
       "      <td>243872</td>\n",
       "      <td>1.0</td>\n",
       "      <td>1</td>\n",
       "      <td>t</td>\n",
       "      <td>25</td>\n",
       "    </tr>\n",
       "    <tr>\n",
       "      <th>4</th>\n",
       "      <td>ea980973d9987081ee700a7ea8d241ef8eb36e3abe767b...</td>\n",
       "      <td>502</td>\n",
       "      <td>EVENTUAL A TIEMPO PARCIAL CIRCUNSTANCIAS DE LA...</td>\n",
       "      <td>2016-06-05</td>\n",
       "      <td>2016-06-05</td>\n",
       "      <td>TEMPORAL</td>\n",
       "      <td>5120</td>\n",
       "      <td>CAMAREROS ASALARIADOS</td>\n",
       "      <td>56</td>\n",
       "      <td>Servicios de comidas y bebidas</td>\n",
       "      <td>HOSTELERÍA</td>\n",
       "      <td>SERVICIOS</td>\n",
       "      <td>10139.0</td>\n",
       "      <td>HOT</td>\n",
       "      <td>364314</td>\n",
       "      <td>1.0</td>\n",
       "      <td>1</td>\n",
       "      <td>t</td>\n",
       "      <td>23</td>\n",
       "    </tr>\n",
       "  </tbody>\n",
       "</table>\n",
       "</div>"
      ],
      "text/plain": [
       "                                                 dni  cod_tipo  \\\n",
       "0  e84f231536b1ad08b01ff8506ff2317bf0c2c460b02fa8...       402   \n",
       "1  28c55e81e8ac34e4ce37fc04d4a519822969e9dc0de41b...       502   \n",
       "2  03dda4db89262c831360c859cd18b68b2b44ba7e3c3806...       402   \n",
       "3  9b91cc5cd1b11d613160c96159a1a5d3d6eba44052a656...       502   \n",
       "4  ea980973d9987081ee700a7ea8d241ef8eb36e3abe767b...       502   \n",
       "\n",
       "                                         descripcion fecha_inicio   fecha_fin  \\\n",
       "0  EVENTUAL A TIEMPO COMPLETO CIRCUNSTANCIAS DE L...   2010-07-25  2010-07-25   \n",
       "1  EVENTUAL A TIEMPO PARCIAL CIRCUNSTANCIAS DE LA...   2017-11-28  2017-11-28   \n",
       "2  EVENTUAL A TIEMPO COMPLETO CIRCUNSTANCIAS DE L...   2006-03-28  2006-03-28   \n",
       "3  EVENTUAL A TIEMPO PARCIAL CIRCUNSTANCIAS DE LA...   2017-03-26  2017-03-26   \n",
       "4  EVENTUAL A TIEMPO PARCIAL CIRCUNSTANCIAS DE LA...   2016-06-05  2016-06-05   \n",
       "\n",
       "  tipologia  cno_cod                                       cno_desc  \\\n",
       "0  TEMPORAL     2630  TECNICOS DE EMPRESAS Y ACTIVIDADES TURISTICAS   \n",
       "1  TEMPORAL     5824                             AZAFATOS DE TIERRA   \n",
       "2  TEMPORAL     5824                             AZAFATOS DE TIERRA   \n",
       "3  TEMPORAL     5120                          CAMAREROS ASALARIADOS   \n",
       "4  TEMPORAL     5120                          CAMAREROS ASALARIADOS   \n",
       "\n",
       "   actividad_economica_cod                           actividad_economica_desc  \\\n",
       "0                       77                            Actividades de alquiler   \n",
       "1                       78             Actividades relacionadas con el empleo   \n",
       "2                       52  Almacenamiento y actividades anexas al transporte   \n",
       "3                       56                     Servicios de comidas y bebidas   \n",
       "4                       56                     Servicios de comidas y bebidas   \n",
       "\n",
       "                                   seccion_economica     sector  \\\n",
       "0  ACTIVIDADES ADMINISTRATIVAS Y SERVICIOS AUXILI...  SERVICIOS   \n",
       "1  ACTIVIDADES ADMINISTRATIVAS Y SERVICIOS AUXILI...  SERVICIOS   \n",
       "2                        TRANSPORTE Y ALMACENAMIENTO  SERVICIOS   \n",
       "3                                         HOSTELERÍA  SERVICIOS   \n",
       "4                                         HOSTELERÍA  SERVICIOS   \n",
       "\n",
       "   localidad_cod famprof_id      id  duracion_contrato_dias  total estudios  \\\n",
       "0         6015.0        FCO  103833                     1.0      1        t   \n",
       "1         6015.0        FCO  499104                     1.0      1        t   \n",
       "2         6015.0        FCO  455531                     1.0      1        t   \n",
       "3         6015.0        HOT  243872                     1.0      1        t   \n",
       "4        10139.0        HOT  364314                     1.0      1        t   \n",
       "\n",
       "   edad_inicio_contrato  \n",
       "0                    31  \n",
       "1                    23  \n",
       "2                    22  \n",
       "3                    25  \n",
       "4                    23  "
      ]
     },
     "execution_count": 7,
     "metadata": {},
     "output_type": "execute_result"
    }
   ],
   "source": [
    "dv_historial_contratos_190411.head()"
   ]
  },
  {
   "cell_type": "code",
   "execution_count": 8,
   "metadata": {},
   "outputs": [
    {
     "data": {
      "text/html": [
       "<div>\n",
       "<style scoped>\n",
       "    .dataframe tbody tr th:only-of-type {\n",
       "        vertical-align: middle;\n",
       "    }\n",
       "\n",
       "    .dataframe tbody tr th {\n",
       "        vertical-align: top;\n",
       "    }\n",
       "\n",
       "    .dataframe thead th {\n",
       "        text-align: right;\n",
       "    }\n",
       "</style>\n",
       "<table border=\"1\" class=\"dataframe\">\n",
       "  <thead>\n",
       "    <tr style=\"text-align: right;\">\n",
       "      <th></th>\n",
       "      <th>id</th>\n",
       "      <th>curso</th>\n",
       "      <th>dni</th>\n",
       "      <th>edad</th>\n",
       "      <th>sexo</th>\n",
       "      <th>nacionalidad</th>\n",
       "      <th>area_estudio</th>\n",
       "      <th>titulacion</th>\n",
       "      <th>nivel_estudio</th>\n",
       "      <th>anos_estudio_previo_erasmus</th>\n",
       "      <th>...</th>\n",
       "      <th>aprendizaje_idioma_anfitrion</th>\n",
       "      <th>idioma_de_formacion_recibida</th>\n",
       "      <th>participacion_previa_erasmus</th>\n",
       "      <th>cualificacion_obtenida_en_pais_acogida</th>\n",
       "      <th>eilc_sms_beca</th>\n",
       "      <th>eilc_smp_beca</th>\n",
       "      <th>eilc_sms_duracion</th>\n",
       "      <th>estudios_pais</th>\n",
       "      <th>pais_destino</th>\n",
       "      <th>total</th>\n",
       "    </tr>\n",
       "  </thead>\n",
       "  <tbody>\n",
       "    <tr>\n",
       "      <th>0</th>\n",
       "      <td>1271</td>\n",
       "      <td>2008/2009</td>\n",
       "      <td>2a35e7f13bdc6ea7a04b251463adceb86ca3d77d57dc23...</td>\n",
       "      <td>22</td>\n",
       "      <td>H</td>\n",
       "      <td>ES</td>\n",
       "      <td>723 - Enfermería, obstetricia y fisioterapia</td>\n",
       "      <td>DIPLOMADO EN ENFERMERIA</td>\n",
       "      <td>1D - Diplomatura</td>\n",
       "      <td>2.0</td>\n",
       "      <td>...</td>\n",
       "      <td>S</td>\n",
       "      <td>IT</td>\n",
       "      <td>N</td>\n",
       "      <td>N</td>\n",
       "      <td>NaN</td>\n",
       "      <td>NaN</td>\n",
       "      <td>NaN</td>\n",
       "      <td>IT - Italy</td>\n",
       "      <td>IT - Italy</td>\n",
       "      <td>1</td>\n",
       "    </tr>\n",
       "    <tr>\n",
       "      <th>1</th>\n",
       "      <td>1993</td>\n",
       "      <td>2010/2011</td>\n",
       "      <td>491fc9b9628d9f43fb1e27960707dcb0ed7bbd3b3e066a...</td>\n",
       "      <td>20</td>\n",
       "      <td>H</td>\n",
       "      <td>ES</td>\n",
       "      <td>6 - Agricultura y veterinaria</td>\n",
       "      <td>INGENIERO AGRONOMO</td>\n",
       "      <td>1L - Licenciatura</td>\n",
       "      <td>3.0</td>\n",
       "      <td>...</td>\n",
       "      <td>S</td>\n",
       "      <td>PT</td>\n",
       "      <td>N</td>\n",
       "      <td>N</td>\n",
       "      <td>NaN</td>\n",
       "      <td>NaN</td>\n",
       "      <td>NaN</td>\n",
       "      <td>PT - Portugal</td>\n",
       "      <td>PT - Portugal</td>\n",
       "      <td>1</td>\n",
       "    </tr>\n",
       "    <tr>\n",
       "      <th>2</th>\n",
       "      <td>2489</td>\n",
       "      <td>2011/2012</td>\n",
       "      <td>7ba6ff8737892c3c68870ff9dd6fa626866a9ab97ca326...</td>\n",
       "      <td>21</td>\n",
       "      <td>M</td>\n",
       "      <td>ES</td>\n",
       "      <td>524 - Química y procesos</td>\n",
       "      <td>INGENIERO QUIMICO</td>\n",
       "      <td>1L - Licenciatura</td>\n",
       "      <td>4.0</td>\n",
       "      <td>...</td>\n",
       "      <td>S</td>\n",
       "      <td>IT</td>\n",
       "      <td>N</td>\n",
       "      <td>O</td>\n",
       "      <td>NaN</td>\n",
       "      <td>NaN</td>\n",
       "      <td>NaN</td>\n",
       "      <td>IT - Italy</td>\n",
       "      <td>IT - Italy</td>\n",
       "      <td>1</td>\n",
       "    </tr>\n",
       "    <tr>\n",
       "      <th>3</th>\n",
       "      <td>1382</td>\n",
       "      <td>2009/2010</td>\n",
       "      <td>ed88535b7d9c133936ac4f096578eaf10d9b64a3cfc118...</td>\n",
       "      <td>20</td>\n",
       "      <td>M</td>\n",
       "      <td>ES</td>\n",
       "      <td>314 - Economía</td>\n",
       "      <td>LICENCIADO EN ECONOMIA</td>\n",
       "      <td>1L - Licenciatura</td>\n",
       "      <td>3.0</td>\n",
       "      <td>...</td>\n",
       "      <td>S</td>\n",
       "      <td>IT</td>\n",
       "      <td>N</td>\n",
       "      <td>N</td>\n",
       "      <td>NaN</td>\n",
       "      <td>NaN</td>\n",
       "      <td>NaN</td>\n",
       "      <td>IT - Italy</td>\n",
       "      <td>IT - Italy</td>\n",
       "      <td>1</td>\n",
       "    </tr>\n",
       "    <tr>\n",
       "      <th>4</th>\n",
       "      <td>1253</td>\n",
       "      <td>2008/2009</td>\n",
       "      <td>64bed883fa25ed89bd7b810be60ca5f3f6559700f475fd...</td>\n",
       "      <td>20</td>\n",
       "      <td>M</td>\n",
       "      <td>ES</td>\n",
       "      <td>21 - Artes</td>\n",
       "      <td>LICENCIADO EN HISTORIA DEL ARTE</td>\n",
       "      <td>1L - Licenciatura</td>\n",
       "      <td>3.0</td>\n",
       "      <td>...</td>\n",
       "      <td>S</td>\n",
       "      <td>IT</td>\n",
       "      <td>N</td>\n",
       "      <td>N</td>\n",
       "      <td>NaN</td>\n",
       "      <td>NaN</td>\n",
       "      <td>NaN</td>\n",
       "      <td>IT - Italy</td>\n",
       "      <td>IT - Italy</td>\n",
       "      <td>1</td>\n",
       "    </tr>\n",
       "  </tbody>\n",
       "</table>\n",
       "<p>5 rows × 34 columns</p>\n",
       "</div>"
      ],
      "text/plain": [
       "     id      curso                                                dni  edad  \\\n",
       "0  1271  2008/2009  2a35e7f13bdc6ea7a04b251463adceb86ca3d77d57dc23...    22   \n",
       "1  1993  2010/2011  491fc9b9628d9f43fb1e27960707dcb0ed7bbd3b3e066a...    20   \n",
       "2  2489  2011/2012  7ba6ff8737892c3c68870ff9dd6fa626866a9ab97ca326...    21   \n",
       "3  1382  2009/2010  ed88535b7d9c133936ac4f096578eaf10d9b64a3cfc118...    20   \n",
       "4  1253  2008/2009  64bed883fa25ed89bd7b810be60ca5f3f6559700f475fd...    20   \n",
       "\n",
       "  sexo nacionalidad                                  area_estudio  \\\n",
       "0    H           ES  723 - Enfermería, obstetricia y fisioterapia   \n",
       "1    H           ES                 6 - Agricultura y veterinaria   \n",
       "2    M           ES                      524 - Química y procesos   \n",
       "3    M           ES                                314 - Economía   \n",
       "4    M           ES                                    21 - Artes   \n",
       "\n",
       "                        titulacion      nivel_estudio  \\\n",
       "0          DIPLOMADO EN ENFERMERIA   1D - Diplomatura   \n",
       "1               INGENIERO AGRONOMO  1L - Licenciatura   \n",
       "2                INGENIERO QUIMICO  1L - Licenciatura   \n",
       "3           LICENCIADO EN ECONOMIA  1L - Licenciatura   \n",
       "4  LICENCIADO EN HISTORIA DEL ARTE  1L - Licenciatura   \n",
       "\n",
       "   anos_estudio_previo_erasmus  ... aprendizaje_idioma_anfitrion  \\\n",
       "0                          2.0  ...                            S   \n",
       "1                          3.0  ...                            S   \n",
       "2                          4.0  ...                            S   \n",
       "3                          3.0  ...                            S   \n",
       "4                          3.0  ...                            S   \n",
       "\n",
       "  idioma_de_formacion_recibida  participacion_previa_erasmus  \\\n",
       "0                           IT                             N   \n",
       "1                           PT                             N   \n",
       "2                           IT                             N   \n",
       "3                           IT                             N   \n",
       "4                           IT                             N   \n",
       "\n",
       "  cualificacion_obtenida_en_pais_acogida  eilc_sms_beca  eilc_smp_beca  \\\n",
       "0                                      N            NaN            NaN   \n",
       "1                                      N            NaN            NaN   \n",
       "2                                      O            NaN            NaN   \n",
       "3                                      N            NaN            NaN   \n",
       "4                                      N            NaN            NaN   \n",
       "\n",
       "  eilc_sms_duracion  estudios_pais   pais_destino total  \n",
       "0               NaN     IT - Italy     IT - Italy     1  \n",
       "1               NaN  PT - Portugal  PT - Portugal     1  \n",
       "2               NaN     IT - Italy     IT - Italy     1  \n",
       "3               NaN     IT - Italy     IT - Italy     1  \n",
       "4               NaN     IT - Italy     IT - Italy     1  \n",
       "\n",
       "[5 rows x 34 columns]"
      ]
     },
     "execution_count": 8,
     "metadata": {},
     "output_type": "execute_result"
    }
   ],
   "source": [
    "dv_erasmus_180108_2005a2012_filtrado_persona.head()"
   ]
  },
  {
   "cell_type": "code",
   "execution_count": 9,
   "metadata": {
    "scrolled": true
   },
   "outputs": [
    {
     "data": {
      "text/html": [
       "<div>\n",
       "<style scoped>\n",
       "    .dataframe tbody tr th:only-of-type {\n",
       "        vertical-align: middle;\n",
       "    }\n",
       "\n",
       "    .dataframe tbody tr th {\n",
       "        vertical-align: top;\n",
       "    }\n",
       "\n",
       "    .dataframe thead th {\n",
       "        text-align: right;\n",
       "    }\n",
       "</style>\n",
       "<table border=\"1\" class=\"dataframe\">\n",
       "  <thead>\n",
       "    <tr style=\"text-align: right;\">\n",
       "      <th></th>\n",
       "      <th>dni</th>\n",
       "      <th>idioma</th>\n",
       "      <th>ano_estudio</th>\n",
       "      <th>id</th>\n",
       "    </tr>\n",
       "  </thead>\n",
       "  <tbody>\n",
       "    <tr>\n",
       "      <th>0</th>\n",
       "      <td>8a75a56fc482cecccfbb89c2abb62a48518be7dc812553...</td>\n",
       "      <td>Inglés</td>\n",
       "      <td>2009</td>\n",
       "      <td>5</td>\n",
       "    </tr>\n",
       "    <tr>\n",
       "      <th>1</th>\n",
       "      <td>722ebb88df30735c6d6e0c77500af2832276b7f8c43566...</td>\n",
       "      <td>Inglés</td>\n",
       "      <td>2014</td>\n",
       "      <td>8</td>\n",
       "    </tr>\n",
       "    <tr>\n",
       "      <th>2</th>\n",
       "      <td>9ebf83f4e7ac99fecb1d8822030462ba13ca2e727106b4...</td>\n",
       "      <td>Inglés</td>\n",
       "      <td>2014</td>\n",
       "      <td>11</td>\n",
       "    </tr>\n",
       "    <tr>\n",
       "      <th>3</th>\n",
       "      <td>17ba2d93e41e3ebcd71f2137e4ef0bef950576ba3edc8e...</td>\n",
       "      <td>Inglés</td>\n",
       "      <td>2016</td>\n",
       "      <td>12</td>\n",
       "    </tr>\n",
       "    <tr>\n",
       "      <th>4</th>\n",
       "      <td>33ce3b19da97c9bb7537a5ad12afbb1415c947db9bb293...</td>\n",
       "      <td>Inglés</td>\n",
       "      <td>2016</td>\n",
       "      <td>26</td>\n",
       "    </tr>\n",
       "  </tbody>\n",
       "</table>\n",
       "</div>"
      ],
      "text/plain": [
       "                                                 dni  idioma  ano_estudio  id\n",
       "0  8a75a56fc482cecccfbb89c2abb62a48518be7dc812553...  Inglés         2009   5\n",
       "1  722ebb88df30735c6d6e0c77500af2832276b7f8c43566...  Inglés         2014   8\n",
       "2  9ebf83f4e7ac99fecb1d8822030462ba13ca2e727106b4...  Inglés         2014  11\n",
       "3  17ba2d93e41e3ebcd71f2137e4ef0bef950576ba3edc8e...  Inglés         2016  12\n",
       "4  33ce3b19da97c9bb7537a5ad12afbb1415c947db9bb293...  Inglés         2016  26"
      ]
     },
     "execution_count": 9,
     "metadata": {},
     "output_type": "execute_result"
    }
   ],
   "source": [
    "dv_idiomas_190411.head()"
   ]
  },
  {
   "cell_type": "markdown",
   "metadata": {},
   "source": [
    "### Extracción de características del dataset dv_uex_190401_filtrado_personas"
   ]
  },
  {
   "cell_type": "code",
   "execution_count": 10,
   "metadata": {},
   "outputs": [
    {
     "data": {
      "text/plain": [
       "id                        int64\n",
       "tipo_studio              object\n",
       "titulacion               object\n",
       "dni                      object\n",
       "sexo                     object\n",
       "fnac                     object\n",
       "municipio_familiar       object\n",
       "centro_secundaria        object\n",
       "orden_preinscripcion    float64\n",
       "tipo_acceso              object\n",
       "subtipo_acceso           object\n",
       "num_estudios              int64\n",
       "fecha_inicio             object\n",
       "fecha_fin                object\n",
       "edad_fin                  int64\n",
       "duracion_studio           int64\n",
       "curso_inicio             object\n",
       "curso_fin                object\n",
       "total                     int64\n",
       "dtype: object"
      ]
     },
     "execution_count": 10,
     "metadata": {},
     "output_type": "execute_result"
    }
   ],
   "source": [
    "dv_uex_190401_filtrado_personas.dtypes"
   ]
  },
  {
   "cell_type": "code",
   "execution_count": 11,
   "metadata": {},
   "outputs": [],
   "source": [
    "categoricalCols = ['tipo_studio','titulacion','sexo','municipio_familiar','centro_secundaria','tipo_acceso','subtipo_acceso','orden_preinscripcion','curso_inicio','curso_fin']"
   ]
  },
  {
   "cell_type": "code",
   "execution_count": 12,
   "metadata": {},
   "outputs": [],
   "source": [
    "dateCols = ['fnac','fecha_inicio','fecha_fin']"
   ]
  },
  {
   "cell_type": "code",
   "execution_count": 13,
   "metadata": {
    "scrolled": true
   },
   "outputs": [
    {
     "data": {
      "text/plain": [
       "id                               int64\n",
       "tipo_studio                   category\n",
       "titulacion                    category\n",
       "dni                             object\n",
       "sexo                          category\n",
       "fnac                    datetime64[ns]\n",
       "municipio_familiar            category\n",
       "centro_secundaria             category\n",
       "orden_preinscripcion          category\n",
       "tipo_acceso                   category\n",
       "subtipo_acceso                category\n",
       "num_estudios                     int64\n",
       "fecha_inicio            datetime64[ns]\n",
       "fecha_fin               datetime64[ns]\n",
       "edad_fin                         int64\n",
       "duracion_studio                  int64\n",
       "curso_inicio                  category\n",
       "curso_fin                     category\n",
       "total                            int64\n",
       "dtype: object"
      ]
     },
     "execution_count": 13,
     "metadata": {},
     "output_type": "execute_result"
    }
   ],
   "source": [
    "for col in categoricalCols:\n",
    "    dv_uex_190401_filtrado_personas[col] = dv_uex_190401_filtrado_personas[col].astype('category')\n",
    "for col in dateCols:\n",
    "    dv_uex_190401_filtrado_personas[col] = pd.to_datetime(dv_uex_190401_filtrado_personas[col])\n",
    "dv_uex_190401_filtrado_personas.dtypes"
   ]
  },
  {
   "cell_type": "code",
   "execution_count": 14,
   "metadata": {},
   "outputs": [
    {
     "data": {
      "text/html": [
       "<div>\n",
       "<style scoped>\n",
       "    .dataframe tbody tr th:only-of-type {\n",
       "        vertical-align: middle;\n",
       "    }\n",
       "\n",
       "    .dataframe tbody tr th {\n",
       "        vertical-align: top;\n",
       "    }\n",
       "\n",
       "    .dataframe thead th {\n",
       "        text-align: right;\n",
       "    }\n",
       "</style>\n",
       "<table border=\"1\" class=\"dataframe\">\n",
       "  <thead>\n",
       "    <tr style=\"text-align: right;\">\n",
       "      <th></th>\n",
       "      <th>id</th>\n",
       "      <th>tipo_studio</th>\n",
       "      <th>titulacion</th>\n",
       "      <th>dni</th>\n",
       "      <th>sexo</th>\n",
       "      <th>fnac</th>\n",
       "      <th>municipio_familiar</th>\n",
       "      <th>centro_secundaria</th>\n",
       "      <th>orden_preinscripcion</th>\n",
       "      <th>tipo_acceso</th>\n",
       "      <th>subtipo_acceso</th>\n",
       "      <th>num_estudios</th>\n",
       "      <th>fecha_inicio</th>\n",
       "      <th>fecha_fin</th>\n",
       "      <th>edad_fin</th>\n",
       "      <th>duracion_studio</th>\n",
       "      <th>curso_inicio</th>\n",
       "      <th>curso_fin</th>\n",
       "      <th>total</th>\n",
       "    </tr>\n",
       "  </thead>\n",
       "  <tbody>\n",
       "    <tr>\n",
       "      <th>0</th>\n",
       "      <td>36957</td>\n",
       "      <td>Grado</td>\n",
       "      <td>GRADO EN EDUCACIÓN PRIMARIA</td>\n",
       "      <td>19a9b555a1c6b860c9c68039d1a3ff9d36a49ec3c2b67e...</td>\n",
       "      <td>M</td>\n",
       "      <td>1993-03-27</td>\n",
       "      <td>SALVALEÓN</td>\n",
       "      <td>I.E.S VIRGEN DE SOTERRAÑO</td>\n",
       "      <td>3.0</td>\n",
       "      <td>Selectividad</td>\n",
       "      <td>LOE (Grados)</td>\n",
       "      <td>2</td>\n",
       "      <td>2011-01-09</td>\n",
       "      <td>2014-01-08</td>\n",
       "      <td>21</td>\n",
       "      <td>3</td>\n",
       "      <td>2011-12</td>\n",
       "      <td>2014-15</td>\n",
       "      <td>1</td>\n",
       "    </tr>\n",
       "    <tr>\n",
       "      <th>1</th>\n",
       "      <td>37041</td>\n",
       "      <td>Grado</td>\n",
       "      <td>GRADO EN EDUCACIÓN PRIMARIA</td>\n",
       "      <td>8adf6e032c747e87ffcd7ac9ccf885d653c6b689071f9a...</td>\n",
       "      <td>M</td>\n",
       "      <td>2000-07-08</td>\n",
       "      <td>ALDEA DEL CANO</td>\n",
       "      <td>I.E.S. EL BROCENSE</td>\n",
       "      <td>1.0</td>\n",
       "      <td>Selectividad</td>\n",
       "      <td>LOE (Grados)</td>\n",
       "      <td>1</td>\n",
       "      <td>2012-01-09</td>\n",
       "      <td>2014-01-08</td>\n",
       "      <td>26</td>\n",
       "      <td>2</td>\n",
       "      <td>2012-13</td>\n",
       "      <td>2014-15</td>\n",
       "      <td>1</td>\n",
       "    </tr>\n",
       "    <tr>\n",
       "      <th>2</th>\n",
       "      <td>24088</td>\n",
       "      <td>Primer y segundo ciclo</td>\n",
       "      <td>ING. TÉC. OBRAS PÚB. (ESPECIALIDAD EN CONST. C...</td>\n",
       "      <td>73a526034466484b0e207f81f45b455d844822bf20442e...</td>\n",
       "      <td>M</td>\n",
       "      <td>1988-09-08</td>\n",
       "      <td>BADAJOZ</td>\n",
       "      <td>NaN</td>\n",
       "      <td>1.0</td>\n",
       "      <td>Selectividad</td>\n",
       "      <td>LOGSE</td>\n",
       "      <td>1</td>\n",
       "      <td>2006-01-09</td>\n",
       "      <td>2011-01-08</td>\n",
       "      <td>23</td>\n",
       "      <td>5</td>\n",
       "      <td>2006-07</td>\n",
       "      <td>2011-12</td>\n",
       "      <td>1</td>\n",
       "    </tr>\n",
       "    <tr>\n",
       "      <th>3</th>\n",
       "      <td>29263</td>\n",
       "      <td>Primer y segundo ciclo</td>\n",
       "      <td>INGENIERO QUÍMICO</td>\n",
       "      <td>2fa7d47d08dea2cc0b6deb109d0fa0964ac0093f40ec46...</td>\n",
       "      <td>M</td>\n",
       "      <td>1989-09-14</td>\n",
       "      <td>MONTIJO</td>\n",
       "      <td>NaN</td>\n",
       "      <td>1.0</td>\n",
       "      <td>Selectividad</td>\n",
       "      <td>LOGSE</td>\n",
       "      <td>1</td>\n",
       "      <td>2007-01-09</td>\n",
       "      <td>2012-01-08</td>\n",
       "      <td>23</td>\n",
       "      <td>5</td>\n",
       "      <td>2007-08</td>\n",
       "      <td>2012-13</td>\n",
       "      <td>1</td>\n",
       "    </tr>\n",
       "    <tr>\n",
       "      <th>4</th>\n",
       "      <td>5679</td>\n",
       "      <td>Primer y segundo ciclo</td>\n",
       "      <td>INGENIERO TÉCNICO FORESTAL (ESPECIALIDAD EN EX...</td>\n",
       "      <td>74477b74079d34e19f4a3d4a1b6e5bbdd6bd3ac1e77fab...</td>\n",
       "      <td>M</td>\n",
       "      <td>1982-12-26</td>\n",
       "      <td>TRUJILLO</td>\n",
       "      <td>NaN</td>\n",
       "      <td>2.0</td>\n",
       "      <td>Selectividad</td>\n",
       "      <td>Otros (sin especificar)</td>\n",
       "      <td>2</td>\n",
       "      <td>2002-01-09</td>\n",
       "      <td>2007-01-08</td>\n",
       "      <td>25</td>\n",
       "      <td>5</td>\n",
       "      <td>2002-03</td>\n",
       "      <td>2007-08</td>\n",
       "      <td>1</td>\n",
       "    </tr>\n",
       "  </tbody>\n",
       "</table>\n",
       "</div>"
      ],
      "text/plain": [
       "      id             tipo_studio  \\\n",
       "0  36957                   Grado   \n",
       "1  37041                   Grado   \n",
       "2  24088  Primer y segundo ciclo   \n",
       "3  29263  Primer y segundo ciclo   \n",
       "4   5679  Primer y segundo ciclo   \n",
       "\n",
       "                                          titulacion  \\\n",
       "0                        GRADO EN EDUCACIÓN PRIMARIA   \n",
       "1                        GRADO EN EDUCACIÓN PRIMARIA   \n",
       "2  ING. TÉC. OBRAS PÚB. (ESPECIALIDAD EN CONST. C...   \n",
       "3                                  INGENIERO QUÍMICO   \n",
       "4  INGENIERO TÉCNICO FORESTAL (ESPECIALIDAD EN EX...   \n",
       "\n",
       "                                                 dni sexo       fnac  \\\n",
       "0  19a9b555a1c6b860c9c68039d1a3ff9d36a49ec3c2b67e...    M 1993-03-27   \n",
       "1  8adf6e032c747e87ffcd7ac9ccf885d653c6b689071f9a...    M 2000-07-08   \n",
       "2  73a526034466484b0e207f81f45b455d844822bf20442e...    M 1988-09-08   \n",
       "3  2fa7d47d08dea2cc0b6deb109d0fa0964ac0093f40ec46...    M 1989-09-14   \n",
       "4  74477b74079d34e19f4a3d4a1b6e5bbdd6bd3ac1e77fab...    M 1982-12-26   \n",
       "\n",
       "  municipio_familiar          centro_secundaria orden_preinscripcion  \\\n",
       "0          SALVALEÓN  I.E.S VIRGEN DE SOTERRAÑO                  3.0   \n",
       "1     ALDEA DEL CANO         I.E.S. EL BROCENSE                  1.0   \n",
       "2            BADAJOZ                        NaN                  1.0   \n",
       "3            MONTIJO                        NaN                  1.0   \n",
       "4           TRUJILLO                        NaN                  2.0   \n",
       "\n",
       "    tipo_acceso           subtipo_acceso  num_estudios fecha_inicio  \\\n",
       "0  Selectividad             LOE (Grados)             2   2011-01-09   \n",
       "1  Selectividad             LOE (Grados)             1   2012-01-09   \n",
       "2  Selectividad                    LOGSE             1   2006-01-09   \n",
       "3  Selectividad                    LOGSE             1   2007-01-09   \n",
       "4  Selectividad  Otros (sin especificar)             2   2002-01-09   \n",
       "\n",
       "   fecha_fin  edad_fin  duracion_studio curso_inicio curso_fin  total  \n",
       "0 2014-01-08        21                3      2011-12   2014-15      1  \n",
       "1 2014-01-08        26                2      2012-13   2014-15      1  \n",
       "2 2011-01-08        23                5      2006-07   2011-12      1  \n",
       "3 2012-01-08        23                5      2007-08   2012-13      1  \n",
       "4 2007-01-08        25                5      2002-03   2007-08      1  "
      ]
     },
     "execution_count": 14,
     "metadata": {},
     "output_type": "execute_result"
    }
   ],
   "source": [
    "dv_uex_190401_filtrado_personas.head()"
   ]
  },
  {
   "cell_type": "code",
   "execution_count": 15,
   "metadata": {},
   "outputs": [
    {
     "data": {
      "application/vnd.jupyter.widget-view+json": {
       "model_id": "8cd224ca6b114867ad7a15b7fb6116ef",
       "version_major": 2,
       "version_minor": 0
      },
      "text/plain": [
       "HBox(children=(FloatProgress(value=0.0, description='Summarize dataset', max=33.0, style=ProgressStyle(descrip…"
      ]
     },
     "metadata": {},
     "output_type": "display_data"
    },
    {
     "name": "stdout",
     "output_type": "stream",
     "text": [
      "\n"
     ]
    },
    {
     "data": {
      "application/vnd.jupyter.widget-view+json": {
       "model_id": "7fd960afde144c3b8df4e90ff1df2b48",
       "version_major": 2,
       "version_minor": 0
      },
      "text/plain": [
       "HBox(children=(FloatProgress(value=0.0, description='Generate report structure', max=1.0, style=ProgressStyle(…"
      ]
     },
     "metadata": {},
     "output_type": "display_data"
    },
    {
     "name": "stdout",
     "output_type": "stream",
     "text": [
      "\n"
     ]
    },
    {
     "data": {
      "application/vnd.jupyter.widget-view+json": {
       "model_id": "cadb22c972994c1da462b8f3ec102fe0",
       "version_major": 2,
       "version_minor": 0
      },
      "text/plain": [
       "HBox(children=(FloatProgress(value=0.0, description='Render HTML', max=1.0, style=ProgressStyle(description_wi…"
      ]
     },
     "metadata": {},
     "output_type": "display_data"
    },
    {
     "name": "stdout",
     "output_type": "stream",
     "text": [
      "\n"
     ]
    },
    {
     "ename": "ModuleNotFoundError",
     "evalue": "No module named 'htmlmin.main'",
     "output_type": "error",
     "traceback": [
      "\u001b[1;31m---------------------------------------------------------------------------\u001b[0m",
      "\u001b[1;31mModuleNotFoundError\u001b[0m                       Traceback (most recent call last)",
      "\u001b[1;32m<ipython-input-15-dcd7230c0ebd>\u001b[0m in \u001b[0;36m<module>\u001b[1;34m\u001b[0m\n\u001b[0;32m      1\u001b[0m \u001b[0mprof_dv_uex_190401_filtrado_personas_procesada\u001b[0m \u001b[1;33m=\u001b[0m \u001b[0mProfileReport\u001b[0m\u001b[1;33m(\u001b[0m\u001b[0mdv_uex_190401_filtrado_personas\u001b[0m\u001b[1;33m)\u001b[0m\u001b[1;33m\u001b[0m\u001b[1;33m\u001b[0m\u001b[0m\n\u001b[1;32m----> 2\u001b[1;33m \u001b[0mprof_dv_uex_190401_filtrado_personas_procesada\u001b[0m\u001b[1;33m.\u001b[0m\u001b[0mto_file\u001b[0m\u001b[1;33m(\u001b[0m\u001b[1;34m'profile_dv_uex_190401_filtrado_personas_procesada.html'\u001b[0m\u001b[1;33m)\u001b[0m\u001b[1;33m\u001b[0m\u001b[1;33m\u001b[0m\u001b[0m\n\u001b[0m",
      "\u001b[1;32mC:\\ProgramData\\Anaconda3\\lib\\site-packages\\pandas_profiling\\profile_report.py\u001b[0m in \u001b[0;36mto_file\u001b[1;34m(self, output_file, silent)\u001b[0m\n\u001b[0;32m    243\u001b[0m                 \u001b[0mcreate_html_assets\u001b[0m\u001b[1;33m(\u001b[0m\u001b[0moutput_file\u001b[0m\u001b[1;33m)\u001b[0m\u001b[1;33m\u001b[0m\u001b[1;33m\u001b[0m\u001b[0m\n\u001b[0;32m    244\u001b[0m \u001b[1;33m\u001b[0m\u001b[0m\n\u001b[1;32m--> 245\u001b[1;33m             \u001b[0mdata\u001b[0m \u001b[1;33m=\u001b[0m \u001b[0mself\u001b[0m\u001b[1;33m.\u001b[0m\u001b[0mto_html\u001b[0m\u001b[1;33m(\u001b[0m\u001b[1;33m)\u001b[0m\u001b[1;33m\u001b[0m\u001b[1;33m\u001b[0m\u001b[0m\n\u001b[0m\u001b[0;32m    246\u001b[0m \u001b[1;33m\u001b[0m\u001b[0m\n\u001b[0;32m    247\u001b[0m             \u001b[1;32mif\u001b[0m \u001b[0moutput_file\u001b[0m\u001b[1;33m.\u001b[0m\u001b[0msuffix\u001b[0m \u001b[1;33m!=\u001b[0m \u001b[1;34m\".html\"\u001b[0m\u001b[1;33m:\u001b[0m\u001b[1;33m\u001b[0m\u001b[1;33m\u001b[0m\u001b[0m\n",
      "\u001b[1;32mC:\\ProgramData\\Anaconda3\\lib\\site-packages\\pandas_profiling\\profile_report.py\u001b[0m in \u001b[0;36mto_html\u001b[1;34m(self)\u001b[0m\n\u001b[0;32m    346\u001b[0m \u001b[1;33m\u001b[0m\u001b[0m\n\u001b[0;32m    347\u001b[0m         \"\"\"\n\u001b[1;32m--> 348\u001b[1;33m         \u001b[1;32mreturn\u001b[0m \u001b[0mself\u001b[0m\u001b[1;33m.\u001b[0m\u001b[0mhtml\u001b[0m\u001b[1;33m\u001b[0m\u001b[1;33m\u001b[0m\u001b[0m\n\u001b[0m\u001b[0;32m    349\u001b[0m \u001b[1;33m\u001b[0m\u001b[0m\n\u001b[0;32m    350\u001b[0m     \u001b[1;32mdef\u001b[0m \u001b[0mto_json\u001b[0m\u001b[1;33m(\u001b[0m\u001b[0mself\u001b[0m\u001b[1;33m)\u001b[0m \u001b[1;33m->\u001b[0m \u001b[0mstr\u001b[0m\u001b[1;33m:\u001b[0m\u001b[1;33m\u001b[0m\u001b[1;33m\u001b[0m\u001b[0m\n",
      "\u001b[1;32mC:\\ProgramData\\Anaconda3\\lib\\site-packages\\pandas_profiling\\profile_report.py\u001b[0m in \u001b[0;36mhtml\u001b[1;34m(self)\u001b[0m\n\u001b[0;32m    166\u001b[0m     \u001b[1;32mdef\u001b[0m \u001b[0mhtml\u001b[0m\u001b[1;33m(\u001b[0m\u001b[0mself\u001b[0m\u001b[1;33m)\u001b[0m\u001b[1;33m:\u001b[0m\u001b[1;33m\u001b[0m\u001b[1;33m\u001b[0m\u001b[0m\n\u001b[0;32m    167\u001b[0m         \u001b[1;32mif\u001b[0m \u001b[0mself\u001b[0m\u001b[1;33m.\u001b[0m\u001b[0m_html\u001b[0m \u001b[1;32mis\u001b[0m \u001b[1;32mNone\u001b[0m\u001b[1;33m:\u001b[0m\u001b[1;33m\u001b[0m\u001b[1;33m\u001b[0m\u001b[0m\n\u001b[1;32m--> 168\u001b[1;33m             \u001b[0mself\u001b[0m\u001b[1;33m.\u001b[0m\u001b[0m_html\u001b[0m \u001b[1;33m=\u001b[0m \u001b[0mself\u001b[0m\u001b[1;33m.\u001b[0m\u001b[0m_render_html\u001b[0m\u001b[1;33m(\u001b[0m\u001b[1;33m)\u001b[0m\u001b[1;33m\u001b[0m\u001b[1;33m\u001b[0m\u001b[0m\n\u001b[0m\u001b[0;32m    169\u001b[0m         \u001b[1;32mreturn\u001b[0m \u001b[0mself\u001b[0m\u001b[1;33m.\u001b[0m\u001b[0m_html\u001b[0m\u001b[1;33m\u001b[0m\u001b[1;33m\u001b[0m\u001b[0m\n\u001b[0;32m    170\u001b[0m \u001b[1;33m\u001b[0m\u001b[0m\n",
      "\u001b[1;32mC:\\ProgramData\\Anaconda3\\lib\\site-packages\\pandas_profiling\\profile_report.py\u001b[0m in \u001b[0;36m_render_html\u001b[1;34m(self)\u001b[0m\n\u001b[0;32m    292\u001b[0m             \u001b[0mminify_html\u001b[0m \u001b[1;33m=\u001b[0m \u001b[0mconfig\u001b[0m\u001b[1;33m[\u001b[0m\u001b[1;34m\"html\"\u001b[0m\u001b[1;33m]\u001b[0m\u001b[1;33m[\u001b[0m\u001b[1;34m\"minify_html\"\u001b[0m\u001b[1;33m]\u001b[0m\u001b[1;33m.\u001b[0m\u001b[0mget\u001b[0m\u001b[1;33m(\u001b[0m\u001b[0mbool\u001b[0m\u001b[1;33m)\u001b[0m\u001b[1;33m\u001b[0m\u001b[1;33m\u001b[0m\u001b[0m\n\u001b[0;32m    293\u001b[0m             \u001b[1;32mif\u001b[0m \u001b[0mminify_html\u001b[0m\u001b[1;33m:\u001b[0m\u001b[1;33m\u001b[0m\u001b[1;33m\u001b[0m\u001b[0m\n\u001b[1;32m--> 294\u001b[1;33m                 \u001b[1;32mfrom\u001b[0m \u001b[0mhtmlmin\u001b[0m\u001b[1;33m.\u001b[0m\u001b[0mmain\u001b[0m \u001b[1;32mimport\u001b[0m \u001b[0mminify\u001b[0m\u001b[1;33m\u001b[0m\u001b[1;33m\u001b[0m\u001b[0m\n\u001b[0m\u001b[0;32m    295\u001b[0m \u001b[1;33m\u001b[0m\u001b[0m\n\u001b[0;32m    296\u001b[0m                 \u001b[0mhtml\u001b[0m \u001b[1;33m=\u001b[0m \u001b[0mminify\u001b[0m\u001b[1;33m(\u001b[0m\u001b[0mhtml\u001b[0m\u001b[1;33m,\u001b[0m \u001b[0mremove_all_empty_space\u001b[0m\u001b[1;33m=\u001b[0m\u001b[1;32mTrue\u001b[0m\u001b[1;33m,\u001b[0m \u001b[0mremove_comments\u001b[0m\u001b[1;33m=\u001b[0m\u001b[1;32mTrue\u001b[0m\u001b[1;33m)\u001b[0m\u001b[1;33m\u001b[0m\u001b[1;33m\u001b[0m\u001b[0m\n",
      "\u001b[1;31mModuleNotFoundError\u001b[0m: No module named 'htmlmin.main'"
     ]
    }
   ],
   "source": [
    "prof_dv_uex_190401_filtrado_personas_procesada = ProfileReport(dv_uex_190401_filtrado_personas)\n",
    "prof_dv_uex_190401_filtrado_personas_procesada.to_file('profile_dv_uex_190401_filtrado_personas_procesada.html')"
   ]
  },
  {
   "cell_type": "code",
   "execution_count": null,
   "metadata": {},
   "outputs": [],
   "source": [
    "prof_dv_uex_190401_filtrado_personas_procesada"
   ]
  },
  {
   "cell_type": "code",
   "execution_count": 17,
   "metadata": {
    "scrolled": true
   },
   "outputs": [],
   "source": [
    "dv_uex_190401_filtrado_personas_clean_columns = dv_uex_190401_filtrado_personas.copy()"
   ]
  },
  {
   "cell_type": "code",
   "execution_count": 18,
   "metadata": {},
   "outputs": [],
   "source": [
    "dv_uex_190401_filtrado_personas_clean_columns.drop('centro_secundaria', axis = 1, inplace = True)\n",
    "dv_uex_190401_filtrado_personas_clean_columns.drop('orden_preinscripcion', axis = 1, inplace = True)\n"
   ]
  },
  {
   "cell_type": "code",
   "execution_count": 19,
   "metadata": {},
   "outputs": [],
   "source": [
    "dv_uex_190401_filtrado_personas_clean_columns_rows = dv_uex_190401_filtrado_personas_clean_columns.dropna(axis = 0, inplace = True)"
   ]
  },
  {
   "cell_type": "code",
   "execution_count": 20,
   "metadata": {},
   "outputs": [
    {
     "data": {
      "text/plain": [
       "(26534, 17)"
      ]
     },
     "execution_count": 20,
     "metadata": {},
     "output_type": "execute_result"
    }
   ],
   "source": [
    "dv_uex_190401_filtrado_personas_clean_columns.shape"
   ]
  },
  {
   "cell_type": "code",
   "execution_count": 21,
   "metadata": {},
   "outputs": [],
   "source": [
    "dv_uex_190401_filtrado_personas_clean_columns_rows = dv_uex_190401_filtrado_personas_clean_columns.copy()"
   ]
  },
  {
   "cell_type": "code",
   "execution_count": 22,
   "metadata": {},
   "outputs": [],
   "source": [
    "dv_uex_190401_filtrado_personas_clean_columns_rows.dropna(axis = 0, inplace = True)"
   ]
  },
  {
   "cell_type": "code",
   "execution_count": 23,
   "metadata": {
    "scrolled": true
   },
   "outputs": [
    {
     "data": {
      "text/plain": [
       "(26534, 17)"
      ]
     },
     "execution_count": 23,
     "metadata": {},
     "output_type": "execute_result"
    }
   ],
   "source": [
    "dv_uex_190401_filtrado_personas_clean_columns_rows.shape"
   ]
  },
  {
   "cell_type": "code",
   "execution_count": 24,
   "metadata": {},
   "outputs": [],
   "source": [
    "dv_uex_190401_filtrado_personas_clean = dv_uex_190401_filtrado_personas_clean_columns_rows.copy()"
   ]
  },
  {
   "cell_type": "code",
   "execution_count": 25,
   "metadata": {
    "scrolled": true
   },
   "outputs": [],
   "source": [
    "dv_uex_190401_filtrado_personas_clean['municipio_familiar']= dv_uex_190401_filtrado_personas_clean['municipio_familiar'].cat.add_categories([\"Otro municipio\"])"
   ]
  },
  {
   "cell_type": "code",
   "execution_count": 26,
   "metadata": {},
   "outputs": [
    {
     "data": {
      "text/plain": [
       "Index(['A CORUÑA', 'ABADÍA', 'ABERTURA', 'ACEBO', 'ACEDERA', 'ACEHÚCHE',\n",
       "       'ACEITUNA', 'ACEUCHAL', 'AFGANISTAN', 'AGUDO',\n",
       "       ...\n",
       "       'ZARZA DE GRANADILLA', 'ZARZA DE MONTÁNCHEZ', 'ZARZA LA MAYOR',\n",
       "       'ZARZA-CAPILLA', 'ZORITA', 'ZURBARAN', 'ÁGUILAS', 'ÁVILA', 'ÉCIJA',\n",
       "       'Otro municipio'],\n",
       "      dtype='object', length=721)"
      ]
     },
     "execution_count": 26,
     "metadata": {},
     "output_type": "execute_result"
    }
   ],
   "source": [
    "dv_uex_190401_filtrado_personas_clean['municipio_familiar'].cat.categories"
   ]
  },
  {
   "cell_type": "code",
   "execution_count": 27,
   "metadata": {},
   "outputs": [],
   "source": [
    "for municipio in dv_uex_190401_filtrado_personas_clean.municipio_familiar.unique():\n",
    "    num_personas_municipio_x = len(dv_uex_190401_filtrado_personas_clean.loc[(dv_uex_190401_filtrado_personas_clean.municipio_familiar == municipio)].index)\n",
    "    if (num_personas_municipio_x < 10):\n",
    "        dv_uex_190401_filtrado_personas_clean.loc[(dv_uex_190401_filtrado_personas_clean.municipio_familiar == municipio),'municipio_familiar'] = \"Otro municipio\"\n"
   ]
  },
  {
   "cell_type": "code",
   "execution_count": 28,
   "metadata": {},
   "outputs": [
    {
     "data": {
      "text/plain": [
       "BADAJOZ           5943\n",
       "CÁCERES           4238\n",
       "MÉRIDA            1652\n",
       "Otro municipio    1344\n",
       "ALMENDRALEJO       528\n",
       "                  ... \n",
       "OROPESA              0\n",
       "ORPÍ                 0\n",
       "OVIEDO               0\n",
       "PALAZUELO            0\n",
       "A CORUÑA             0\n",
       "Name: municipio_familiar, Length: 721, dtype: int64"
      ]
     },
     "execution_count": 28,
     "metadata": {},
     "output_type": "execute_result"
    }
   ],
   "source": [
    "dv_uex_190401_filtrado_personas_clean['municipio_familiar'].value_counts() "
   ]
  },
  {
   "cell_type": "code",
   "execution_count": 29,
   "metadata": {},
   "outputs": [],
   "source": [
    "dv_uex_190401_filtrado_personas_clean['municipio_familiar'] = dv_uex_190401_filtrado_personas_clean['municipio_familiar'].cat.remove_unused_categories()"
   ]
  },
  {
   "cell_type": "code",
   "execution_count": 30,
   "metadata": {
    "scrolled": true
   },
   "outputs": [
    {
     "data": {
      "text/plain": [
       "BADAJOZ               5943\n",
       "CÁCERES               4238\n",
       "MÉRIDA                1652\n",
       "Otro municipio        1344\n",
       "ALMENDRALEJO           528\n",
       "                      ... \n",
       "HOYOS                   10\n",
       "GALISTEO                10\n",
       "MAGUILLA                10\n",
       "ZORITA                  10\n",
       "PUEBLA DE LA REINA      10\n",
       "Name: municipio_familiar, Length: 231, dtype: int64"
      ]
     },
     "execution_count": 30,
     "metadata": {},
     "output_type": "execute_result"
    }
   ],
   "source": [
    "dv_uex_190401_filtrado_personas_clean['municipio_familiar'].value_counts() "
   ]
  },
  {
   "cell_type": "code",
   "execution_count": 31,
   "metadata": {
    "scrolled": true
   },
   "outputs": [
    {
     "data": {
      "text/plain": [
       "MÁSTER UNIVERSITARIO EN FORMACIÓN DEL PROFESORADO EN EDUCACIÓN SECUNDARIA    1615\n",
       "GRADO EN EDUCACIÓN PRIMARIA                                                  1438\n",
       "GRADO EN ADMINISTRACIÓN Y DIRECCIÓN DE EMPRESAS                              1208\n",
       "GRADO EN ENFERMERÍA                                                          1144\n",
       "DIPLOMADO EN CIENCIAS EMPRESARIALES                                          1049\n",
       "                                                                             ... \n",
       "MÁSTER UNIVERSITARIO EN GESTIÓN DE LA INNOVACIÓN TECNOLÓGICA                    1\n",
       "MÁSTER UNIVERSITARIO EN DIRECCIÓN DE MARKETING                                  1\n",
       "MÁSTER UNIVERSITARIO EN CIRUGÍA DE MÍNIMA INVASIÓN UROLÓGICA AVANZADA           1\n",
       "LICENCIADO EN FILOSOFÍA Y LETRAS (DIVISIÓN FILOLOGÍA)                           1\n",
       "PCEO: ING. EN TELEMÁTICA/ING. INFORMÁTICA TEC. INFORMACIÓN                      1\n",
       "Name: titulacion, Length: 205, dtype: int64"
      ]
     },
     "execution_count": 31,
     "metadata": {},
     "output_type": "execute_result"
    }
   ],
   "source": [
    "dv_uex_190401_filtrado_personas_clean['titulacion'].value_counts()"
   ]
  },
  {
   "cell_type": "code",
   "execution_count": 32,
   "metadata": {},
   "outputs": [],
   "source": [
    "dv_uex_190401_filtrado_personas_clean['titulacion']= dv_uex_190401_filtrado_personas_clean['titulacion'].cat.add_categories([\"Otra titulacion\"])"
   ]
  },
  {
   "cell_type": "code",
   "execution_count": 33,
   "metadata": {
    "scrolled": true
   },
   "outputs": [
    {
     "data": {
      "text/plain": [
       "MÁSTER UNIVERSITARIO EN FORMACIÓN DEL PROFESORADO EN EDUCACIÓN SECUNDARIA    1615\n",
       "GRADO EN EDUCACIÓN PRIMARIA                                                  1438\n",
       "GRADO EN ADMINISTRACIÓN Y DIRECCIÓN DE EMPRESAS                              1208\n",
       "GRADO EN ENFERMERÍA                                                          1144\n",
       "DIPLOMADO EN CIENCIAS EMPRESARIALES                                          1049\n",
       "                                                                             ... \n",
       "LICENCIADO EN FILOSOFÍA Y LETRAS (DIVISIÓN FILOLOGÍA)                           1\n",
       "MÁSTER UNIV. ENDOSCOPIA Y CIRUGÍA DE MÍNIMA INVASIÓN EN PEQUEÑOS ANIMALES       1\n",
       "MÁSTER UNIVERSITARIO EN GESTIÓN DE LA INNOVACIÓN TECNOLÓGICA                    1\n",
       "MÁSTER UNIVERSITARIO EN CIRUGÍA DE MÍNIMA INVASIÓN UROLÓGICA AVANZADA           1\n",
       "Otra titulacion                                                                 0\n",
       "Name: titulacion, Length: 206, dtype: int64"
      ]
     },
     "execution_count": 33,
     "metadata": {},
     "output_type": "execute_result"
    }
   ],
   "source": [
    "dv_uex_190401_filtrado_personas_clean['titulacion'].value_counts()"
   ]
  },
  {
   "cell_type": "code",
   "execution_count": 34,
   "metadata": {},
   "outputs": [],
   "source": [
    "for titulacion in dv_uex_190401_filtrado_personas_clean.titulacion.unique():\n",
    "    num_personas_titulacion_x = len(dv_uex_190401_filtrado_personas_clean.loc[(dv_uex_190401_filtrado_personas_clean.titulacion == titulacion)].index)\n",
    "    if (num_personas_titulacion_x < 10):\n",
    "        dv_uex_190401_filtrado_personas_clean.loc[(dv_uex_190401_filtrado_personas_clean.titulacion == titulacion),'titulacion'] = \"Otra titulacion\"\n",
    "\n"
   ]
  },
  {
   "cell_type": "code",
   "execution_count": 35,
   "metadata": {},
   "outputs": [
    {
     "data": {
      "text/plain": [
       "MÁSTER UNIVERSITARIO EN FORMACIÓN DEL PROFESORADO EN EDUCACIÓN SECUNDARIA     1615\n",
       "GRADO EN EDUCACIÓN PRIMARIA                                                   1438\n",
       "GRADO EN ADMINISTRACIÓN Y DIRECCIÓN DE EMPRESAS                               1208\n",
       "GRADO EN ENFERMERÍA                                                           1144\n",
       "DIPLOMADO EN CIENCIAS EMPRESARIALES                                           1049\n",
       "                                                                              ... \n",
       "LICENCIADO EN FILOSOFÍA Y LETRAS (DIVISIÓN FILOLOGÍA)                            0\n",
       "MÁSTER UNIVERSITARIO EN COMPUTACIÓN GRID Y PARALELISMO                           0\n",
       "MÁSTER UNIVERSITARIO EN GESTIÓN DE LA GANADERÍA EXTENSIVA                        0\n",
       "M.U. EN GESTIÓN DE INFOR. REDES SOCIALES Y LOS PROD. DIGITALES EN INTERNET       0\n",
       "MÁSTER UNIV. ENDOSCOPIA Y CIRUGÍA DE MÍNIMA INVASIÓN EN PEQUEÑOS ANIMALES        0\n",
       "Name: titulacion, Length: 206, dtype: int64"
      ]
     },
     "execution_count": 35,
     "metadata": {},
     "output_type": "execute_result"
    }
   ],
   "source": [
    "dv_uex_190401_filtrado_personas_clean['titulacion'].value_counts()"
   ]
  },
  {
   "cell_type": "code",
   "execution_count": 36,
   "metadata": {},
   "outputs": [],
   "source": [
    "dv_uex_190401_filtrado_personas_clean['titulacion'] = dv_uex_190401_filtrado_personas_clean['titulacion'].cat.remove_unused_categories()"
   ]
  },
  {
   "cell_type": "code",
   "execution_count": 37,
   "metadata": {},
   "outputs": [
    {
     "data": {
      "text/plain": [
       "97"
      ]
     },
     "execution_count": 37,
     "metadata": {},
     "output_type": "execute_result"
    }
   ],
   "source": [
    " len (dv_uex_190401_filtrado_personas_clean.loc[(dv_uex_190401_filtrado_personas_clean.titulacion == 'Otra titulacion')].index)"
   ]
  },
  {
   "cell_type": "code",
   "execution_count": 38,
   "metadata": {
    "scrolled": true
   },
   "outputs": [],
   "source": [
    "feather.write_dataframe(dv_uex_190401_filtrado_personas_clean,'./data/dv_uex_190401_filtrado_personas_clean')"
   ]
  },
  {
   "cell_type": "code",
   "execution_count": 39,
   "metadata": {
    "scrolled": true
   },
   "outputs": [],
   "source": [
    "pingfInfoFilePath = './data/dv_uex_190401_filtrado_personas_clean'\n",
    "dv_uex_190401_filtrado_personas_clean = pd.read_feather(pingfInfoFilePath,columns=None, use_threads=True)\n",
    "dv_uex_190401_filtrado_personas_clean.head()"
   ]
  },
  {
   "cell_type": "markdown",
   "metadata": {},
   "source": [
    "### Extracción de características del dataset dv_historial_contratos_190411"
   ]
  },
  {
   "cell_type": "code",
   "execution_count": 40,
   "metadata": {
    "scrolled": true
   },
   "outputs": [
    {
     "data": {
      "text/plain": [
       "dni                          object\n",
       "cod_tipo                      int64\n",
       "descripcion                  object\n",
       "fecha_inicio                 object\n",
       "fecha_fin                    object\n",
       "tipologia                    object\n",
       "cno_cod                       int64\n",
       "cno_desc                     object\n",
       "actividad_economica_cod       int64\n",
       "actividad_economica_desc     object\n",
       "seccion_economica            object\n",
       "sector                       object\n",
       "localidad_cod               float64\n",
       "famprof_id                   object\n",
       "id                            int64\n",
       "duracion_contrato_dias      float64\n",
       "total                         int64\n",
       "estudios                     object\n",
       "edad_inicio_contrato          int64\n",
       "dtype: object"
      ]
     },
     "execution_count": 40,
     "metadata": {},
     "output_type": "execute_result"
    }
   ],
   "source": [
    "dv_historial_contratos_190411.dtypes"
   ]
  },
  {
   "cell_type": "code",
   "execution_count": 41,
   "metadata": {},
   "outputs": [],
   "source": [
    "categoricalCols = ['cod_tipo','descripcion','tipologia','cno_cod','cno_desc','actividad_economica_cod','actividad_economica_desc','seccion_economica','sector','localidad_cod','famprof_id','estudios']"
   ]
  },
  {
   "cell_type": "code",
   "execution_count": 42,
   "metadata": {},
   "outputs": [],
   "source": [
    "dateCols = ['fecha_inicio','fecha_fin']"
   ]
  },
  {
   "cell_type": "code",
   "execution_count": 43,
   "metadata": {
    "scrolled": true
   },
   "outputs": [
    {
     "data": {
      "text/plain": [
       "dni                                 object\n",
       "cod_tipo                          category\n",
       "descripcion                       category\n",
       "fecha_inicio                datetime64[ns]\n",
       "fecha_fin                   datetime64[ns]\n",
       "tipologia                         category\n",
       "cno_cod                           category\n",
       "cno_desc                          category\n",
       "actividad_economica_cod           category\n",
       "actividad_economica_desc          category\n",
       "seccion_economica                 category\n",
       "sector                            category\n",
       "localidad_cod                     category\n",
       "famprof_id                        category\n",
       "id                                   int64\n",
       "duracion_contrato_dias             float64\n",
       "total                                int64\n",
       "estudios                          category\n",
       "edad_inicio_contrato                 int64\n",
       "dtype: object"
      ]
     },
     "execution_count": 43,
     "metadata": {},
     "output_type": "execute_result"
    }
   ],
   "source": [
    "for col in categoricalCols:\n",
    "    dv_historial_contratos_190411[col] = dv_historial_contratos_190411[col].astype('category')\n",
    "for col in dateCols:\n",
    "    dv_historial_contratos_190411[col] = pd.to_datetime(dv_historial_contratos_190411[col])\n",
    "dv_historial_contratos_190411.dtypes"
   ]
  },
  {
   "cell_type": "code",
   "execution_count": 44,
   "metadata": {},
   "outputs": [],
   "source": [
    "dv_historial_contratos_190411['estudios'] = dv_historial_contratos_190411['estudios'].astype('bool')"
   ]
  },
  {
   "cell_type": "code",
   "execution_count": 45,
   "metadata": {},
   "outputs": [
    {
     "data": {
      "text/html": [
       "<div>\n",
       "<style scoped>\n",
       "    .dataframe tbody tr th:only-of-type {\n",
       "        vertical-align: middle;\n",
       "    }\n",
       "\n",
       "    .dataframe tbody tr th {\n",
       "        vertical-align: top;\n",
       "    }\n",
       "\n",
       "    .dataframe thead th {\n",
       "        text-align: right;\n",
       "    }\n",
       "</style>\n",
       "<table border=\"1\" class=\"dataframe\">\n",
       "  <thead>\n",
       "    <tr style=\"text-align: right;\">\n",
       "      <th></th>\n",
       "      <th>dni</th>\n",
       "      <th>cod_tipo</th>\n",
       "      <th>descripcion</th>\n",
       "      <th>fecha_inicio</th>\n",
       "      <th>fecha_fin</th>\n",
       "      <th>tipologia</th>\n",
       "      <th>cno_cod</th>\n",
       "      <th>cno_desc</th>\n",
       "      <th>actividad_economica_cod</th>\n",
       "      <th>actividad_economica_desc</th>\n",
       "      <th>seccion_economica</th>\n",
       "      <th>sector</th>\n",
       "      <th>localidad_cod</th>\n",
       "      <th>famprof_id</th>\n",
       "      <th>id</th>\n",
       "      <th>duracion_contrato_dias</th>\n",
       "      <th>total</th>\n",
       "      <th>estudios</th>\n",
       "      <th>edad_inicio_contrato</th>\n",
       "    </tr>\n",
       "  </thead>\n",
       "  <tbody>\n",
       "    <tr>\n",
       "      <th>0</th>\n",
       "      <td>e84f231536b1ad08b01ff8506ff2317bf0c2c460b02fa8...</td>\n",
       "      <td>402</td>\n",
       "      <td>EVENTUAL A TIEMPO COMPLETO CIRCUNSTANCIAS DE L...</td>\n",
       "      <td>2010-07-25</td>\n",
       "      <td>2010-07-25</td>\n",
       "      <td>TEMPORAL</td>\n",
       "      <td>2630</td>\n",
       "      <td>TECNICOS DE EMPRESAS Y ACTIVIDADES TURISTICAS</td>\n",
       "      <td>77</td>\n",
       "      <td>Actividades de alquiler</td>\n",
       "      <td>ACTIVIDADES ADMINISTRATIVAS Y SERVICIOS AUXILI...</td>\n",
       "      <td>SERVICIOS</td>\n",
       "      <td>6015.0</td>\n",
       "      <td>FCO</td>\n",
       "      <td>103833</td>\n",
       "      <td>1.0</td>\n",
       "      <td>1</td>\n",
       "      <td>True</td>\n",
       "      <td>31</td>\n",
       "    </tr>\n",
       "    <tr>\n",
       "      <th>1</th>\n",
       "      <td>28c55e81e8ac34e4ce37fc04d4a519822969e9dc0de41b...</td>\n",
       "      <td>502</td>\n",
       "      <td>EVENTUAL A TIEMPO PARCIAL CIRCUNSTANCIAS DE LA...</td>\n",
       "      <td>2017-11-28</td>\n",
       "      <td>2017-11-28</td>\n",
       "      <td>TEMPORAL</td>\n",
       "      <td>5824</td>\n",
       "      <td>AZAFATOS DE TIERRA</td>\n",
       "      <td>78</td>\n",
       "      <td>Actividades relacionadas con el empleo</td>\n",
       "      <td>ACTIVIDADES ADMINISTRATIVAS Y SERVICIOS AUXILI...</td>\n",
       "      <td>SERVICIOS</td>\n",
       "      <td>6015.0</td>\n",
       "      <td>FCO</td>\n",
       "      <td>499104</td>\n",
       "      <td>1.0</td>\n",
       "      <td>1</td>\n",
       "      <td>True</td>\n",
       "      <td>23</td>\n",
       "    </tr>\n",
       "    <tr>\n",
       "      <th>2</th>\n",
       "      <td>03dda4db89262c831360c859cd18b68b2b44ba7e3c3806...</td>\n",
       "      <td>402</td>\n",
       "      <td>EVENTUAL A TIEMPO COMPLETO CIRCUNSTANCIAS DE L...</td>\n",
       "      <td>2006-03-28</td>\n",
       "      <td>2006-03-28</td>\n",
       "      <td>TEMPORAL</td>\n",
       "      <td>5824</td>\n",
       "      <td>AZAFATOS DE TIERRA</td>\n",
       "      <td>52</td>\n",
       "      <td>Almacenamiento y actividades anexas al transporte</td>\n",
       "      <td>TRANSPORTE Y ALMACENAMIENTO</td>\n",
       "      <td>SERVICIOS</td>\n",
       "      <td>6015.0</td>\n",
       "      <td>FCO</td>\n",
       "      <td>455531</td>\n",
       "      <td>1.0</td>\n",
       "      <td>1</td>\n",
       "      <td>True</td>\n",
       "      <td>22</td>\n",
       "    </tr>\n",
       "    <tr>\n",
       "      <th>3</th>\n",
       "      <td>9b91cc5cd1b11d613160c96159a1a5d3d6eba44052a656...</td>\n",
       "      <td>502</td>\n",
       "      <td>EVENTUAL A TIEMPO PARCIAL CIRCUNSTANCIAS DE LA...</td>\n",
       "      <td>2017-03-26</td>\n",
       "      <td>2017-03-26</td>\n",
       "      <td>TEMPORAL</td>\n",
       "      <td>5120</td>\n",
       "      <td>CAMAREROS ASALARIADOS</td>\n",
       "      <td>56</td>\n",
       "      <td>Servicios de comidas y bebidas</td>\n",
       "      <td>HOSTELERÍA</td>\n",
       "      <td>SERVICIOS</td>\n",
       "      <td>6015.0</td>\n",
       "      <td>HOT</td>\n",
       "      <td>243872</td>\n",
       "      <td>1.0</td>\n",
       "      <td>1</td>\n",
       "      <td>True</td>\n",
       "      <td>25</td>\n",
       "    </tr>\n",
       "    <tr>\n",
       "      <th>4</th>\n",
       "      <td>ea980973d9987081ee700a7ea8d241ef8eb36e3abe767b...</td>\n",
       "      <td>502</td>\n",
       "      <td>EVENTUAL A TIEMPO PARCIAL CIRCUNSTANCIAS DE LA...</td>\n",
       "      <td>2016-06-05</td>\n",
       "      <td>2016-06-05</td>\n",
       "      <td>TEMPORAL</td>\n",
       "      <td>5120</td>\n",
       "      <td>CAMAREROS ASALARIADOS</td>\n",
       "      <td>56</td>\n",
       "      <td>Servicios de comidas y bebidas</td>\n",
       "      <td>HOSTELERÍA</td>\n",
       "      <td>SERVICIOS</td>\n",
       "      <td>10139.0</td>\n",
       "      <td>HOT</td>\n",
       "      <td>364314</td>\n",
       "      <td>1.0</td>\n",
       "      <td>1</td>\n",
       "      <td>True</td>\n",
       "      <td>23</td>\n",
       "    </tr>\n",
       "  </tbody>\n",
       "</table>\n",
       "</div>"
      ],
      "text/plain": [
       "                                                 dni cod_tipo  \\\n",
       "0  e84f231536b1ad08b01ff8506ff2317bf0c2c460b02fa8...      402   \n",
       "1  28c55e81e8ac34e4ce37fc04d4a519822969e9dc0de41b...      502   \n",
       "2  03dda4db89262c831360c859cd18b68b2b44ba7e3c3806...      402   \n",
       "3  9b91cc5cd1b11d613160c96159a1a5d3d6eba44052a656...      502   \n",
       "4  ea980973d9987081ee700a7ea8d241ef8eb36e3abe767b...      502   \n",
       "\n",
       "                                         descripcion fecha_inicio  fecha_fin  \\\n",
       "0  EVENTUAL A TIEMPO COMPLETO CIRCUNSTANCIAS DE L...   2010-07-25 2010-07-25   \n",
       "1  EVENTUAL A TIEMPO PARCIAL CIRCUNSTANCIAS DE LA...   2017-11-28 2017-11-28   \n",
       "2  EVENTUAL A TIEMPO COMPLETO CIRCUNSTANCIAS DE L...   2006-03-28 2006-03-28   \n",
       "3  EVENTUAL A TIEMPO PARCIAL CIRCUNSTANCIAS DE LA...   2017-03-26 2017-03-26   \n",
       "4  EVENTUAL A TIEMPO PARCIAL CIRCUNSTANCIAS DE LA...   2016-06-05 2016-06-05   \n",
       "\n",
       "  tipologia cno_cod                                       cno_desc  \\\n",
       "0  TEMPORAL    2630  TECNICOS DE EMPRESAS Y ACTIVIDADES TURISTICAS   \n",
       "1  TEMPORAL    5824                             AZAFATOS DE TIERRA   \n",
       "2  TEMPORAL    5824                             AZAFATOS DE TIERRA   \n",
       "3  TEMPORAL    5120                          CAMAREROS ASALARIADOS   \n",
       "4  TEMPORAL    5120                          CAMAREROS ASALARIADOS   \n",
       "\n",
       "  actividad_economica_cod                           actividad_economica_desc  \\\n",
       "0                      77                            Actividades de alquiler   \n",
       "1                      78             Actividades relacionadas con el empleo   \n",
       "2                      52  Almacenamiento y actividades anexas al transporte   \n",
       "3                      56                     Servicios de comidas y bebidas   \n",
       "4                      56                     Servicios de comidas y bebidas   \n",
       "\n",
       "                                   seccion_economica     sector localidad_cod  \\\n",
       "0  ACTIVIDADES ADMINISTRATIVAS Y SERVICIOS AUXILI...  SERVICIOS        6015.0   \n",
       "1  ACTIVIDADES ADMINISTRATIVAS Y SERVICIOS AUXILI...  SERVICIOS        6015.0   \n",
       "2                        TRANSPORTE Y ALMACENAMIENTO  SERVICIOS        6015.0   \n",
       "3                                         HOSTELERÍA  SERVICIOS        6015.0   \n",
       "4                                         HOSTELERÍA  SERVICIOS       10139.0   \n",
       "\n",
       "  famprof_id      id  duracion_contrato_dias  total  estudios  \\\n",
       "0        FCO  103833                     1.0      1      True   \n",
       "1        FCO  499104                     1.0      1      True   \n",
       "2        FCO  455531                     1.0      1      True   \n",
       "3        HOT  243872                     1.0      1      True   \n",
       "4        HOT  364314                     1.0      1      True   \n",
       "\n",
       "   edad_inicio_contrato  \n",
       "0                    31  \n",
       "1                    23  \n",
       "2                    22  \n",
       "3                    25  \n",
       "4                    23  "
      ]
     },
     "execution_count": 45,
     "metadata": {},
     "output_type": "execute_result"
    }
   ],
   "source": [
    "dv_historial_contratos_190411.head()"
   ]
  },
  {
   "cell_type": "code",
   "execution_count": 47,
   "metadata": {},
   "outputs": [
    {
     "data": {
      "application/vnd.jupyter.widget-view+json": {
       "model_id": "799c6f55b4ee423bab8034b0ce5ed98b",
       "version_major": 2,
       "version_minor": 0
      },
      "text/plain": [
       "HBox(children=(FloatProgress(value=0.0, description='variables', max=19.0, style=ProgressStyle(description_wid…"
      ]
     },
     "metadata": {},
     "output_type": "display_data"
    },
    {
     "name": "stdout",
     "output_type": "stream",
     "text": [
      "\n"
     ]
    },
    {
     "data": {
      "application/vnd.jupyter.widget-view+json": {
       "model_id": "42a246308868483ca0591a87c7304584",
       "version_major": 2,
       "version_minor": 0
      },
      "text/plain": [
       "HBox(children=(FloatProgress(value=0.0, description='correlations', max=6.0, style=ProgressStyle(description_w…"
      ]
     },
     "metadata": {},
     "output_type": "display_data"
    },
    {
     "name": "stdout",
     "output_type": "stream",
     "text": [
      "\n"
     ]
    },
    {
     "data": {
      "application/vnd.jupyter.widget-view+json": {
       "model_id": "345b0707acd74ef1abd0668d4cecf01b",
       "version_major": 2,
       "version_minor": 0
      },
      "text/plain": [
       "HBox(children=(FloatProgress(value=0.0, description='interactions [continuous]', max=9.0, style=ProgressStyle(…"
      ]
     },
     "metadata": {},
     "output_type": "display_data"
    },
    {
     "name": "stdout",
     "output_type": "stream",
     "text": [
      "\n"
     ]
    },
    {
     "data": {
      "application/vnd.jupyter.widget-view+json": {
       "model_id": "234afa5970a244abb4fbbd7e72cac8ae",
       "version_major": 2,
       "version_minor": 0
      },
      "text/plain": [
       "HBox(children=(FloatProgress(value=0.0, description='table', max=1.0, style=ProgressStyle(description_width='i…"
      ]
     },
     "metadata": {},
     "output_type": "display_data"
    },
    {
     "name": "stdout",
     "output_type": "stream",
     "text": [
      "\n"
     ]
    },
    {
     "data": {
      "application/vnd.jupyter.widget-view+json": {
       "model_id": "867d7e400af64260aecff0d9ef75c3b1",
       "version_major": 2,
       "version_minor": 0
      },
      "text/plain": [
       "HBox(children=(FloatProgress(value=0.0, description='missing', max=4.0, style=ProgressStyle(description_width=…"
      ]
     },
     "metadata": {},
     "output_type": "display_data"
    },
    {
     "name": "stdout",
     "output_type": "stream",
     "text": [
      "\n"
     ]
    },
    {
     "data": {
      "application/vnd.jupyter.widget-view+json": {
       "model_id": "1507c0b7ffdb4fd88493a94d33355e99",
       "version_major": 2,
       "version_minor": 0
      },
      "text/plain": [
       "HBox(children=(FloatProgress(value=0.0, description='warnings', max=3.0, style=ProgressStyle(description_width…"
      ]
     },
     "metadata": {},
     "output_type": "display_data"
    },
    {
     "name": "stdout",
     "output_type": "stream",
     "text": [
      "\n"
     ]
    },
    {
     "data": {
      "application/vnd.jupyter.widget-view+json": {
       "model_id": "de3a8c1f17314ca2b42880f23f8ba2a9",
       "version_major": 2,
       "version_minor": 0
      },
      "text/plain": [
       "HBox(children=(FloatProgress(value=0.0, description='package', max=1.0, style=ProgressStyle(description_width=…"
      ]
     },
     "metadata": {},
     "output_type": "display_data"
    },
    {
     "name": "stdout",
     "output_type": "stream",
     "text": [
      "\n"
     ]
    },
    {
     "data": {
      "application/vnd.jupyter.widget-view+json": {
       "model_id": "900986cf666e4073ba4ce0d029f63a38",
       "version_major": 2,
       "version_minor": 0
      },
      "text/plain": [
       "HBox(children=(FloatProgress(value=0.0, description='build report structure', max=1.0, style=ProgressStyle(des…"
      ]
     },
     "metadata": {},
     "output_type": "display_data"
    },
    {
     "name": "stdout",
     "output_type": "stream",
     "text": [
      "\n"
     ]
    }
   ],
   "source": [
    "prof_dv_historial_contratos_190411_procesada = ProfileReport(dv_historial_contratos_190411)\n",
    "prof_dv_historial_contratos_190411_procesada.to_file('profile_dv_historial_contratos_190411_procesada.html')"
   ]
  },
  {
   "cell_type": "code",
   "execution_count": 49,
   "metadata": {
    "scrolled": true
   },
   "outputs": [
    {
     "data": {
      "text/plain": [
       "(171608, 19)"
      ]
     },
     "execution_count": 49,
     "metadata": {},
     "output_type": "execute_result"
    }
   ],
   "source": [
    "dv_historial_contratos_190411.shape"
   ]
  },
  {
   "cell_type": "code",
   "execution_count": 50,
   "metadata": {},
   "outputs": [
    {
     "data": {
      "text/plain": [
       "(113576, 19)"
      ]
     },
     "execution_count": 50,
     "metadata": {},
     "output_type": "execute_result"
    }
   ],
   "source": [
    "dv_historial_contratos_190411_clean = dv_historial_contratos_190411.copy()\n",
    "dv_historial_contratos_190411_clean.dropna(axis = 0, inplace = True)\n",
    "dv_historial_contratos_190411_clean.shape"
   ]
  },
  {
   "cell_type": "code",
   "execution_count": 51,
   "metadata": {},
   "outputs": [],
   "source": [
    "feather.write_dataframe(dv_historial_contratos_190411_clean,'./data/dv_historial_contratos_190411_clean')"
   ]
  },
  {
   "cell_type": "code",
   "execution_count": 52,
   "metadata": {},
   "outputs": [],
   "source": [
    "pingfInfoFilePath = './data/dv_historial_contratos_190411_clean'\n",
    "dv_historial_contratos_190411_clean = pd.read_feather(pingfInfoFilePath,columns=None, use_threads=True)\n",
    "dv_historial_contratos_190411_clean.head()"
   ]
  },
  {
   "cell_type": "markdown",
   "metadata": {},
   "source": [
    "### Extracción de características del dataset dv_erasmus_180108_2005a2012_filtrado_persona"
   ]
  },
  {
   "cell_type": "code",
   "execution_count": 53,
   "metadata": {},
   "outputs": [
    {
     "data": {
      "text/plain": [
       "id                                          int64\n",
       "curso                                      object\n",
       "dni                                        object\n",
       "edad                                        int64\n",
       "sexo                                       object\n",
       "nacionalidad                               object\n",
       "area_estudio                               object\n",
       "titulacion                                 object\n",
       "nivel_estudio                              object\n",
       "anos_estudio_previo_erasmus               float64\n",
       "tipo_movilidad                             object\n",
       "institucion_acogida                        object\n",
       "estudios_duracion_meses                   float64\n",
       "estudios_comienzo_mes                      object\n",
       "estudios_num_creditos_ects                float64\n",
       "estudios_beca                             float64\n",
       "practicas_pais                             object\n",
       "practicas_empresa                          object\n",
       "practicas_empresa_tam                      object\n",
       "practicas_empresa_tipo                     object\n",
       "practicas_duracion_meses                  float64\n",
       "practicas_comienzo_mes                     object\n",
       "practicas_num_creditos_ects               float64\n",
       "practicas_beca                            float64\n",
       "aprendizaje_idioma_anfitrion               object\n",
       "idioma_de_formacion_recibida               object\n",
       "participacion_previa_erasmus               object\n",
       "cualificacion_obtenida_en_pais_acogida     object\n",
       "eilc_sms_beca                             float64\n",
       "eilc_smp_beca                             float64\n",
       "eilc_sms_duracion                          object\n",
       "estudios_pais                              object\n",
       "pais_destino                               object\n",
       "total                                       int64\n",
       "dtype: object"
      ]
     },
     "execution_count": 53,
     "metadata": {},
     "output_type": "execute_result"
    }
   ],
   "source": [
    "dv_erasmus_180108_2005a2012_filtrado_persona.dtypes"
   ]
  },
  {
   "cell_type": "code",
   "execution_count": 54,
   "metadata": {},
   "outputs": [],
   "source": [
    "categoricalCols = ['curso','sexo','nacionalidad','area_estudio','titulacion','nivel_estudio','tipo_movilidad','institucion_acogida','practicas_pais','practicas_empresa','practicas_empresa_tam','practicas_empresa_tipo','practicas_comienzo_mes','aprendizaje_idioma_anfitrion','idioma_de_formacion_recibida','participacion_previa_erasmus','cualificacion_obtenida_en_pais_acogida','estudios_pais','pais_destino']"
   ]
  },
  {
   "cell_type": "code",
   "execution_count": 55,
   "metadata": {},
   "outputs": [
    {
     "data": {
      "text/plain": [
       "id                                           int64\n",
       "curso                                     category\n",
       "dni                                         object\n",
       "edad                                         int64\n",
       "sexo                                      category\n",
       "nacionalidad                              category\n",
       "area_estudio                              category\n",
       "titulacion                                category\n",
       "nivel_estudio                             category\n",
       "anos_estudio_previo_erasmus                float64\n",
       "tipo_movilidad                            category\n",
       "institucion_acogida                       category\n",
       "estudios_duracion_meses                    float64\n",
       "estudios_comienzo_mes                       object\n",
       "estudios_num_creditos_ects                 float64\n",
       "estudios_beca                              float64\n",
       "practicas_pais                            category\n",
       "practicas_empresa                         category\n",
       "practicas_empresa_tam                     category\n",
       "practicas_empresa_tipo                    category\n",
       "practicas_duracion_meses                   float64\n",
       "practicas_comienzo_mes                    category\n",
       "practicas_num_creditos_ects                float64\n",
       "practicas_beca                             float64\n",
       "aprendizaje_idioma_anfitrion              category\n",
       "idioma_de_formacion_recibida              category\n",
       "participacion_previa_erasmus              category\n",
       "cualificacion_obtenida_en_pais_acogida    category\n",
       "eilc_sms_beca                              float64\n",
       "eilc_smp_beca                              float64\n",
       "eilc_sms_duracion                           object\n",
       "estudios_pais                             category\n",
       "pais_destino                              category\n",
       "total                                        int64\n",
       "dtype: object"
      ]
     },
     "execution_count": 55,
     "metadata": {},
     "output_type": "execute_result"
    }
   ],
   "source": [
    "for col in categoricalCols:\n",
    "    dv_erasmus_180108_2005a2012_filtrado_persona[col] = dv_erasmus_180108_2005a2012_filtrado_persona[col].astype('category')\n",
    "dv_erasmus_180108_2005a2012_filtrado_persona.dtypes"
   ]
  },
  {
   "cell_type": "code",
   "execution_count": 9,
   "metadata": {
    "scrolled": true
   },
   "outputs": [
    {
     "data": {
      "application/vnd.jupyter.widget-view+json": {
       "model_id": "013c678886a647f0a9802061b5083af9",
       "version_major": 2,
       "version_minor": 0
      },
      "text/plain": [
       "HBox(children=(FloatProgress(value=0.0, description='variables', max=34.0, style=ProgressStyle(description_wid…"
      ]
     },
     "metadata": {},
     "output_type": "display_data"
    },
    {
     "name": "stdout",
     "output_type": "stream",
     "text": [
      "\n"
     ]
    },
    {
     "data": {
      "application/vnd.jupyter.widget-view+json": {
       "model_id": "b5140eae375c4b7da4f1fe726ec663b9",
       "version_major": 2,
       "version_minor": 0
      },
      "text/plain": [
       "HBox(children=(FloatProgress(value=0.0, description='correlations', max=6.0, style=ProgressStyle(description_w…"
      ]
     },
     "metadata": {},
     "output_type": "display_data"
    },
    {
     "name": "stderr",
     "output_type": "stream",
     "text": [
      "d:\\users\\gsb-d\\appdata\\local\\programs\\python\\python38-32\\lib\\site-packages\\pandas_profiling\\model\\correlations.py:128: UserWarning: There was an attempt to calculate the cramers correlation, but this failed.\n",
      "To hide this warning, disable the calculation\n",
      "(using `df.profile_report(correlations={\"cramers\": {\"calculate\": False}})`\n",
      "If this is problematic for your use case, please report this as an issue:\n",
      "https://github.com/pandas-profiling/pandas-profiling/issues\n",
      "(include the error message: 'No data; `observed` has size 0.')\n",
      "  warnings.warn(\n"
     ]
    },
    {
     "name": "stdout",
     "output_type": "stream",
     "text": [
      "\n"
     ]
    },
    {
     "data": {
      "application/vnd.jupyter.widget-view+json": {
       "model_id": "51fbdc58e85a4ca9a1dc6dd6839fb10a",
       "version_major": 2,
       "version_minor": 0
      },
      "text/plain": [
       "HBox(children=(FloatProgress(value=0.0, description='interactions [continuous]', max=64.0, style=ProgressStyle…"
      ]
     },
     "metadata": {},
     "output_type": "display_data"
    },
    {
     "name": "stdout",
     "output_type": "stream",
     "text": [
      "\n"
     ]
    },
    {
     "data": {
      "application/vnd.jupyter.widget-view+json": {
       "model_id": "bc7f5756b93b48cb932097aa94bbfe84",
       "version_major": 2,
       "version_minor": 0
      },
      "text/plain": [
       "HBox(children=(FloatProgress(value=0.0, description='table', max=1.0, style=ProgressStyle(description_width='i…"
      ]
     },
     "metadata": {},
     "output_type": "display_data"
    },
    {
     "name": "stdout",
     "output_type": "stream",
     "text": [
      "\n"
     ]
    },
    {
     "data": {
      "application/vnd.jupyter.widget-view+json": {
       "model_id": "b5a35fa1c19e47ac9d563bb64d097c11",
       "version_major": 2,
       "version_minor": 0
      },
      "text/plain": [
       "HBox(children=(FloatProgress(value=0.0, description='missing', max=4.0, style=ProgressStyle(description_width=…"
      ]
     },
     "metadata": {},
     "output_type": "display_data"
    },
    {
     "name": "stdout",
     "output_type": "stream",
     "text": [
      "\n"
     ]
    },
    {
     "data": {
      "application/vnd.jupyter.widget-view+json": {
       "model_id": "96b8d830755642dfb509d27c8c71e446",
       "version_major": 2,
       "version_minor": 0
      },
      "text/plain": [
       "HBox(children=(FloatProgress(value=0.0, description='warnings', max=3.0, style=ProgressStyle(description_width…"
      ]
     },
     "metadata": {},
     "output_type": "display_data"
    },
    {
     "name": "stdout",
     "output_type": "stream",
     "text": [
      "\n"
     ]
    },
    {
     "data": {
      "application/vnd.jupyter.widget-view+json": {
       "model_id": "f8bb77a926a34104bfa0bf60891915a5",
       "version_major": 2,
       "version_minor": 0
      },
      "text/plain": [
       "HBox(children=(FloatProgress(value=0.0, description='package', max=1.0, style=ProgressStyle(description_width=…"
      ]
     },
     "metadata": {},
     "output_type": "display_data"
    },
    {
     "name": "stdout",
     "output_type": "stream",
     "text": [
      "\n"
     ]
    },
    {
     "data": {
      "application/vnd.jupyter.widget-view+json": {
       "model_id": "0c8f1b5d49c74202b0246e0430c010d0",
       "version_major": 2,
       "version_minor": 0
      },
      "text/plain": [
       "HBox(children=(FloatProgress(value=0.0, description='build report structure', max=1.0, style=ProgressStyle(des…"
      ]
     },
     "metadata": {},
     "output_type": "display_data"
    },
    {
     "name": "stdout",
     "output_type": "stream",
     "text": [
      "\n"
     ]
    }
   ],
   "source": [
    "prof_dv_erasmus_180108_2005a2012_filtrado_persona_procesada = ProfileReport(dv_erasmus_180108_2005a2012_filtrado_persona)\n",
    "prof_dv_erasmus_180108_2005a2012_filtrado_persona_procesada.to_file('profile_dv_erasmus_180108_2005a2012_filtrado_persona_procesada.html')"
   ]
  },
  {
   "cell_type": "code",
   "execution_count": 11,
   "metadata": {
    "scrolled": true
   },
   "outputs": [
    {
     "data": {
      "text/plain": [
       "(884, 34)"
      ]
     },
     "execution_count": 11,
     "metadata": {},
     "output_type": "execute_result"
    }
   ],
   "source": [
    "dv_erasmus_180108_2005a2012_filtrado_persona.shape"
   ]
  },
  {
   "cell_type": "code",
   "execution_count": 12,
   "metadata": {},
   "outputs": [
    {
     "data": {
      "text/plain": [
       "(884, 29)"
      ]
     },
     "execution_count": 12,
     "metadata": {},
     "output_type": "execute_result"
    }
   ],
   "source": [
    "dv_erasmus_180108_2005a2012_filtrado_persona_clean = dv_erasmus_180108_2005a2012_filtrado_persona.copy()\n",
    "dv_erasmus_180108_2005a2012_filtrado_persona_clean.drop('eilc_sms_beca', axis = 1, inplace = True)\n",
    "dv_erasmus_180108_2005a2012_filtrado_persona_clean.drop('eilc_smp_beca', axis = 1, inplace = True)\n",
    "dv_erasmus_180108_2005a2012_filtrado_persona_clean.drop('eilc_sms_duracion', axis = 1, inplace = True)\n",
    "dv_erasmus_180108_2005a2012_filtrado_persona_clean.drop('estudios_pais', axis = 1, inplace = True)\n",
    "dv_erasmus_180108_2005a2012_filtrado_persona_clean.drop('practicas_pais', axis = 1, inplace = True)\n",
    "dv_erasmus_180108_2005a2012_filtrado_persona_clean.shape"
   ]
  },
  {
   "cell_type": "markdown",
   "metadata": {},
   "source": [
    "No se eliminan las filas con datos NaN porque al estar mezclado en el mismo dataset la movilidad por prácticas y por estudios, hay valores nulos en todas las filas, las de estudios tienen las de prácticas a nulo y viceversa"
   ]
  },
  {
   "cell_type": "code",
   "execution_count": 13,
   "metadata": {},
   "outputs": [],
   "source": [
    "feather.write_dataframe(dv_erasmus_180108_2005a2012_filtrado_persona_clean,'./data/dv_erasmus_180108_2005a2012_filtrado_persona_clean')"
   ]
  },
  {
   "cell_type": "code",
   "execution_count": 14,
   "metadata": {},
   "outputs": [],
   "source": [
    "pingfInfoFilePath = './data/dv_erasmus_180108_2005a2012_filtrado_persona_clean'\n",
    "dv_erasmus_180108_2005a2012_filtrado_persona_clean = pd.read_feather(pingfInfoFilePath,columns=None, use_threads=True)\n",
    "dv_erasmus_180108_2005a2012_filtrado_persona_clean.head()"
   ]
  },
  {
   "cell_type": "markdown",
   "metadata": {},
   "source": [
    "### Extracción de características del dataset dv_idiomas_190411"
   ]
  },
  {
   "cell_type": "code",
   "execution_count": 15,
   "metadata": {
    "scrolled": true
   },
   "outputs": [
    {
     "data": {
      "text/plain": [
       "dni            object\n",
       "idioma         object\n",
       "ano_estudio     int64\n",
       "id              int64\n",
       "dtype: object"
      ]
     },
     "execution_count": 15,
     "metadata": {},
     "output_type": "execute_result"
    }
   ],
   "source": [
    "dv_idiomas_190411.dtypes"
   ]
  },
  {
   "cell_type": "code",
   "execution_count": 16,
   "metadata": {},
   "outputs": [],
   "source": [
    "categoricalCols = ['idioma','ano_estudio']"
   ]
  },
  {
   "cell_type": "code",
   "execution_count": 17,
   "metadata": {
    "scrolled": true
   },
   "outputs": [
    {
     "data": {
      "text/plain": [
       "dni              object\n",
       "idioma         category\n",
       "ano_estudio    category\n",
       "id                int64\n",
       "dtype: object"
      ]
     },
     "execution_count": 17,
     "metadata": {},
     "output_type": "execute_result"
    }
   ],
   "source": [
    "for col in categoricalCols:\n",
    "    dv_idiomas_190411[col] = dv_idiomas_190411[col].astype('category')\n",
    "dv_idiomas_190411.dtypes"
   ]
  },
  {
   "cell_type": "code",
   "execution_count": 18,
   "metadata": {},
   "outputs": [
    {
     "data": {
      "text/plain": [
       "(744, 4)"
      ]
     },
     "execution_count": 18,
     "metadata": {},
     "output_type": "execute_result"
    }
   ],
   "source": [
    "dv_idiomas_190411.shape"
   ]
  },
  {
   "cell_type": "code",
   "execution_count": 19,
   "metadata": {},
   "outputs": [],
   "source": [
    "dv_idiomas_190411.dropna(axis = 0, inplace = True)"
   ]
  },
  {
   "cell_type": "code",
   "execution_count": 20,
   "metadata": {
    "scrolled": true
   },
   "outputs": [
    {
     "data": {
      "text/plain": [
       "(744, 4)"
      ]
     },
     "execution_count": 20,
     "metadata": {},
     "output_type": "execute_result"
    }
   ],
   "source": [
    "dv_idiomas_190411.shape"
   ]
  },
  {
   "cell_type": "code",
   "execution_count": 22,
   "metadata": {
    "scrolled": true
   },
   "outputs": [
    {
     "data": {
      "application/vnd.jupyter.widget-view+json": {
       "model_id": "f5d45391879843fdae71afbaf6e1135c",
       "version_major": 2,
       "version_minor": 0
      },
      "text/plain": [
       "HBox(children=(FloatProgress(value=0.0, description='variables', max=4.0, style=ProgressStyle(description_widt…"
      ]
     },
     "metadata": {},
     "output_type": "display_data"
    },
    {
     "name": "stdout",
     "output_type": "stream",
     "text": [
      "\n"
     ]
    },
    {
     "data": {
      "application/vnd.jupyter.widget-view+json": {
       "model_id": "c1bffaba3a104222bb742eb93b622454",
       "version_major": 2,
       "version_minor": 0
      },
      "text/plain": [
       "HBox(children=(FloatProgress(value=0.0, description='correlations', max=6.0, style=ProgressStyle(description_w…"
      ]
     },
     "metadata": {},
     "output_type": "display_data"
    },
    {
     "name": "stdout",
     "output_type": "stream",
     "text": [
      "\n"
     ]
    },
    {
     "data": {
      "application/vnd.jupyter.widget-view+json": {
       "model_id": "d895fea5ed4e4f93b0a3eda766109192",
       "version_major": 2,
       "version_minor": 0
      },
      "text/plain": [
       "HBox(children=(FloatProgress(value=0.0, description='interactions [continuous]', max=1.0, style=ProgressStyle(…"
      ]
     },
     "metadata": {},
     "output_type": "display_data"
    },
    {
     "name": "stdout",
     "output_type": "stream",
     "text": [
      "\n"
     ]
    },
    {
     "data": {
      "application/vnd.jupyter.widget-view+json": {
       "model_id": "a1dafa72998f4001adb3b6b819c10eca",
       "version_major": 2,
       "version_minor": 0
      },
      "text/plain": [
       "HBox(children=(FloatProgress(value=0.0, description='table', max=1.0, style=ProgressStyle(description_width='i…"
      ]
     },
     "metadata": {},
     "output_type": "display_data"
    },
    {
     "name": "stdout",
     "output_type": "stream",
     "text": [
      "\n"
     ]
    },
    {
     "data": {
      "application/vnd.jupyter.widget-view+json": {
       "model_id": "e301ffb8ba4e4f5f9fd6253dccf9068e",
       "version_major": 2,
       "version_minor": 0
      },
      "text/plain": [
       "HBox(children=(FloatProgress(value=0.0, description='missing', max=2.0, style=ProgressStyle(description_width=…"
      ]
     },
     "metadata": {},
     "output_type": "display_data"
    },
    {
     "name": "stdout",
     "output_type": "stream",
     "text": [
      "\n"
     ]
    },
    {
     "data": {
      "application/vnd.jupyter.widget-view+json": {
       "model_id": "a2bbb5a9ed494a0ea8a84cfc69505abc",
       "version_major": 2,
       "version_minor": 0
      },
      "text/plain": [
       "HBox(children=(FloatProgress(value=0.0, description='warnings', max=3.0, style=ProgressStyle(description_width…"
      ]
     },
     "metadata": {},
     "output_type": "display_data"
    },
    {
     "name": "stdout",
     "output_type": "stream",
     "text": [
      "\n"
     ]
    },
    {
     "data": {
      "application/vnd.jupyter.widget-view+json": {
       "model_id": "52fe06245eb6430b8e8e79fae0d200a0",
       "version_major": 2,
       "version_minor": 0
      },
      "text/plain": [
       "HBox(children=(FloatProgress(value=0.0, description='package', max=1.0, style=ProgressStyle(description_width=…"
      ]
     },
     "metadata": {},
     "output_type": "display_data"
    },
    {
     "name": "stdout",
     "output_type": "stream",
     "text": [
      "\n"
     ]
    },
    {
     "data": {
      "application/vnd.jupyter.widget-view+json": {
       "model_id": "d3b3e278e89540d289077c0e2688bb30",
       "version_major": 2,
       "version_minor": 0
      },
      "text/plain": [
       "HBox(children=(FloatProgress(value=0.0, description='build report structure', max=1.0, style=ProgressStyle(des…"
      ]
     },
     "metadata": {},
     "output_type": "display_data"
    },
    {
     "name": "stdout",
     "output_type": "stream",
     "text": [
      "\n"
     ]
    }
   ],
   "source": [
    "prof_dv_idiomas_190411_procesada = ProfileReport(dv_idiomas_190411)\n",
    "prof_dv_idiomas_190411_procesada.to_file('profile_dv_idiomas_190411_procesada.html')"
   ]
  },
  {
   "cell_type": "code",
   "execution_count": 24,
   "metadata": {},
   "outputs": [],
   "source": [
    "feather.write_dataframe(dv_idiomas_190411,'./data/dv_idiomas_190411')"
   ]
  },
  {
   "cell_type": "code",
   "execution_count": 25,
   "metadata": {
    "scrolled": true
   },
   "outputs": [],
   "source": [
    "pingfInfoFilePath = './data/dv_idiomas_190411'\n",
    "dv_idiomas_190411 = pd.read_feather(pingfInfoFilePath,columns=None, use_threads=True)\n",
    "dv_idiomas_190411.head()"
   ]
  },
  {
   "cell_type": "markdown",
   "metadata": {},
   "source": [
    "## Creación tabla ABT 1"
   ]
  },
  {
   "cell_type": "code",
   "execution_count": 26,
   "metadata": {},
   "outputs": [],
   "source": [
    "dv_personas_190411 = pd.read_csv('./datasets_editados/dv_personas_190411_procesada.csv',sep='|')"
   ]
  },
  {
   "cell_type": "code",
   "execution_count": 27,
   "metadata": {},
   "outputs": [
    {
     "data": {
      "text/html": [
       "<div>\n",
       "<style scoped>\n",
       "    .dataframe tbody tr th:only-of-type {\n",
       "        vertical-align: middle;\n",
       "    }\n",
       "\n",
       "    .dataframe tbody tr th {\n",
       "        vertical-align: top;\n",
       "    }\n",
       "\n",
       "    .dataframe thead th {\n",
       "        text-align: right;\n",
       "    }\n",
       "</style>\n",
       "<table border=\"1\" class=\"dataframe\">\n",
       "  <thead>\n",
       "    <tr style=\"text-align: right;\">\n",
       "      <th></th>\n",
       "      <th>dni</th>\n",
       "      <th>sexo</th>\n",
       "      <th>fnac</th>\n",
       "      <th>edad</th>\n",
       "      <th>num_estudios</th>\n",
       "      <th>dias_trabajados_sin_solap</th>\n",
       "      <th>id</th>\n",
       "      <th>idiomas</th>\n",
       "      <th>erasmus</th>\n",
       "      <th>num_erasmus</th>\n",
       "      <th>num_idiomas</th>\n",
       "      <th>fecha_fin_primer_estudio</th>\n",
       "      <th>dias_trabajados_fin_titulacion</th>\n",
       "      <th>tto_pcto_dias_trabajados</th>\n",
       "      <th>periodo_dias_inicio_trabajar</th>\n",
       "      <th>edad_fin_primera_titulacion</th>\n",
       "      <th>tipo_acceso</th>\n",
       "      <th>municipio_familiar</th>\n",
       "      <th>tipo_erasmus</th>\n",
       "    </tr>\n",
       "  </thead>\n",
       "  <tbody>\n",
       "    <tr>\n",
       "      <th>0</th>\n",
       "      <td>0013670b45b4207d01539bc1d057daa03bab0e2de19916...</td>\n",
       "      <td>M</td>\n",
       "      <td>1991-01-31</td>\n",
       "      <td>27</td>\n",
       "      <td>2</td>\n",
       "      <td>555.0</td>\n",
       "      <td>36328</td>\n",
       "      <td>f</td>\n",
       "      <td>f</td>\n",
       "      <td>0</td>\n",
       "      <td>0</td>\n",
       "      <td>2012-01-08</td>\n",
       "      <td>525.0</td>\n",
       "      <td>23.0</td>\n",
       "      <td>773.0</td>\n",
       "      <td>21</td>\n",
       "      <td>Selectividad</td>\n",
       "      <td>CÁCERES</td>\n",
       "      <td>Ninguno</td>\n",
       "    </tr>\n",
       "    <tr>\n",
       "      <th>1</th>\n",
       "      <td>2ec47253d8c59fa32f000519d2f9b83c26c7f11dcc1ed8...</td>\n",
       "      <td>M</td>\n",
       "      <td>1983-07-30</td>\n",
       "      <td>34</td>\n",
       "      <td>3</td>\n",
       "      <td>947.0</td>\n",
       "      <td>111758</td>\n",
       "      <td>f</td>\n",
       "      <td>f</td>\n",
       "      <td>0</td>\n",
       "      <td>0</td>\n",
       "      <td>2009-01-08</td>\n",
       "      <td>947.0</td>\n",
       "      <td>28.0</td>\n",
       "      <td>805.0</td>\n",
       "      <td>26</td>\n",
       "      <td>Selectividad</td>\n",
       "      <td>GUADALUPE</td>\n",
       "      <td>Ninguno</td>\n",
       "    </tr>\n",
       "    <tr>\n",
       "      <th>2</th>\n",
       "      <td>2d2f9c8a7e3c780fef578a2be45f60d537480aeaf01a88...</td>\n",
       "      <td>M</td>\n",
       "      <td>1982-10-20</td>\n",
       "      <td>35</td>\n",
       "      <td>2</td>\n",
       "      <td>954.0</td>\n",
       "      <td>35373</td>\n",
       "      <td>t</td>\n",
       "      <td>f</td>\n",
       "      <td>0</td>\n",
       "      <td>1</td>\n",
       "      <td>2006-01-08</td>\n",
       "      <td>954.0</td>\n",
       "      <td>21.0</td>\n",
       "      <td>1887.0</td>\n",
       "      <td>24</td>\n",
       "      <td>Acceso a Segundo Ciclo</td>\n",
       "      <td>CÁCERES</td>\n",
       "      <td>Ninguno</td>\n",
       "    </tr>\n",
       "    <tr>\n",
       "      <th>3</th>\n",
       "      <td>26a37b1c00cd71b6a7027711195d1fbaff0df96066bb48...</td>\n",
       "      <td>M</td>\n",
       "      <td>1992-12-11</td>\n",
       "      <td>25</td>\n",
       "      <td>1</td>\n",
       "      <td>NaN</td>\n",
       "      <td>30126</td>\n",
       "      <td>t</td>\n",
       "      <td>f</td>\n",
       "      <td>0</td>\n",
       "      <td>1</td>\n",
       "      <td>2016-01-08</td>\n",
       "      <td>NaN</td>\n",
       "      <td>NaN</td>\n",
       "      <td>NaN</td>\n",
       "      <td>24</td>\n",
       "      <td>Título Universitario</td>\n",
       "      <td>DON BENITO</td>\n",
       "      <td>Ninguno</td>\n",
       "    </tr>\n",
       "    <tr>\n",
       "      <th>4</th>\n",
       "      <td>268c350d4e2881ca46593ffa63cc52f7024bd0cea1051b...</td>\n",
       "      <td>M</td>\n",
       "      <td>1989-08-05</td>\n",
       "      <td>28</td>\n",
       "      <td>2</td>\n",
       "      <td>NaN</td>\n",
       "      <td>120816</td>\n",
       "      <td>f</td>\n",
       "      <td>f</td>\n",
       "      <td>0</td>\n",
       "      <td>0</td>\n",
       "      <td>2011-01-08</td>\n",
       "      <td>NaN</td>\n",
       "      <td>NaN</td>\n",
       "      <td>NaN</td>\n",
       "      <td>22</td>\n",
       "      <td>Selectividad</td>\n",
       "      <td>MONTEHERMOSO</td>\n",
       "      <td>Ninguno</td>\n",
       "    </tr>\n",
       "  </tbody>\n",
       "</table>\n",
       "</div>"
      ],
      "text/plain": [
       "                                                 dni sexo        fnac  edad  \\\n",
       "0  0013670b45b4207d01539bc1d057daa03bab0e2de19916...    M  1991-01-31    27   \n",
       "1  2ec47253d8c59fa32f000519d2f9b83c26c7f11dcc1ed8...    M  1983-07-30    34   \n",
       "2  2d2f9c8a7e3c780fef578a2be45f60d537480aeaf01a88...    M  1982-10-20    35   \n",
       "3  26a37b1c00cd71b6a7027711195d1fbaff0df96066bb48...    M  1992-12-11    25   \n",
       "4  268c350d4e2881ca46593ffa63cc52f7024bd0cea1051b...    M  1989-08-05    28   \n",
       "\n",
       "   num_estudios  dias_trabajados_sin_solap      id idiomas erasmus  \\\n",
       "0             2                      555.0   36328       f       f   \n",
       "1             3                      947.0  111758       f       f   \n",
       "2             2                      954.0   35373       t       f   \n",
       "3             1                        NaN   30126       t       f   \n",
       "4             2                        NaN  120816       f       f   \n",
       "\n",
       "   num_erasmus  num_idiomas fecha_fin_primer_estudio  \\\n",
       "0            0            0               2012-01-08   \n",
       "1            0            0               2009-01-08   \n",
       "2            0            1               2006-01-08   \n",
       "3            0            1               2016-01-08   \n",
       "4            0            0               2011-01-08   \n",
       "\n",
       "   dias_trabajados_fin_titulacion  tto_pcto_dias_trabajados  \\\n",
       "0                           525.0                      23.0   \n",
       "1                           947.0                      28.0   \n",
       "2                           954.0                      21.0   \n",
       "3                             NaN                       NaN   \n",
       "4                             NaN                       NaN   \n",
       "\n",
       "   periodo_dias_inicio_trabajar  edad_fin_primera_titulacion  \\\n",
       "0                         773.0                           21   \n",
       "1                         805.0                           26   \n",
       "2                        1887.0                           24   \n",
       "3                           NaN                           24   \n",
       "4                           NaN                           22   \n",
       "\n",
       "              tipo_acceso municipio_familiar tipo_erasmus  \n",
       "0            Selectividad            CÁCERES      Ninguno  \n",
       "1            Selectividad          GUADALUPE      Ninguno  \n",
       "2  Acceso a Segundo Ciclo            CÁCERES      Ninguno  \n",
       "3    Título Universitario         DON BENITO      Ninguno  \n",
       "4            Selectividad       MONTEHERMOSO      Ninguno  "
      ]
     },
     "execution_count": 27,
     "metadata": {},
     "output_type": "execute_result"
    }
   ],
   "source": [
    "dv_personas_190411.head()"
   ]
  },
  {
   "cell_type": "code",
   "execution_count": 28,
   "metadata": {},
   "outputs": [
    {
     "data": {
      "text/plain": [
       "Index(['dni', 'sexo', 'fnac', 'edad', 'num_estudios',\n",
       "       'dias_trabajados_sin_solap', 'id', 'idiomas', 'erasmus', 'num_erasmus',\n",
       "       'num_idiomas', 'fecha_fin_primer_estudio',\n",
       "       'dias_trabajados_fin_titulacion', 'tto_pcto_dias_trabajados',\n",
       "       'periodo_dias_inicio_trabajar', 'edad_fin_primera_titulacion',\n",
       "       'tipo_acceso', 'municipio_familiar', 'tipo_erasmus'],\n",
       "      dtype='object')"
      ]
     },
     "execution_count": 28,
     "metadata": {},
     "output_type": "execute_result"
    }
   ],
   "source": [
    "dv_personas_190411.columns"
   ]
  },
  {
   "cell_type": "code",
   "execution_count": 29,
   "metadata": {
    "scrolled": true
   },
   "outputs": [
    {
     "data": {
      "text/plain": [
       "dni                                object\n",
       "sexo                               object\n",
       "fnac                               object\n",
       "edad                                int64\n",
       "num_estudios                        int64\n",
       "dias_trabajados_sin_solap         float64\n",
       "id                                  int64\n",
       "idiomas                            object\n",
       "erasmus                            object\n",
       "num_erasmus                         int64\n",
       "num_idiomas                         int64\n",
       "fecha_fin_primer_estudio           object\n",
       "dias_trabajados_fin_titulacion    float64\n",
       "tto_pcto_dias_trabajados          float64\n",
       "periodo_dias_inicio_trabajar      float64\n",
       "edad_fin_primera_titulacion         int64\n",
       "tipo_acceso                        object\n",
       "municipio_familiar                 object\n",
       "tipo_erasmus                       object\n",
       "dtype: object"
      ]
     },
     "execution_count": 29,
     "metadata": {},
     "output_type": "execute_result"
    }
   ],
   "source": [
    "dv_personas_190411.dtypes"
   ]
  },
  {
   "cell_type": "code",
   "execution_count": 30,
   "metadata": {},
   "outputs": [
    {
     "data": {
      "text/plain": [
       "dni                                 object\n",
       "sexo                              category\n",
       "fnac                                object\n",
       "edad                                 int64\n",
       "num_estudios                         int64\n",
       "dias_trabajados_sin_solap          float64\n",
       "id                                   int64\n",
       "idiomas                             object\n",
       "erasmus                             object\n",
       "num_erasmus                          int64\n",
       "num_idiomas                          int64\n",
       "fecha_fin_primer_estudio            object\n",
       "dias_trabajados_fin_titulacion     float64\n",
       "tto_pcto_dias_trabajados           float64\n",
       "periodo_dias_inicio_trabajar       float64\n",
       "edad_fin_primera_titulacion          int64\n",
       "tipo_acceso                       category\n",
       "municipio_familiar                category\n",
       "tipo_erasmus                      category\n",
       "dtype: object"
      ]
     },
     "execution_count": 30,
     "metadata": {},
     "output_type": "execute_result"
    }
   ],
   "source": [
    "categoricalCols = ['sexo','tipo_acceso','tipo_erasmus','municipio_familiar']\n",
    "for col in categoricalCols:\n",
    "    dv_personas_190411[col] = dv_personas_190411[col].astype('category')\n",
    "dv_personas_190411.dtypes"
   ]
  },
  {
   "cell_type": "code",
   "execution_count": 31,
   "metadata": {},
   "outputs": [
    {
     "data": {
      "text/plain": [
       "dni                                 object\n",
       "sexo                              category\n",
       "fnac                                object\n",
       "edad                                 int64\n",
       "num_estudios                         int64\n",
       "dias_trabajados_sin_solap          float64\n",
       "id                                   int64\n",
       "idiomas                               bool\n",
       "erasmus                               bool\n",
       "num_erasmus                          int64\n",
       "num_idiomas                          int64\n",
       "fecha_fin_primer_estudio            object\n",
       "dias_trabajados_fin_titulacion     float64\n",
       "tto_pcto_dias_trabajados           float64\n",
       "periodo_dias_inicio_trabajar       float64\n",
       "edad_fin_primera_titulacion          int64\n",
       "tipo_acceso                       category\n",
       "municipio_familiar                category\n",
       "tipo_erasmus                      category\n",
       "dtype: object"
      ]
     },
     "execution_count": 31,
     "metadata": {},
     "output_type": "execute_result"
    }
   ],
   "source": [
    "boolCols = ['idiomas','erasmus']\n",
    "for col in boolCols:\n",
    "    dv_personas_190411[col] = dv_personas_190411[col].astype('bool')\n",
    "dv_personas_190411.dtypes"
   ]
  },
  {
   "cell_type": "code",
   "execution_count": 32,
   "metadata": {},
   "outputs": [
    {
     "data": {
      "text/plain": [
       "(20621, 19)"
      ]
     },
     "execution_count": 32,
     "metadata": {},
     "output_type": "execute_result"
    }
   ],
   "source": [
    "dv_personas_190411.shape"
   ]
  },
  {
   "cell_type": "code",
   "execution_count": 33,
   "metadata": {},
   "outputs": [],
   "source": [
    "dv_personas_190411 = dv_personas_190411.dropna(subset=['tto_pcto_dias_trabajados'])"
   ]
  },
  {
   "cell_type": "code",
   "execution_count": 34,
   "metadata": {},
   "outputs": [
    {
     "data": {
      "text/plain": [
       "(14320, 19)"
      ]
     },
     "execution_count": 34,
     "metadata": {},
     "output_type": "execute_result"
    }
   ],
   "source": [
    "dv_personas_190411.shape"
   ]
  },
  {
   "cell_type": "markdown",
   "metadata": {},
   "source": [
    "A continuación, se proceden a eliminar las siguientes columnas para la fase de modelado por las siguientes razones:\n",
    "*\t**Edad:** esta columna se elimina porque la columna que realmente nos interesa para la construcción del modelo es la columna edad_fin_primera_ titulación.\n",
    "*\t**Fnac y Fecha_fin_primer_estudio:** ambas columnas se eliminan porque el objetivo de tener ambas almacenadas era poder calcular el valor de la columna edad_fin_primera_ titulación.\n",
    "\n",
    "* **num_estudios:** esta característica se elimina puesto que más adelante se incorporará a la tabla las diferentes titulaciones cursadas por una persona a lo largo de su carrera universitaria, por lo que sería redundante tener las titulaciones que ha realizado dicha persona y tener también cuantas titulaciones ha realizado.\n",
    "\n",
    "* **dias_trabajados_fin_titulacion:** se elimina esta variable porque la variable objetivo es el tanto por ciento de dias trabajados y no el total de días\n",
    "* **periodo_dias_inicio_trabajar:** se elimina esta variable ya que no se considera relevante para el proceso de modelado, es obvio que cuanto mayor es el periodo de tiempo que inicio a trabajar, menos tiempo es el que trabaja\n",
    "* **dias_trabajados_sin_solap:** se elimina esta variable ya quela variable objetivo es el tanto por ciento de días trabajados desde que finalizó la titulación y no el total de días trabajados en toda la vida de la persona\n",
    "\n",
    "\n",
    "    "
   ]
  },
  {
   "cell_type": "code",
   "execution_count": 35,
   "metadata": {},
   "outputs": [],
   "source": [
    "dv_personas_190411.drop('edad',axis = 1, inplace = True)\n",
    "dv_personas_190411.drop('fnac',axis = 1, inplace = True)\n",
    "dv_personas_190411.drop('fecha_fin_primer_estudio',axis = 1, inplace = True)\n",
    "dv_personas_190411.drop('num_estudios',axis = 1, inplace = True)\n",
    "dv_personas_190411.drop('dias_trabajados_fin_titulacion',axis = 1, inplace = True)\n",
    "dv_personas_190411.drop('periodo_dias_inicio_trabajar',axis = 1, inplace = True)\n",
    "dv_personas_190411.drop('dias_trabajados_sin_solap',axis = 1, inplace = True)"
   ]
  },
  {
   "cell_type": "code",
   "execution_count": 36,
   "metadata": {
    "scrolled": true
   },
   "outputs": [
    {
     "data": {
      "text/plain": [
       "Index(['dni', 'sexo', 'id', 'idiomas', 'erasmus', 'num_erasmus', 'num_idiomas',\n",
       "       'tto_pcto_dias_trabajados', 'edad_fin_primera_titulacion',\n",
       "       'tipo_acceso', 'municipio_familiar', 'tipo_erasmus'],\n",
       "      dtype='object')"
      ]
     },
     "execution_count": 36,
     "metadata": {},
     "output_type": "execute_result"
    }
   ],
   "source": [
    "dv_personas_190411.columns"
   ]
  },
  {
   "cell_type": "markdown",
   "metadata": {},
   "source": [
    "### Ingeniería de características"
   ]
  },
  {
   "cell_type": "markdown",
   "metadata": {},
   "source": [
    "Para la realización del proceso de Ingeniería de Características procederemos a explorar la correlación dividiendo las características en dos conjuntos:\n",
    "* **numéricas**: Para las cuales se utilizará una selección de características específica para modelos con variables de tipo numérico y salida de tipo numérico (% de días trabajados)\n",
    "* **categóricas**: Para las cuales se utilizará una selección de características específica para modelos con variables categóricas de entrada y variable categórica, para lo cual será necesario dividir la variable objetivo en varios tramos de porcentajes, convirtiendo así la misma en categórica\n",
    "\n",
    "Esta distinción nos permitirá obtener la corelación por ambos lados, la razón por la que se realiza de esta manera es porque los algoritmos para cada tipo de variables son diferentes\n"
   ]
  },
  {
   "cell_type": "code",
   "execution_count": 37,
   "metadata": {},
   "outputs": [],
   "source": [
    "categoricalCols = ['sexo','idiomas','erasmus','tipo_acceso','municipio_familiar','tipo_erasmus','tto_pcto_dias_trabajados']\n",
    "numericalCols = ['num_erasmus','num_idiomas','edad_fin_primera_titulacion','tto_pcto_dias_trabajados']"
   ]
  },
  {
   "cell_type": "code",
   "execution_count": 38,
   "metadata": {},
   "outputs": [],
   "source": [
    "dv_personas_190411_categorical = dv_personas_190411[categoricalCols]"
   ]
  },
  {
   "cell_type": "code",
   "execution_count": 39,
   "metadata": {
    "scrolled": true
   },
   "outputs": [
    {
     "data": {
      "text/html": [
       "<div>\n",
       "<style scoped>\n",
       "    .dataframe tbody tr th:only-of-type {\n",
       "        vertical-align: middle;\n",
       "    }\n",
       "\n",
       "    .dataframe tbody tr th {\n",
       "        vertical-align: top;\n",
       "    }\n",
       "\n",
       "    .dataframe thead th {\n",
       "        text-align: right;\n",
       "    }\n",
       "</style>\n",
       "<table border=\"1\" class=\"dataframe\">\n",
       "  <thead>\n",
       "    <tr style=\"text-align: right;\">\n",
       "      <th></th>\n",
       "      <th>sexo</th>\n",
       "      <th>idiomas</th>\n",
       "      <th>erasmus</th>\n",
       "      <th>tipo_acceso</th>\n",
       "      <th>municipio_familiar</th>\n",
       "      <th>tipo_erasmus</th>\n",
       "      <th>tto_pcto_dias_trabajados</th>\n",
       "    </tr>\n",
       "  </thead>\n",
       "  <tbody>\n",
       "    <tr>\n",
       "      <th>0</th>\n",
       "      <td>M</td>\n",
       "      <td>True</td>\n",
       "      <td>True</td>\n",
       "      <td>Selectividad</td>\n",
       "      <td>CÁCERES</td>\n",
       "      <td>Ninguno</td>\n",
       "      <td>23.0</td>\n",
       "    </tr>\n",
       "    <tr>\n",
       "      <th>1</th>\n",
       "      <td>M</td>\n",
       "      <td>True</td>\n",
       "      <td>True</td>\n",
       "      <td>Selectividad</td>\n",
       "      <td>GUADALUPE</td>\n",
       "      <td>Ninguno</td>\n",
       "      <td>28.0</td>\n",
       "    </tr>\n",
       "    <tr>\n",
       "      <th>2</th>\n",
       "      <td>M</td>\n",
       "      <td>True</td>\n",
       "      <td>True</td>\n",
       "      <td>Acceso a Segundo Ciclo</td>\n",
       "      <td>CÁCERES</td>\n",
       "      <td>Ninguno</td>\n",
       "      <td>21.0</td>\n",
       "    </tr>\n",
       "    <tr>\n",
       "      <th>7</th>\n",
       "      <td>H</td>\n",
       "      <td>True</td>\n",
       "      <td>True</td>\n",
       "      <td>Selectividad</td>\n",
       "      <td>PUEBLA DE LA CALZADA</td>\n",
       "      <td>Ninguno</td>\n",
       "      <td>37.0</td>\n",
       "    </tr>\n",
       "    <tr>\n",
       "      <th>8</th>\n",
       "      <td>M</td>\n",
       "      <td>True</td>\n",
       "      <td>True</td>\n",
       "      <td>Título Universitario</td>\n",
       "      <td>BADAJOZ</td>\n",
       "      <td>Ninguno</td>\n",
       "      <td>78.0</td>\n",
       "    </tr>\n",
       "  </tbody>\n",
       "</table>\n",
       "</div>"
      ],
      "text/plain": [
       "  sexo  idiomas  erasmus             tipo_acceso    municipio_familiar  \\\n",
       "0    M     True     True            Selectividad               CÁCERES   \n",
       "1    M     True     True            Selectividad             GUADALUPE   \n",
       "2    M     True     True  Acceso a Segundo Ciclo               CÁCERES   \n",
       "7    H     True     True            Selectividad  PUEBLA DE LA CALZADA   \n",
       "8    M     True     True    Título Universitario               BADAJOZ   \n",
       "\n",
       "  tipo_erasmus  tto_pcto_dias_trabajados  \n",
       "0      Ninguno                      23.0  \n",
       "1      Ninguno                      28.0  \n",
       "2      Ninguno                      21.0  \n",
       "7      Ninguno                      37.0  \n",
       "8      Ninguno                      78.0  "
      ]
     },
     "execution_count": 39,
     "metadata": {},
     "output_type": "execute_result"
    }
   ],
   "source": [
    "dv_personas_190411_categorical.head()"
   ]
  },
  {
   "cell_type": "markdown",
   "metadata": {},
   "source": [
    "#### Aplicación de Data Bining al dataset con las variables categóricas"
   ]
  },
  {
   "cell_type": "code",
   "execution_count": 40,
   "metadata": {
    "scrolled": true
   },
   "outputs": [
    {
     "data": {
      "text/plain": [
       "array([  0.,  10.,  20.,  30.,  40.,  50.,  60.,  70.,  80.,  90., 100.])"
      ]
     },
     "execution_count": 40,
     "metadata": {},
     "output_type": "execute_result"
    }
   ],
   "source": [
    "tto_pcto_dias_trabajados_bucket_array = np.linspace(0,100,11)\n",
    "tto_pcto_dias_trabajados_bucket_array"
   ]
  },
  {
   "cell_type": "code",
   "execution_count": 41,
   "metadata": {},
   "outputs": [],
   "source": [
    "dv_personas_190411_categorical_10 = dv_personas_190411_categorical.copy()"
   ]
  },
  {
   "cell_type": "code",
   "execution_count": 42,
   "metadata": {},
   "outputs": [
    {
     "data": {
      "text/html": [
       "<div>\n",
       "<style scoped>\n",
       "    .dataframe tbody tr th:only-of-type {\n",
       "        vertical-align: middle;\n",
       "    }\n",
       "\n",
       "    .dataframe tbody tr th {\n",
       "        vertical-align: top;\n",
       "    }\n",
       "\n",
       "    .dataframe thead th {\n",
       "        text-align: right;\n",
       "    }\n",
       "</style>\n",
       "<table border=\"1\" class=\"dataframe\">\n",
       "  <thead>\n",
       "    <tr style=\"text-align: right;\">\n",
       "      <th></th>\n",
       "      <th>sexo</th>\n",
       "      <th>idiomas</th>\n",
       "      <th>erasmus</th>\n",
       "      <th>tipo_acceso</th>\n",
       "      <th>municipio_familiar</th>\n",
       "      <th>tipo_erasmus</th>\n",
       "      <th>tto_pcto_dias_trabajados</th>\n",
       "    </tr>\n",
       "  </thead>\n",
       "  <tbody>\n",
       "    <tr>\n",
       "      <th>0</th>\n",
       "      <td>M</td>\n",
       "      <td>True</td>\n",
       "      <td>True</td>\n",
       "      <td>Selectividad</td>\n",
       "      <td>CÁCERES</td>\n",
       "      <td>Ninguno</td>\n",
       "      <td>(20.0, 30.0]</td>\n",
       "    </tr>\n",
       "    <tr>\n",
       "      <th>1</th>\n",
       "      <td>M</td>\n",
       "      <td>True</td>\n",
       "      <td>True</td>\n",
       "      <td>Selectividad</td>\n",
       "      <td>GUADALUPE</td>\n",
       "      <td>Ninguno</td>\n",
       "      <td>(20.0, 30.0]</td>\n",
       "    </tr>\n",
       "    <tr>\n",
       "      <th>2</th>\n",
       "      <td>M</td>\n",
       "      <td>True</td>\n",
       "      <td>True</td>\n",
       "      <td>Acceso a Segundo Ciclo</td>\n",
       "      <td>CÁCERES</td>\n",
       "      <td>Ninguno</td>\n",
       "      <td>(20.0, 30.0]</td>\n",
       "    </tr>\n",
       "    <tr>\n",
       "      <th>7</th>\n",
       "      <td>H</td>\n",
       "      <td>True</td>\n",
       "      <td>True</td>\n",
       "      <td>Selectividad</td>\n",
       "      <td>PUEBLA DE LA CALZADA</td>\n",
       "      <td>Ninguno</td>\n",
       "      <td>(30.0, 40.0]</td>\n",
       "    </tr>\n",
       "    <tr>\n",
       "      <th>8</th>\n",
       "      <td>M</td>\n",
       "      <td>True</td>\n",
       "      <td>True</td>\n",
       "      <td>Título Universitario</td>\n",
       "      <td>BADAJOZ</td>\n",
       "      <td>Ninguno</td>\n",
       "      <td>(70.0, 80.0]</td>\n",
       "    </tr>\n",
       "  </tbody>\n",
       "</table>\n",
       "</div>"
      ],
      "text/plain": [
       "  sexo  idiomas  erasmus             tipo_acceso    municipio_familiar  \\\n",
       "0    M     True     True            Selectividad               CÁCERES   \n",
       "1    M     True     True            Selectividad             GUADALUPE   \n",
       "2    M     True     True  Acceso a Segundo Ciclo               CÁCERES   \n",
       "7    H     True     True            Selectividad  PUEBLA DE LA CALZADA   \n",
       "8    M     True     True    Título Universitario               BADAJOZ   \n",
       "\n",
       "  tipo_erasmus tto_pcto_dias_trabajados  \n",
       "0      Ninguno             (20.0, 30.0]  \n",
       "1      Ninguno             (20.0, 30.0]  \n",
       "2      Ninguno             (20.0, 30.0]  \n",
       "7      Ninguno             (30.0, 40.0]  \n",
       "8      Ninguno             (70.0, 80.0]  "
      ]
     },
     "execution_count": 42,
     "metadata": {},
     "output_type": "execute_result"
    }
   ],
   "source": [
    "dv_personas_190411_categorical_10['tto_pcto_dias_trabajados'] = pd.cut(dv_personas_190411_categorical_10['tto_pcto_dias_trabajados'],tto_pcto_dias_trabajados_bucket_array)\n",
    "dv_personas_190411_categorical_10.head()"
   ]
  },
  {
   "cell_type": "markdown",
   "metadata": {},
   "source": [
    "#### Creación de tablas de contigencias para la aplicación de Chi-squared"
   ]
  },
  {
   "cell_type": "markdown",
   "metadata": {},
   "source": [
    "Definimos un array con las variables categóricas dependientes para ir almacenando estas en el mismo"
   ]
  },
  {
   "cell_type": "code",
   "execution_count": 43,
   "metadata": {},
   "outputs": [],
   "source": [
    "dependent_features=[]"
   ]
  },
  {
   "cell_type": "code",
   "execution_count": 44,
   "metadata": {},
   "outputs": [
    {
     "name": "stdout",
     "output_type": "stream",
     "text": [
      "tto_pcto_dias_trabajados  (0.0, 10.0]  (10.0, 20.0]  (20.0, 30.0]  \\\n",
      "sexo                                                                \n",
      "H                                1161          1049           903   \n",
      "M                                1744          1784          1574   \n",
      "\n",
      "tto_pcto_dias_trabajados  (30.0, 40.0]  (40.0, 50.0]  (50.0, 60.0]  \\\n",
      "sexo                                                                 \n",
      "H                                  624           523           432   \n",
      "M                                 1160           848           571   \n",
      "\n",
      "tto_pcto_dias_trabajados  (60.0, 70.0]  (70.0, 80.0]  (80.0, 90.0]  \\\n",
      "sexo                                                                 \n",
      "H                                  311           196           121   \n",
      "M                                  385           235           150   \n",
      "\n",
      "tto_pcto_dias_trabajados  (90.0, 100.0]  \n",
      "sexo                                     \n",
      "H                                    47  \n",
      "M                                    56  \n",
      "tto_pcto_dias_trabajados  (0.0, 10.0]  (10.0, 20.0]  (20.0, 30.0]  \\\n",
      "idiomas                                                             \n",
      "True                             2905          2833          2477   \n",
      "\n",
      "tto_pcto_dias_trabajados  (30.0, 40.0]  (40.0, 50.0]  (50.0, 60.0]  \\\n",
      "idiomas                                                              \n",
      "True                              1784          1371          1003   \n",
      "\n",
      "tto_pcto_dias_trabajados  (60.0, 70.0]  (70.0, 80.0]  (80.0, 90.0]  \\\n",
      "idiomas                                                              \n",
      "True                               696           431           271   \n",
      "\n",
      "tto_pcto_dias_trabajados  (90.0, 100.0]  \n",
      "idiomas                                  \n",
      "True                                103  \n",
      "tto_pcto_dias_trabajados  (0.0, 10.0]  (10.0, 20.0]  (20.0, 30.0]  \\\n",
      "erasmus                                                             \n",
      "True                             2905          2833          2477   \n",
      "\n",
      "tto_pcto_dias_trabajados  (30.0, 40.0]  (40.0, 50.0]  (50.0, 60.0]  \\\n",
      "erasmus                                                              \n",
      "True                              1784          1371          1003   \n",
      "\n",
      "tto_pcto_dias_trabajados  (60.0, 70.0]  (70.0, 80.0]  (80.0, 90.0]  \\\n",
      "erasmus                                                              \n",
      "True                               696           431           271   \n",
      "\n",
      "tto_pcto_dias_trabajados  (90.0, 100.0]  \n",
      "erasmus                                  \n",
      "True                                103  \n",
      "tto_pcto_dias_trabajados                            (0.0, 10.0]  (10.0, 20.0]  \\\n",
      "tipo_acceso                                                                     \n",
      "ACCESO A TERCER CICLO                                        17            18   \n",
      "ACCESO A TERCER CICLO CON PERIODO DE DOCENCIA                 1             2   \n",
      "ACCESO A TERCER CICLO CON PERIODO DE INVESTIGACIÓN            1             1   \n",
      "ACCESO A TERCER CICLO CON SUFICIENCIA INVESTIGA...            4             4   \n",
      "ACCESO DOCTORADO (RD 1393/2007)                               2             2   \n",
      "Acceso a Segundo Ciclo                                       83            71   \n",
      "COU sin selectividad                                         13             5   \n",
      "Estudios universitarios extranjeros parcialment...            0             0   \n",
      "Formación Profesional                                       277           299   \n",
      "Mayores de 25/40/45 años                                     21            20   \n",
      "Otros accesos a primer y segundo ciclo                       21            15   \n",
      "Selectividad                                               2332          2263   \n",
      "Traslado de Expediente (Estudios Españoles)                  12            15   \n",
      "Título Universitario                                        121           118   \n",
      "\n",
      "tto_pcto_dias_trabajados                            (20.0, 30.0]  \\\n",
      "tipo_acceso                                                        \n",
      "ACCESO A TERCER CICLO                                         21   \n",
      "ACCESO A TERCER CICLO CON PERIODO DE DOCENCIA                  4   \n",
      "ACCESO A TERCER CICLO CON PERIODO DE INVESTIGACIÓN             2   \n",
      "ACCESO A TERCER CICLO CON SUFICIENCIA INVESTIGA...             4   \n",
      "ACCESO DOCTORADO (RD 1393/2007)                                2   \n",
      "Acceso a Segundo Ciclo                                        64   \n",
      "COU sin selectividad                                           9   \n",
      "Estudios universitarios extranjeros parcialment...             0   \n",
      "Formación Profesional                                        287   \n",
      "Mayores de 25/40/45 años                                      18   \n",
      "Otros accesos a primer y segundo ciclo                        12   \n",
      "Selectividad                                                1912   \n",
      "Traslado de Expediente (Estudios Españoles)                   14   \n",
      "Título Universitario                                         128   \n",
      "\n",
      "tto_pcto_dias_trabajados                            (30.0, 40.0]  \\\n",
      "tipo_acceso                                                        \n",
      "ACCESO A TERCER CICLO                                         23   \n",
      "ACCESO A TERCER CICLO CON PERIODO DE DOCENCIA                  1   \n",
      "ACCESO A TERCER CICLO CON PERIODO DE INVESTIGACIÓN             1   \n",
      "ACCESO A TERCER CICLO CON SUFICIENCIA INVESTIGA...             1   \n",
      "ACCESO DOCTORADO (RD 1393/2007)                                1   \n",
      "Acceso a Segundo Ciclo                                        65   \n",
      "COU sin selectividad                                           5   \n",
      "Estudios universitarios extranjeros parcialment...             0   \n",
      "Formación Profesional                                        192   \n",
      "Mayores de 25/40/45 años                                      16   \n",
      "Otros accesos a primer y segundo ciclo                         8   \n",
      "Selectividad                                                1351   \n",
      "Traslado de Expediente (Estudios Españoles)                    6   \n",
      "Título Universitario                                         114   \n",
      "\n",
      "tto_pcto_dias_trabajados                            (40.0, 50.0]  \\\n",
      "tipo_acceso                                                        \n",
      "ACCESO A TERCER CICLO                                         13   \n",
      "ACCESO A TERCER CICLO CON PERIODO DE DOCENCIA                  2   \n",
      "ACCESO A TERCER CICLO CON PERIODO DE INVESTIGACIÓN             0   \n",
      "ACCESO A TERCER CICLO CON SUFICIENCIA INVESTIGA...             1   \n",
      "ACCESO DOCTORADO (RD 1393/2007)                                2   \n",
      "Acceso a Segundo Ciclo                                        77   \n",
      "COU sin selectividad                                           6   \n",
      "Estudios universitarios extranjeros parcialment...             1   \n",
      "Formación Profesional                                        178   \n",
      "Mayores de 25/40/45 años                                      12   \n",
      "Otros accesos a primer y segundo ciclo                         9   \n",
      "Selectividad                                                 945   \n",
      "Traslado de Expediente (Estudios Españoles)                    5   \n",
      "Título Universitario                                         120   \n",
      "\n",
      "tto_pcto_dias_trabajados                            (50.0, 60.0]  \\\n",
      "tipo_acceso                                                        \n",
      "ACCESO A TERCER CICLO                                         15   \n",
      "ACCESO A TERCER CICLO CON PERIODO DE DOCENCIA                  2   \n",
      "ACCESO A TERCER CICLO CON PERIODO DE INVESTIGACIÓN             1   \n",
      "ACCESO A TERCER CICLO CON SUFICIENCIA INVESTIGA...             4   \n",
      "ACCESO DOCTORADO (RD 1393/2007)                                2   \n",
      "Acceso a Segundo Ciclo                                        71   \n",
      "COU sin selectividad                                           5   \n",
      "Estudios universitarios extranjeros parcialment...             1   \n",
      "Formación Profesional                                         97   \n",
      "Mayores de 25/40/45 años                                      13   \n",
      "Otros accesos a primer y segundo ciclo                        11   \n",
      "Selectividad                                                 660   \n",
      "Traslado de Expediente (Estudios Españoles)                    2   \n",
      "Título Universitario                                         119   \n",
      "\n",
      "tto_pcto_dias_trabajados                            (60.0, 70.0]  \\\n",
      "tipo_acceso                                                        \n",
      "ACCESO A TERCER CICLO                                         22   \n",
      "ACCESO A TERCER CICLO CON PERIODO DE DOCENCIA                  1   \n",
      "ACCESO A TERCER CICLO CON PERIODO DE INVESTIGACIÓN             0   \n",
      "ACCESO A TERCER CICLO CON SUFICIENCIA INVESTIGA...             3   \n",
      "ACCESO DOCTORADO (RD 1393/2007)                                0   \n",
      "Acceso a Segundo Ciclo                                        56   \n",
      "COU sin selectividad                                           2   \n",
      "Estudios universitarios extranjeros parcialment...             0   \n",
      "Formación Profesional                                         77   \n",
      "Mayores de 25/40/45 años                                      10   \n",
      "Otros accesos a primer y segundo ciclo                         7   \n",
      "Selectividad                                                 424   \n",
      "Traslado de Expediente (Estudios Españoles)                    3   \n",
      "Título Universitario                                          91   \n",
      "\n",
      "tto_pcto_dias_trabajados                            (70.0, 80.0]  \\\n",
      "tipo_acceso                                                        \n",
      "ACCESO A TERCER CICLO                                         12   \n",
      "ACCESO A TERCER CICLO CON PERIODO DE DOCENCIA                  1   \n",
      "ACCESO A TERCER CICLO CON PERIODO DE INVESTIGACIÓN             0   \n",
      "ACCESO A TERCER CICLO CON SUFICIENCIA INVESTIGA...             3   \n",
      "ACCESO DOCTORADO (RD 1393/2007)                                0   \n",
      "Acceso a Segundo Ciclo                                        48   \n",
      "COU sin selectividad                                           3   \n",
      "Estudios universitarios extranjeros parcialment...             0   \n",
      "Formación Profesional                                         34   \n",
      "Mayores de 25/40/45 años                                       5   \n",
      "Otros accesos a primer y segundo ciclo                         2   \n",
      "Selectividad                                                 231   \n",
      "Traslado de Expediente (Estudios Españoles)                    2   \n",
      "Título Universitario                                          90   \n",
      "\n",
      "tto_pcto_dias_trabajados                            (80.0, 90.0]  \\\n",
      "tipo_acceso                                                        \n",
      "ACCESO A TERCER CICLO                                         12   \n",
      "ACCESO A TERCER CICLO CON PERIODO DE DOCENCIA                  1   \n",
      "ACCESO A TERCER CICLO CON PERIODO DE INVESTIGACIÓN             0   \n",
      "ACCESO A TERCER CICLO CON SUFICIENCIA INVESTIGA...             3   \n",
      "ACCESO DOCTORADO (RD 1393/2007)                                2   \n",
      "Acceso a Segundo Ciclo                                        27   \n",
      "COU sin selectividad                                           1   \n",
      "Estudios universitarios extranjeros parcialment...             0   \n",
      "Formación Profesional                                         26   \n",
      "Mayores de 25/40/45 años                                       7   \n",
      "Otros accesos a primer y segundo ciclo                         3   \n",
      "Selectividad                                                 135   \n",
      "Traslado de Expediente (Estudios Españoles)                    0   \n",
      "Título Universitario                                          54   \n",
      "\n",
      "tto_pcto_dias_trabajados                            (90.0, 100.0]  \n",
      "tipo_acceso                                                        \n",
      "ACCESO A TERCER CICLO                                           4  \n",
      "ACCESO A TERCER CICLO CON PERIODO DE DOCENCIA                   0  \n",
      "ACCESO A TERCER CICLO CON PERIODO DE INVESTIGACIÓN              0  \n",
      "ACCESO A TERCER CICLO CON SUFICIENCIA INVESTIGA...              0  \n",
      "ACCESO DOCTORADO (RD 1393/2007)                                 3  \n",
      "Acceso a Segundo Ciclo                                         16  \n",
      "COU sin selectividad                                            0  \n",
      "Estudios universitarios extranjeros parcialment...              0  \n",
      "Formación Profesional                                          11  \n",
      "Mayores de 25/40/45 años                                        1  \n",
      "Otros accesos a primer y segundo ciclo                          0  \n",
      "Selectividad                                                   43  \n",
      "Traslado de Expediente (Estudios Españoles)                     0  \n",
      "Título Universitario                                           25  \n",
      "tto_pcto_dias_trabajados  (0.0, 10.0]  (10.0, 20.0]  (20.0, 30.0]  \\\n",
      "municipio_familiar                                                  \n",
      "A CORUÑA                            0             0             0   \n",
      "ABADÍA                              0             0             0   \n",
      "ABERTURA                            0             1             0   \n",
      "ACEBO                               0             1             1   \n",
      "ACEDERA                             0             1             1   \n",
      "...                               ...           ...           ...   \n",
      "ZARZA-CAPILLA                       0             2             1   \n",
      "ZORITA                              1             1             0   \n",
      "ZURBARAN                            0             1             0   \n",
      "ÁVILA                               1             1             0   \n",
      "ÉCIJA                               2             0             0   \n",
      "\n",
      "tto_pcto_dias_trabajados  (30.0, 40.0]  (40.0, 50.0]  (50.0, 60.0]  \\\n",
      "municipio_familiar                                                   \n",
      "A CORUÑA                             0             0             1   \n",
      "ABADÍA                               0             0             1   \n",
      "ABERTURA                             0             0             0   \n",
      "ACEBO                                2             0             0   \n",
      "ACEDERA                              0             0             0   \n",
      "...                                ...           ...           ...   \n",
      "ZARZA-CAPILLA                        0             0             0   \n",
      "ZORITA                               3             0             0   \n",
      "ZURBARAN                             1             0             0   \n",
      "ÁVILA                                0             0             0   \n",
      "ÉCIJA                                0             0             0   \n",
      "\n",
      "tto_pcto_dias_trabajados  (60.0, 70.0]  (70.0, 80.0]  (80.0, 90.0]  \\\n",
      "municipio_familiar                                                   \n",
      "A CORUÑA                             0             0             0   \n",
      "ABADÍA                               0             0             0   \n",
      "ABERTURA                             0             0             0   \n",
      "ACEBO                                0             0             0   \n",
      "ACEDERA                              0             0             0   \n",
      "...                                ...           ...           ...   \n",
      "ZARZA-CAPILLA                        0             0             0   \n",
      "ZORITA                               1             0             0   \n",
      "ZURBARAN                             1             0             0   \n",
      "ÁVILA                                0             0             0   \n",
      "ÉCIJA                                0             0             0   \n",
      "\n",
      "tto_pcto_dias_trabajados  (90.0, 100.0]  \n",
      "municipio_familiar                       \n",
      "A CORUÑA                              0  \n",
      "ABADÍA                                0  \n",
      "ABERTURA                              0  \n",
      "ACEBO                                 0  \n",
      "ACEDERA                               0  \n",
      "...                                 ...  \n",
      "ZARZA-CAPILLA                         0  \n",
      "ZORITA                                0  \n",
      "ZURBARAN                              0  \n",
      "ÁVILA                                 0  \n",
      "ÉCIJA                                 0  \n",
      "\n",
      "[549 rows x 10 columns]\n",
      "tto_pcto_dias_trabajados  (0.0, 10.0]  (10.0, 20.0]  (20.0, 30.0]  \\\n",
      "tipo_erasmus                                                        \n",
      "Estudios                          172           127            91   \n",
      "Ninguno                          2721          2700          2383   \n",
      "Prácticas                          12             6             3   \n",
      "\n",
      "tto_pcto_dias_trabajados  (30.0, 40.0]  (40.0, 50.0]  (50.0, 60.0]  \\\n",
      "tipo_erasmus                                                         \n",
      "Estudios                            71            62            43   \n",
      "Ninguno                           1705          1308           955   \n",
      "Prácticas                            8             1             5   \n",
      "\n",
      "tto_pcto_dias_trabajados  (60.0, 70.0]  (70.0, 80.0]  (80.0, 90.0]  \\\n",
      "tipo_erasmus                                                         \n",
      "Estudios                            29             9             7   \n",
      "Ninguno                            666           420           264   \n",
      "Prácticas                            1             2             0   \n",
      "\n",
      "tto_pcto_dias_trabajados  (90.0, 100.0]  \n",
      "tipo_erasmus                             \n",
      "Estudios                              4  \n",
      "Ninguno                              99  \n",
      "Prácticas                             0  \n"
     ]
    }
   ],
   "source": [
    "table_sexo_ttopcto = pd.crosstab(dv_personas_190411_categorical_10['sexo'],dv_personas_190411_categorical_10['tto_pcto_dias_trabajados'],margins= False)\n",
    "table_idiomas_ttopcto = pd.crosstab(dv_personas_190411_categorical_10['idiomas'],dv_personas_190411_categorical_10['tto_pcto_dias_trabajados'],margins= False)\n",
    "table_erasmus_ttopcto = pd.crosstab(dv_personas_190411_categorical_10['erasmus'],dv_personas_190411_categorical_10['tto_pcto_dias_trabajados'],margins= False)\n",
    "table_tipo_acesso_ttopcto = pd.crosstab(dv_personas_190411_categorical_10['tipo_acceso'],dv_personas_190411_categorical_10['tto_pcto_dias_trabajados'],margins= False)\n",
    "table_municipio_familiar_ttopcto = pd.crosstab(dv_personas_190411_categorical_10['municipio_familiar'],dv_personas_190411_categorical_10['tto_pcto_dias_trabajados'],margins= False)\n",
    "table_tipo_erasmus_ttopcto = pd.crosstab(dv_personas_190411_categorical_10['tipo_erasmus'],dv_personas_190411_categorical_10['tto_pcto_dias_trabajados'],margins= False)\n",
    "\n",
    "\n",
    "print (table_sexo_ttopcto)\n",
    "print (table_idiomas_ttopcto)\n",
    "print (table_erasmus_ttopcto)\n",
    "print(table_tipo_acesso_ttopcto)\n",
    "print(table_municipio_familiar_ttopcto)\n",
    "print(table_tipo_erasmus_ttopcto)"
   ]
  },
  {
   "cell_type": "code",
   "execution_count": 45,
   "metadata": {},
   "outputs": [
    {
     "name": "stdout",
     "output_type": "stream",
     "text": [
      "dof=9\n",
      "[[1123.76639758 1095.91401182  958.1994378   690.12022488  530.35584547\n",
      "   387.99920715  269.23972899  166.72747585  104.83328528   39.84438518]\n",
      " [1781.23360242 1737.08598818 1518.8005622  1093.87977512  840.64415453\n",
      "   615.00079285  426.76027101  264.27252415  166.16671472   63.15561482]]\n",
      "probability=0.950, critical=16.919, stat=54.217\n",
      "Dependent (reject H0)\n",
      "significance=0.050, p=0.000\n",
      "Dependent (reject H0)\n"
     ]
    }
   ],
   "source": [
    "stat, p, dof, expected = chi2_contingency(table_sexo_ttopcto)\n",
    "print('dof=%d' % dof)\n",
    "print(expected)\n",
    "# interpret test-statistic\n",
    "prob = 0.95\n",
    "critical = chi2.ppf(prob, dof)\n",
    "print('probability=%.3f, critical=%.3f, stat=%.3f' % (prob, critical, stat))\n",
    "if abs(stat) >= critical:\n",
    "\tprint('Dependent (reject H0)')\n",
    "else:\n",
    "\tprint('Independent (fail to reject H0)')\n",
    "# interpret p-value\n",
    "alpha = 1.0 - prob\n",
    "print('significance=%.3f, p=%.3f' % (alpha, p))\n",
    "if p <= alpha:\n",
    "\tprint('Dependent (reject H0)')\n",
    "else:\n",
    "\tprint('Independent (fail to reject H0)')"
   ]
  },
  {
   "cell_type": "code",
   "execution_count": 46,
   "metadata": {},
   "outputs": [],
   "source": [
    "dependent_features.append('sexo')"
   ]
  },
  {
   "cell_type": "code",
   "execution_count": 47,
   "metadata": {},
   "outputs": [
    {
     "name": "stdout",
     "output_type": "stream",
     "text": [
      "dof=0\n",
      "[[2905. 2833. 2477. 1784. 1371. 1003.  696.  431.  271.  103.]]\n",
      "probability=0.950, critical=nan, stat=0.000\n",
      "Independent (fail to reject H0)\n",
      "significance=0.050, p=1.000\n",
      "Independent (fail to reject H0)\n"
     ]
    }
   ],
   "source": [
    "stat, p, dof, expected = chi2_contingency(table_idiomas_ttopcto)\n",
    "print('dof=%d' % dof)\n",
    "print(expected)\n",
    "# interpret test-statistic\n",
    "prob = 0.95\n",
    "critical = chi2.ppf(prob, dof)\n",
    "print('probability=%.3f, critical=%.3f, stat=%.3f' % (prob, critical, stat))\n",
    "if abs(stat) >= critical:\n",
    "\tprint('Dependent (reject H0)')\n",
    "else:\n",
    "\tprint('Independent (fail to reject H0)')\n",
    "# interpret p-value\n",
    "alpha = 1.0 - prob\n",
    "print('significance=%.3f, p=%.3f' % (alpha, p))\n",
    "if p <= alpha:\n",
    "\tprint('Dependent (reject H0)')\n",
    "else:\n",
    "\tprint('Independent (fail to reject H0)')"
   ]
  },
  {
   "cell_type": "code",
   "execution_count": 48,
   "metadata": {},
   "outputs": [
    {
     "name": "stdout",
     "output_type": "stream",
     "text": [
      "dof=0\n",
      "[[2905. 2833. 2477. 1784. 1371. 1003.  696.  431.  271.  103.]]\n",
      "probability=0.950, critical=nan, stat=0.000\n",
      "Independent (fail to reject H0)\n",
      "significance=0.050, p=1.000\n",
      "Independent (fail to reject H0)\n"
     ]
    }
   ],
   "source": [
    "stat, p, dof, expected = chi2_contingency(table_erasmus_ttopcto)\n",
    "print('dof=%d' % dof)\n",
    "print(expected)\n",
    "# interpret test-statistic\n",
    "prob = 0.95\n",
    "critical = chi2.ppf(prob, dof)\n",
    "print('probability=%.3f, critical=%.3f, stat=%.3f' % (prob, critical, stat))\n",
    "if abs(stat) >= critical:\n",
    "\tprint('Dependent (reject H0)')\n",
    "else:\n",
    "\tprint('Independent (fail to reject H0)')\n",
    "# interpret p-value\n",
    "alpha = 1.0 - prob\n",
    "print('significance=%.3f, p=%.3f' % (alpha, p))\n",
    "if p <= alpha:\n",
    "\tprint('Dependent (reject H0)')\n",
    "else:\n",
    "\tprint('Independent (fail to reject H0)')"
   ]
  },
  {
   "cell_type": "code",
   "execution_count": 49,
   "metadata": {},
   "outputs": [
    {
     "name": "stdout",
     "output_type": "stream",
     "text": [
      "dof=117\n",
      "[[3.28733602e+01 3.20585988e+01 2.80300562e+01 2.01879775e+01\n",
      "  1.55144155e+01 1.13500793e+01 7.87602710e+00 4.87725241e+00\n",
      "  3.06667147e+00 1.16556148e+00]\n",
      " [3.14076690e+00 3.06292345e+00 2.67803085e+00 1.92878766e+00\n",
      "  1.48226899e+00 1.08440248e+00 7.52486666e-01 4.65979530e-01\n",
      "  2.92994090e-01 1.11359377e-01]\n",
      " [1.25630676e+00 1.22516938e+00 1.07121234e+00 7.71515064e-01\n",
      "  5.92907597e-01 4.33760992e-01 3.00994666e-01 1.86391812e-01\n",
      "  1.17197636e-01 4.45437509e-02]\n",
      " [5.65338042e+00 5.51326222e+00 4.82045553e+00 3.47181779e+00\n",
      "  2.66808419e+00 1.95192446e+00 1.35447600e+00 8.38763154e-01\n",
      "  5.27389361e-01 2.00446879e-01]\n",
      " [3.35015136e+00 3.26711835e+00 2.85656624e+00 2.05737350e+00\n",
      "  1.58108693e+00 1.15669598e+00 8.02652443e-01 4.97044832e-01\n",
      "  3.12527029e-01 1.18783336e-01]\n",
      " [1.21024218e+02 1.18024650e+02 1.03193455e+02 7.43226178e+01\n",
      "  5.71167652e+01 4.17856422e+01 2.89958195e+01 1.79557446e+01\n",
      "  1.12900389e+01 4.29104800e+00]\n",
      " [1.02598385e+01 1.00055499e+01 8.74823411e+00 6.30070636e+00\n",
      "  4.84207871e+00 3.54238143e+00 2.45812311e+00 1.52219980e+00\n",
      "  9.57114026e-01 3.63773966e-01]\n",
      " [4.18768920e-01 4.08389794e-01 3.57070780e-01 2.57171688e-01\n",
      "  1.97635866e-01 1.44586997e-01 1.00331555e-01 6.21306040e-02\n",
      "  3.90658786e-02 1.48479170e-02]\n",
      " [3.09470232e+02 3.01800058e+02 2.63875306e+02 1.90049877e+02\n",
      "  1.46052905e+02 1.06849791e+02 7.41450195e+01 4.59145164e+01\n",
      "  2.88696843e+01 1.09726106e+01]\n",
      " [2.57542886e+01 2.51159723e+01 2.19598530e+01 1.58160588e+01\n",
      "  1.21546057e+01 8.89210033e+00 6.17039066e+00 3.82103215e+00\n",
      "  2.40255154e+00 9.13146893e-01]\n",
      " [1.84258325e+01 1.79691509e+01 1.57111143e+01 1.13155543e+01\n",
      "  8.69597809e+00 6.36182788e+00 4.41458844e+00 2.73374658e+00\n",
      "  1.71889866e+00 6.53308347e-01]\n",
      " [2.15582240e+03 2.10239066e+03 1.83820037e+03 1.32391985e+03\n",
      "  1.01742944e+03 7.44333862e+02 5.16506847e+02 3.19848349e+02\n",
      "  2.01111143e+02 7.64370765e+01]\n",
      " [1.23536831e+01 1.20474989e+01 1.05335880e+01 7.58656480e+00\n",
      "  5.83025804e+00 4.26531642e+00 2.95978089e+00 1.83285282e+00\n",
      "  1.15244342e+00 4.38013551e-01]\n",
      " [2.05196771e+02 2.00110999e+02 1.74964682e+02 1.26014127e+02\n",
      "  9.68415742e+01 7.08476287e+01 4.91624622e+01 3.04439960e+01\n",
      "  1.91422805e+01 7.27547931e+00]]\n",
      "probability=0.950, critical=143.246, stat=972.344\n",
      "Dependent (reject H0)\n",
      "significance=0.050, p=0.000\n",
      "Dependent (reject H0)\n"
     ]
    }
   ],
   "source": [
    "stat, p, dof, expected = chi2_contingency(table_tipo_acesso_ttopcto)\n",
    "print('dof=%d' % dof)\n",
    "print(expected)\n",
    "# interpret test-statistic\n",
    "prob = 0.95\n",
    "critical = chi2.ppf(prob, dof)\n",
    "print('probability=%.3f, critical=%.3f, stat=%.3f' % (prob, critical, stat))\n",
    "if abs(stat) >= critical:\n",
    "\tprint('Dependent (reject H0)')\n",
    "else:\n",
    "\tprint('Independent (fail to reject H0)')\n",
    "# interpret p-value\n",
    "alpha = 1.0 - prob\n",
    "print('significance=%.3f, p=%.3f' % (alpha, p))\n",
    "if p <= alpha:\n",
    "\tprint('Dependent (reject H0)')\n",
    "else:\n",
    "\tprint('Independent (fail to reject H0)')"
   ]
  },
  {
   "cell_type": "code",
   "execution_count": 50,
   "metadata": {},
   "outputs": [],
   "source": [
    "dependent_features.append('tipo_acceso')"
   ]
  },
  {
   "cell_type": "code",
   "execution_count": 51,
   "metadata": {},
   "outputs": [
    {
     "name": "stdout",
     "output_type": "stream",
     "text": [
      "dof=4932\n",
      "[[0.20938446 0.2041949  0.17853539 ... 0.0310653  0.01953294 0.00742396]\n",
      " [0.20938446 0.2041949  0.17853539 ... 0.0310653  0.01953294 0.00742396]\n",
      " [0.20938446 0.2041949  0.17853539 ... 0.0310653  0.01953294 0.00742396]\n",
      " ...\n",
      " [0.62815338 0.61258469 0.53560617 ... 0.09319591 0.05859882 0.02227188]\n",
      " [0.41876892 0.40838979 0.35707078 ... 0.0621306  0.03906588 0.01484792]\n",
      " [0.41876892 0.40838979 0.35707078 ... 0.0621306  0.03906588 0.01484792]]\n",
      "probability=0.950, critical=5096.492, stat=4384.200\n",
      "Independent (fail to reject H0)\n",
      "significance=0.050, p=1.000\n",
      "Independent (fail to reject H0)\n"
     ]
    }
   ],
   "source": [
    "stat, p, dof, expected = chi2_contingency(table_municipio_familiar_ttopcto)\n",
    "print('dof=%d' % dof)\n",
    "print(expected)\n",
    "# interpret test-statistic\n",
    "prob = 0.95\n",
    "critical = chi2.ppf(prob, dof)\n",
    "print('probability=%.3f, critical=%.3f, stat=%.3f' % (prob, critical, stat))\n",
    "if abs(stat) >= critical:\n",
    "\tprint('Dependent (reject H0)')\n",
    "else:\n",
    "\tprint('Independent (fail to reject H0)')\n",
    "# interpret p-value\n",
    "alpha = 1.0 - prob\n",
    "print('significance=%.3f, p=%.3f' % (alpha, p))\n",
    "if p <= alpha:\n",
    "\tprint('Dependent (reject H0)')\n",
    "else:\n",
    "\tprint('Independent (fail to reject H0)')"
   ]
  },
  {
   "cell_type": "code",
   "execution_count": 52,
   "metadata": {},
   "outputs": [
    {
     "name": "stdout",
     "output_type": "stream",
     "text": [
      "dof=18\n",
      "[[1.28771443e+02 1.25579862e+02 1.09799265e+02 7.90802941e+01\n",
      "  6.07730287e+01 4.44605017e+01 3.08519533e+01 1.91051607e+01\n",
      "  1.20127577e+01 4.56573447e+00]\n",
      " [2.76827195e+03 2.69966073e+03 2.36041639e+03 1.70003344e+03\n",
      "  1.30647189e+03 9.55792345e+02 6.63241747e+02 4.10714358e+02\n",
      "  2.58244991e+02 9.81521551e+01]\n",
      " [7.95660949e+00 7.75940608e+00 6.78434482e+00 4.88626207e+00\n",
      "  3.75508145e+00 2.74715295e+00 1.90629955e+00 1.18048148e+00\n",
      "  7.42251694e-01 2.82110422e-01]]\n",
      "probability=0.950, critical=28.869, stat=40.102\n",
      "Dependent (reject H0)\n",
      "significance=0.050, p=0.002\n",
      "Dependent (reject H0)\n"
     ]
    }
   ],
   "source": [
    "stat, p, dof, expected = chi2_contingency(table_tipo_erasmus_ttopcto)\n",
    "print('dof=%d' % dof)\n",
    "print(expected)\n",
    "# interpret test-statistic\n",
    "prob = 0.95\n",
    "critical = chi2.ppf(prob, dof)\n",
    "print('probability=%.3f, critical=%.3f, stat=%.3f' % (prob, critical, stat))\n",
    "if abs(stat) >= critical:\n",
    "\tprint('Dependent (reject H0)')\n",
    "else:\n",
    "\tprint('Independent (fail to reject H0)')\n",
    "# interpret p-value\n",
    "alpha = 1.0 - prob\n",
    "print('significance=%.3f, p=%.3f' % (alpha, p))\n",
    "if p <= alpha:\n",
    "\tprint('Dependent (reject H0)')\n",
    "else:\n",
    "\tprint('Independent (fail to reject H0)')"
   ]
  },
  {
   "cell_type": "code",
   "execution_count": 53,
   "metadata": {},
   "outputs": [],
   "source": [
    "dependent_features.append('tipo_erasmus')"
   ]
  },
  {
   "cell_type": "code",
   "execution_count": 54,
   "metadata": {},
   "outputs": [
    {
     "name": "stdout",
     "output_type": "stream",
     "text": [
      "['sexo', 'tipo_acceso', 'tipo_erasmus']\n"
     ]
    }
   ],
   "source": [
    "print(dependent_features)"
   ]
  },
  {
   "cell_type": "markdown",
   "metadata": {},
   "source": [
    "#### Comenzamos con el proceso de Ingeniería de Características para variables numéricas:"
   ]
  },
  {
   "cell_type": "code",
   "execution_count": 55,
   "metadata": {},
   "outputs": [
    {
     "data": {
      "text/html": [
       "<div>\n",
       "<style scoped>\n",
       "    .dataframe tbody tr th:only-of-type {\n",
       "        vertical-align: middle;\n",
       "    }\n",
       "\n",
       "    .dataframe tbody tr th {\n",
       "        vertical-align: top;\n",
       "    }\n",
       "\n",
       "    .dataframe thead th {\n",
       "        text-align: right;\n",
       "    }\n",
       "</style>\n",
       "<table border=\"1\" class=\"dataframe\">\n",
       "  <thead>\n",
       "    <tr style=\"text-align: right;\">\n",
       "      <th></th>\n",
       "      <th>num_erasmus</th>\n",
       "      <th>num_idiomas</th>\n",
       "      <th>edad_fin_primera_titulacion</th>\n",
       "      <th>tto_pcto_dias_trabajados</th>\n",
       "    </tr>\n",
       "  </thead>\n",
       "  <tbody>\n",
       "    <tr>\n",
       "      <th>0</th>\n",
       "      <td>0</td>\n",
       "      <td>0</td>\n",
       "      <td>21</td>\n",
       "      <td>23.0</td>\n",
       "    </tr>\n",
       "    <tr>\n",
       "      <th>1</th>\n",
       "      <td>0</td>\n",
       "      <td>0</td>\n",
       "      <td>26</td>\n",
       "      <td>28.0</td>\n",
       "    </tr>\n",
       "    <tr>\n",
       "      <th>2</th>\n",
       "      <td>0</td>\n",
       "      <td>1</td>\n",
       "      <td>24</td>\n",
       "      <td>21.0</td>\n",
       "    </tr>\n",
       "    <tr>\n",
       "      <th>7</th>\n",
       "      <td>0</td>\n",
       "      <td>0</td>\n",
       "      <td>21</td>\n",
       "      <td>37.0</td>\n",
       "    </tr>\n",
       "    <tr>\n",
       "      <th>8</th>\n",
       "      <td>0</td>\n",
       "      <td>0</td>\n",
       "      <td>32</td>\n",
       "      <td>78.0</td>\n",
       "    </tr>\n",
       "  </tbody>\n",
       "</table>\n",
       "</div>"
      ],
      "text/plain": [
       "   num_erasmus  num_idiomas  edad_fin_primera_titulacion  \\\n",
       "0            0            0                           21   \n",
       "1            0            0                           26   \n",
       "2            0            1                           24   \n",
       "7            0            0                           21   \n",
       "8            0            0                           32   \n",
       "\n",
       "   tto_pcto_dias_trabajados  \n",
       "0                      23.0  \n",
       "1                      28.0  \n",
       "2                      21.0  \n",
       "7                      37.0  \n",
       "8                      78.0  "
      ]
     },
     "execution_count": 55,
     "metadata": {},
     "output_type": "execute_result"
    }
   ],
   "source": [
    "dv_personas_190411_numerical = dv_personas_190411[numericalCols]\n",
    "dv_personas_190411_numerical.head()"
   ]
  },
  {
   "cell_type": "code",
   "execution_count": 56,
   "metadata": {},
   "outputs": [
    {
     "data": {
      "text/html": [
       "<div>\n",
       "<style scoped>\n",
       "    .dataframe tbody tr th:only-of-type {\n",
       "        vertical-align: middle;\n",
       "    }\n",
       "\n",
       "    .dataframe tbody tr th {\n",
       "        vertical-align: top;\n",
       "    }\n",
       "\n",
       "    .dataframe thead th {\n",
       "        text-align: right;\n",
       "    }\n",
       "</style>\n",
       "<table border=\"1\" class=\"dataframe\">\n",
       "  <thead>\n",
       "    <tr style=\"text-align: right;\">\n",
       "      <th></th>\n",
       "      <th>num_erasmus</th>\n",
       "      <th>num_idiomas</th>\n",
       "      <th>edad_fin_primera_titulacion</th>\n",
       "    </tr>\n",
       "  </thead>\n",
       "  <tbody>\n",
       "    <tr>\n",
       "      <th>0</th>\n",
       "      <td>0</td>\n",
       "      <td>0</td>\n",
       "      <td>21</td>\n",
       "    </tr>\n",
       "    <tr>\n",
       "      <th>1</th>\n",
       "      <td>0</td>\n",
       "      <td>0</td>\n",
       "      <td>26</td>\n",
       "    </tr>\n",
       "    <tr>\n",
       "      <th>2</th>\n",
       "      <td>0</td>\n",
       "      <td>1</td>\n",
       "      <td>24</td>\n",
       "    </tr>\n",
       "    <tr>\n",
       "      <th>7</th>\n",
       "      <td>0</td>\n",
       "      <td>0</td>\n",
       "      <td>21</td>\n",
       "    </tr>\n",
       "    <tr>\n",
       "      <th>8</th>\n",
       "      <td>0</td>\n",
       "      <td>0</td>\n",
       "      <td>32</td>\n",
       "    </tr>\n",
       "  </tbody>\n",
       "</table>\n",
       "</div>"
      ],
      "text/plain": [
       "   num_erasmus  num_idiomas  edad_fin_primera_titulacion\n",
       "0            0            0                           21\n",
       "1            0            0                           26\n",
       "2            0            1                           24\n",
       "7            0            0                           21\n",
       "8            0            0                           32"
      ]
     },
     "execution_count": 56,
     "metadata": {},
     "output_type": "execute_result"
    }
   ],
   "source": [
    "dv_personas_190411_numerical_features = dv_personas_190411_numerical[['num_erasmus','num_idiomas','edad_fin_primera_titulacion']]\n",
    "dv_personas_190411_numerical_features.head()"
   ]
  },
  {
   "cell_type": "code",
   "execution_count": 57,
   "metadata": {},
   "outputs": [
    {
     "data": {
      "text/html": [
       "<div>\n",
       "<style scoped>\n",
       "    .dataframe tbody tr th:only-of-type {\n",
       "        vertical-align: middle;\n",
       "    }\n",
       "\n",
       "    .dataframe tbody tr th {\n",
       "        vertical-align: top;\n",
       "    }\n",
       "\n",
       "    .dataframe thead th {\n",
       "        text-align: right;\n",
       "    }\n",
       "</style>\n",
       "<table border=\"1\" class=\"dataframe\">\n",
       "  <thead>\n",
       "    <tr style=\"text-align: right;\">\n",
       "      <th></th>\n",
       "      <th>tto_pcto_dias_trabajados</th>\n",
       "    </tr>\n",
       "  </thead>\n",
       "  <tbody>\n",
       "    <tr>\n",
       "      <th>0</th>\n",
       "      <td>23.0</td>\n",
       "    </tr>\n",
       "    <tr>\n",
       "      <th>1</th>\n",
       "      <td>28.0</td>\n",
       "    </tr>\n",
       "    <tr>\n",
       "      <th>2</th>\n",
       "      <td>21.0</td>\n",
       "    </tr>\n",
       "    <tr>\n",
       "      <th>7</th>\n",
       "      <td>37.0</td>\n",
       "    </tr>\n",
       "    <tr>\n",
       "      <th>8</th>\n",
       "      <td>78.0</td>\n",
       "    </tr>\n",
       "  </tbody>\n",
       "</table>\n",
       "</div>"
      ],
      "text/plain": [
       "   tto_pcto_dias_trabajados\n",
       "0                      23.0\n",
       "1                      28.0\n",
       "2                      21.0\n",
       "7                      37.0\n",
       "8                      78.0"
      ]
     },
     "execution_count": 57,
     "metadata": {},
     "output_type": "execute_result"
    }
   ],
   "source": [
    "dv_personas_190411_numerical_label = dv_personas_190411_numerical[['tto_pcto_dias_trabajados']]\n",
    "dv_personas_190411_numerical_label.head()"
   ]
  },
  {
   "cell_type": "code",
   "execution_count": 58,
   "metadata": {
    "scrolled": true
   },
   "outputs": [
    {
     "name": "stderr",
     "output_type": "stream",
     "text": [
      "<ipython-input-58-1677b5f15487>:2: DataConversionWarning: A column-vector y was passed when a 1d array was expected. Please change the shape of y to (n_samples,), for example using ravel().\n",
      "  model.fit(dv_personas_190411_numerical_features,dv_personas_190411_numerical_label)\n"
     ]
    },
    {
     "name": "stdout",
     "output_type": "stream",
     "text": [
      "[0.0625622  0.10194222 0.83549558]\n"
     ]
    },
    {
     "data": {
      "image/png": "[encoded data removed]",
      "text/plain": [
       "<Figure size 432x288 with 1 Axes>"
      ]
     },
     "metadata": {
      "needs_background": "light"
     },
     "output_type": "display_data"
    }
   ],
   "source": [
    "model = ExtraTreesClassifier()\n",
    "model.fit(dv_personas_190411_numerical_features,dv_personas_190411_numerical_label)\n",
    "print(model.feature_importances_)\n",
    "feat_importances = pd.Series(model.feature_importances_, index=dv_personas_190411_numerical_features.columns)\n",
    "feat_importances.nlargest(10).plot(kind='barh')\n",
    "plt.show()"
   ]
  },
  {
   "cell_type": "code",
   "execution_count": 59,
   "metadata": {},
   "outputs": [
    {
     "name": "stdout",
     "output_type": "stream",
     "text": [
      "['sexo', 'tipo_acceso', 'tipo_erasmus', 'edad_fin_primera_titulacion']\n"
     ]
    }
   ],
   "source": [
    "dependent_features.append('edad_fin_primera_titulacion')\n",
    "print(dependent_features)"
   ]
  },
  {
   "cell_type": "code",
   "execution_count": 60,
   "metadata": {
    "scrolled": true
   },
   "outputs": [
    {
     "data": {
      "text/html": [
       "<div>\n",
       "<style scoped>\n",
       "    .dataframe tbody tr th:only-of-type {\n",
       "        vertical-align: middle;\n",
       "    }\n",
       "\n",
       "    .dataframe tbody tr th {\n",
       "        vertical-align: top;\n",
       "    }\n",
       "\n",
       "    .dataframe thead th {\n",
       "        text-align: right;\n",
       "    }\n",
       "</style>\n",
       "<table border=\"1\" class=\"dataframe\">\n",
       "  <thead>\n",
       "    <tr style=\"text-align: right;\">\n",
       "      <th></th>\n",
       "      <th>sexo</th>\n",
       "      <th>tipo_acceso</th>\n",
       "      <th>tipo_erasmus</th>\n",
       "      <th>edad_fin_primera_titulacion</th>\n",
       "      <th>tto_pcto_dias_trabajados</th>\n",
       "      <th>dni</th>\n",
       "    </tr>\n",
       "  </thead>\n",
       "  <tbody>\n",
       "    <tr>\n",
       "      <th>0</th>\n",
       "      <td>M</td>\n",
       "      <td>Selectividad</td>\n",
       "      <td>Ninguno</td>\n",
       "      <td>21</td>\n",
       "      <td>23.0</td>\n",
       "      <td>0013670b45b4207d01539bc1d057daa03bab0e2de19916...</td>\n",
       "    </tr>\n",
       "    <tr>\n",
       "      <th>1</th>\n",
       "      <td>M</td>\n",
       "      <td>Selectividad</td>\n",
       "      <td>Ninguno</td>\n",
       "      <td>26</td>\n",
       "      <td>28.0</td>\n",
       "      <td>2ec47253d8c59fa32f000519d2f9b83c26c7f11dcc1ed8...</td>\n",
       "    </tr>\n",
       "    <tr>\n",
       "      <th>2</th>\n",
       "      <td>M</td>\n",
       "      <td>Acceso a Segundo Ciclo</td>\n",
       "      <td>Ninguno</td>\n",
       "      <td>24</td>\n",
       "      <td>21.0</td>\n",
       "      <td>2d2f9c8a7e3c780fef578a2be45f60d537480aeaf01a88...</td>\n",
       "    </tr>\n",
       "    <tr>\n",
       "      <th>7</th>\n",
       "      <td>H</td>\n",
       "      <td>Selectividad</td>\n",
       "      <td>Ninguno</td>\n",
       "      <td>21</td>\n",
       "      <td>37.0</td>\n",
       "      <td>df8a544bdeb3b60dfe3c5ab2abce943b2e8769ca4693ce...</td>\n",
       "    </tr>\n",
       "    <tr>\n",
       "      <th>8</th>\n",
       "      <td>M</td>\n",
       "      <td>Título Universitario</td>\n",
       "      <td>Ninguno</td>\n",
       "      <td>32</td>\n",
       "      <td>78.0</td>\n",
       "      <td>0b7cafeb91821d6c39ccc2f3058edd9c77f351f0047f1a...</td>\n",
       "    </tr>\n",
       "  </tbody>\n",
       "</table>\n",
       "</div>"
      ],
      "text/plain": [
       "  sexo             tipo_acceso tipo_erasmus  edad_fin_primera_titulacion  \\\n",
       "0    M            Selectividad      Ninguno                           21   \n",
       "1    M            Selectividad      Ninguno                           26   \n",
       "2    M  Acceso a Segundo Ciclo      Ninguno                           24   \n",
       "7    H            Selectividad      Ninguno                           21   \n",
       "8    M    Título Universitario      Ninguno                           32   \n",
       "\n",
       "   tto_pcto_dias_trabajados                                                dni  \n",
       "0                      23.0  0013670b45b4207d01539bc1d057daa03bab0e2de19916...  \n",
       "1                      28.0  2ec47253d8c59fa32f000519d2f9b83c26c7f11dcc1ed8...  \n",
       "2                      21.0  2d2f9c8a7e3c780fef578a2be45f60d537480aeaf01a88...  \n",
       "7                      37.0  df8a544bdeb3b60dfe3c5ab2abce943b2e8769ca4693ce...  \n",
       "8                      78.0  0b7cafeb91821d6c39ccc2f3058edd9c77f351f0047f1a...  "
      ]
     },
     "execution_count": 60,
     "metadata": {},
     "output_type": "execute_result"
    }
   ],
   "source": [
    "dependent_features.append('tto_pcto_dias_trabajados')\n",
    "dependent_features.append('dni')\n",
    "dv_personas_190411_model = dv_personas_190411[dependent_features]\n",
    "dv_personas_190411_model.head()"
   ]
  },
  {
   "cell_type": "markdown",
   "metadata": {},
   "source": [
    "#### A continuación procedemos a añadir la característica de la titulación con dummies"
   ]
  },
  {
   "cell_type": "code",
   "execution_count": 61,
   "metadata": {},
   "outputs": [
    {
     "ename": "NameError",
     "evalue": "name 'dv_uex_190401_filtrado_personas_clean' is not defined",
     "output_type": "error",
     "traceback": [
      "\u001b[1;31m---------------------------------------------------------------------------\u001b[0m",
      "\u001b[1;31mNameError\u001b[0m                                 Traceback (most recent call last)",
      "\u001b[1;32m<ipython-input-61-1156ea789db8>\u001b[0m in \u001b[0;36m<module>\u001b[1;34m\u001b[0m\n\u001b[1;32m----> 1\u001b[1;33m \u001b[1;32mfor\u001b[0m \u001b[0mtitulacion\u001b[0m \u001b[1;32min\u001b[0m \u001b[0mdv_uex_190401_filtrado_personas_clean\u001b[0m\u001b[1;33m.\u001b[0m\u001b[0mtitulacion\u001b[0m\u001b[1;33m.\u001b[0m\u001b[0munique\u001b[0m\u001b[1;33m(\u001b[0m\u001b[1;33m)\u001b[0m\u001b[1;33m:\u001b[0m\u001b[1;33m\u001b[0m\u001b[1;33m\u001b[0m\u001b[0m\n\u001b[0m\u001b[0;32m      2\u001b[0m     \u001b[0mdv_personas_190411_model\u001b[0m\u001b[1;33m[\u001b[0m\u001b[1;34m\"Titulacion_is_\"\u001b[0m\u001b[1;33m+\u001b[0m\u001b[0mtitulacion\u001b[0m\u001b[1;33m]\u001b[0m \u001b[1;33m=\u001b[0m \u001b[1;36m0\u001b[0m\u001b[1;33m\u001b[0m\u001b[1;33m\u001b[0m\u001b[0m\n\u001b[0;32m      3\u001b[0m \u001b[1;33m\u001b[0m\u001b[0m\n",
      "\u001b[1;31mNameError\u001b[0m: name 'dv_uex_190401_filtrado_personas_clean' is not defined"
     ]
    }
   ],
   "source": [
    "for titulacion in dv_uex_190401_filtrado_personas_clean.titulacion.unique():\n",
    "    dv_personas_190411_model[\"Titulacion_is_\"+titulacion] = 0\n",
    "    \n"
   ]
  },
  {
   "cell_type": "code",
   "execution_count": 62,
   "metadata": {
    "scrolled": true
   },
   "outputs": [
    {
     "data": {
      "text/plain": [
       "sexo                           category\n",
       "tipo_acceso                    category\n",
       "tipo_erasmus                   category\n",
       "edad_fin_primera_titulacion       int64\n",
       "tto_pcto_dias_trabajados        float64\n",
       "dni                              object\n",
       "dtype: object"
      ]
     },
     "execution_count": 62,
     "metadata": {},
     "output_type": "execute_result"
    }
   ],
   "source": [
    "dv_personas_190411_model.dtypes"
   ]
  },
  {
   "cell_type": "code",
   "execution_count": 63,
   "metadata": {},
   "outputs": [
    {
     "data": {
      "text/html": [
       "<div>\n",
       "<style scoped>\n",
       "    .dataframe tbody tr th:only-of-type {\n",
       "        vertical-align: middle;\n",
       "    }\n",
       "\n",
       "    .dataframe tbody tr th {\n",
       "        vertical-align: top;\n",
       "    }\n",
       "\n",
       "    .dataframe thead th {\n",
       "        text-align: right;\n",
       "    }\n",
       "</style>\n",
       "<table border=\"1\" class=\"dataframe\">\n",
       "  <thead>\n",
       "    <tr style=\"text-align: right;\">\n",
       "      <th></th>\n",
       "      <th>sexo</th>\n",
       "      <th>tipo_acceso</th>\n",
       "      <th>tipo_erasmus</th>\n",
       "      <th>edad_fin_primera_titulacion</th>\n",
       "      <th>tto_pcto_dias_trabajados</th>\n",
       "      <th>dni</th>\n",
       "    </tr>\n",
       "  </thead>\n",
       "  <tbody>\n",
       "    <tr>\n",
       "      <th>0</th>\n",
       "      <td>M</td>\n",
       "      <td>Selectividad</td>\n",
       "      <td>Ninguno</td>\n",
       "      <td>21</td>\n",
       "      <td>23.0</td>\n",
       "      <td>0013670b45b4207d01539bc1d057daa03bab0e2de19916...</td>\n",
       "    </tr>\n",
       "    <tr>\n",
       "      <th>1</th>\n",
       "      <td>M</td>\n",
       "      <td>Selectividad</td>\n",
       "      <td>Ninguno</td>\n",
       "      <td>26</td>\n",
       "      <td>28.0</td>\n",
       "      <td>2ec47253d8c59fa32f000519d2f9b83c26c7f11dcc1ed8...</td>\n",
       "    </tr>\n",
       "    <tr>\n",
       "      <th>2</th>\n",
       "      <td>M</td>\n",
       "      <td>Acceso a Segundo Ciclo</td>\n",
       "      <td>Ninguno</td>\n",
       "      <td>24</td>\n",
       "      <td>21.0</td>\n",
       "      <td>2d2f9c8a7e3c780fef578a2be45f60d537480aeaf01a88...</td>\n",
       "    </tr>\n",
       "    <tr>\n",
       "      <th>7</th>\n",
       "      <td>H</td>\n",
       "      <td>Selectividad</td>\n",
       "      <td>Ninguno</td>\n",
       "      <td>21</td>\n",
       "      <td>37.0</td>\n",
       "      <td>df8a544bdeb3b60dfe3c5ab2abce943b2e8769ca4693ce...</td>\n",
       "    </tr>\n",
       "    <tr>\n",
       "      <th>8</th>\n",
       "      <td>M</td>\n",
       "      <td>Título Universitario</td>\n",
       "      <td>Ninguno</td>\n",
       "      <td>32</td>\n",
       "      <td>78.0</td>\n",
       "      <td>0b7cafeb91821d6c39ccc2f3058edd9c77f351f0047f1a...</td>\n",
       "    </tr>\n",
       "  </tbody>\n",
       "</table>\n",
       "</div>"
      ],
      "text/plain": [
       "  sexo             tipo_acceso tipo_erasmus  edad_fin_primera_titulacion  \\\n",
       "0    M            Selectividad      Ninguno                           21   \n",
       "1    M            Selectividad      Ninguno                           26   \n",
       "2    M  Acceso a Segundo Ciclo      Ninguno                           24   \n",
       "7    H            Selectividad      Ninguno                           21   \n",
       "8    M    Título Universitario      Ninguno                           32   \n",
       "\n",
       "   tto_pcto_dias_trabajados                                                dni  \n",
       "0                      23.0  0013670b45b4207d01539bc1d057daa03bab0e2de19916...  \n",
       "1                      28.0  2ec47253d8c59fa32f000519d2f9b83c26c7f11dcc1ed8...  \n",
       "2                      21.0  2d2f9c8a7e3c780fef578a2be45f60d537480aeaf01a88...  \n",
       "7                      37.0  df8a544bdeb3b60dfe3c5ab2abce943b2e8769ca4693ce...  \n",
       "8                      78.0  0b7cafeb91821d6c39ccc2f3058edd9c77f351f0047f1a...  "
      ]
     },
     "execution_count": 63,
     "metadata": {},
     "output_type": "execute_result"
    }
   ],
   "source": [
    "dv_personas_190411_model.head()"
   ]
  },
  {
   "cell_type": "code",
   "execution_count": 64,
   "metadata": {},
   "outputs": [
    {
     "ename": "NameError",
     "evalue": "name 'dv_uex_190401_filtrado_personas_clean' is not defined",
     "output_type": "error",
     "traceback": [
      "\u001b[1;31m---------------------------------------------------------------------------\u001b[0m",
      "\u001b[1;31mNameError\u001b[0m                                 Traceback (most recent call last)",
      "\u001b[1;32m<ipython-input-64-73747a62dec9>\u001b[0m in \u001b[0;36m<module>\u001b[1;34m\u001b[0m\n\u001b[1;32m----> 1\u001b[1;33m \u001b[0mdv_uex_190401_filtrado_personas_clean\u001b[0m\u001b[1;33m[\u001b[0m\u001b[0mdv_uex_190401_filtrado_personas_clean\u001b[0m\u001b[1;33m.\u001b[0m\u001b[0mdni\u001b[0m\u001b[1;33m.\u001b[0m\u001b[0meq\u001b[0m\u001b[1;33m(\u001b[0m\u001b[1;34m'1a6392217b80d649033291334d17b46c6929ff7d55c5ddc859422e7cd73aa96cb8b8fb999bc0958181339e53c6d1c7c69e7f5956dbe8815ac68fdf9a617baeda'\u001b[0m\u001b[1;33m)\u001b[0m\u001b[1;33m]\u001b[0m\u001b[1;33m\u001b[0m\u001b[1;33m\u001b[0m\u001b[0m\n\u001b[0m",
      "\u001b[1;31mNameError\u001b[0m: name 'dv_uex_190401_filtrado_personas_clean' is not defined"
     ]
    }
   ],
   "source": [
    "dv_uex_190401_filtrado_personas_clean[dv_uex_190401_filtrado_personas_clean.dni.eq('1a6392217b80d649033291334d17b46c6929ff7d55c5ddc859422e7cd73aa96cb8b8fb999bc0958181339e53c6d1c7c69e7f5956dbe8815ac68fdf9a617baeda')]"
   ]
  },
  {
   "cell_type": "code",
   "execution_count": null,
   "metadata": {},
   "outputs": [],
   "source": [
    "for dni in dv_uex_190401_filtrado_personas_clean.dni.unique():\n",
    "    rows_dni_x =  dv_uex_190401_filtrado_personas_clean[dv_uex_190401_filtrado_personas_clean.dni.eq(dni)]\n",
    "    titulaciones_dni_x = rows_dni_x.loc[:,['titulacion']].values\n",
    "    for titulacion in titulaciones_dni_x:\n",
    "        dv_personas_190411_model.loc[(dv_personas_190411_model.dni == dni),\"Titulacion_is_\"+titulacion] = 1\n"
   ]
  },
  {
   "cell_type": "code",
   "execution_count": null,
   "metadata": {
    "scrolled": true
   },
   "outputs": [],
   "source": [
    "dv_personas_190411_model.head()"
   ]
  },
  {
   "cell_type": "code",
   "execution_count": null,
   "metadata": {
    "scrolled": true
   },
   "outputs": [],
   "source": [
    "dv_personas_190411_model[dv_personas_190411.dni.eq('1a6392217b80d649033291334d17b46c6929ff7d55c5ddc859422e7cd73aa96cb8b8fb999bc0958181339e53c6d1c7c69e7f5956dbe8815ac68fdf9a617baeda')].loc[:,'Titulacion_is_LICENCIADO EN CIENCIAS DE LA ACTIVIDAD FÍSICA Y DEL DEPORTE']"
   ]
  },
  {
   "cell_type": "code",
   "execution_count": null,
   "metadata": {},
   "outputs": [],
   "source": [
    "dv_personas_190411_model = dv_personas_190411_model[dv_personas_190411_model['tto_pcto_dias_trabajados'].notna()]"
   ]
  },
  {
   "cell_type": "code",
   "execution_count": null,
   "metadata": {
    "scrolled": true
   },
   "outputs": [],
   "source": [
    "feather.write_dataframe(dv_personas_190411_model,'./data/dv_personas_190411_abt1')"
   ]
  },
  {
   "cell_type": "code",
   "execution_count": null,
   "metadata": {},
   "outputs": [],
   "source": [
    "pingfInfoFilePath = './data/dv_personas_190411_abt'\n",
    "dv_personas_190411_model = pd.read_feather(pingfInfoFilePath,columns=None, use_threads=True)\n",
    "dv_personas_190411_model.head()"
   ]
  },
  {
   "cell_type": "markdown",
   "metadata": {},
   "source": [
    "## Creación tabla ABT 2"
   ]
  },
  {
   "cell_type": "markdown",
   "metadata": {},
   "source": [
    "#### Procedemos a procesar el dataset de personas pero esta vez con el orden de preinscripción incluido"
   ]
  },
  {
   "cell_type": "code",
   "execution_count": null,
   "metadata": {},
   "outputs": [],
   "source": [
    "dv_personas_190411_ordenPr = pd.read_csv('./datasets_editados/dv_personas_190411_procesada_orden_preinscripcion.csv',sep='|')"
   ]
  },
  {
   "cell_type": "code",
   "execution_count": null,
   "metadata": {
    "scrolled": true
   },
   "outputs": [],
   "source": [
    "dv_personas_190411_ordenPr.head()"
   ]
  },
  {
   "cell_type": "code",
   "execution_count": null,
   "metadata": {},
   "outputs": [],
   "source": [
    "categoricalCols = ['sexo','tipo_acceso','tipo_erasmus','municipio_familiar']\n",
    "for col in categoricalCols:\n",
    "    dv_personas_190411_ordenPr[col] = dv_personas_190411_ordenPr[col].astype('category')\n",
    "dv_personas_190411_ordenPr.dtypes"
   ]
  },
  {
   "cell_type": "code",
   "execution_count": null,
   "metadata": {},
   "outputs": [],
   "source": [
    "boolCols = ['idiomas','erasmus']\n",
    "for col in boolCols:\n",
    "    dv_personas_190411_ordenPr[col] = dv_personas_190411_ordenPr[col].astype('bool')\n",
    "dv_personas_190411_ordenPr.dtypes"
   ]
  },
  {
   "cell_type": "code",
   "execution_count": null,
   "metadata": {},
   "outputs": [],
   "source": [
    "dv_personas_190411_ordenPr.shape"
   ]
  },
  {
   "cell_type": "code",
   "execution_count": null,
   "metadata": {},
   "outputs": [],
   "source": [
    "dv_personas_190411_ordenPr = dv_personas_190411_ordenPr.dropna(subset=['tto_pcto_dias_trabajados'])"
   ]
  },
  {
   "cell_type": "code",
   "execution_count": null,
   "metadata": {},
   "outputs": [],
   "source": [
    "dv_personas_190411_ordenPr = dv_personas_190411_ordenPr.dropna(subset=['orden_preinscripcion'])"
   ]
  },
  {
   "cell_type": "code",
   "execution_count": null,
   "metadata": {},
   "outputs": [],
   "source": [
    "dv_personas_190411_ordenPr.shape"
   ]
  },
  {
   "cell_type": "code",
   "execution_count": null,
   "metadata": {},
   "outputs": [],
   "source": [
    "dv_personas_190411_ordenPr.drop('num_estudios',axis = 1, inplace = True)\n",
    "dv_personas_190411_ordenPr.drop('dias_trabajados_fin_titulacion',axis = 1, inplace = True)\n",
    "dv_personas_190411_ordenPr.drop('periodo_dias_inicio_trabajar',axis = 1, inplace = True)\n",
    "dv_personas_190411_ordenPr.drop('dias_trabajados_sin_solap',axis = 1, inplace = True)\n"
   ]
  },
  {
   "cell_type": "code",
   "execution_count": null,
   "metadata": {},
   "outputs": [],
   "source": [
    "dv_personas_190411_ordenPr.columns"
   ]
  },
  {
   "cell_type": "code",
   "execution_count": null,
   "metadata": {},
   "outputs": [],
   "source": [
    "categoricalCols = ['sexo','idiomas','erasmus','tipo_acceso','municipio_familiar','tipo_erasmus','orden_preinscripcion','tto_pcto_dias_trabajados']\n",
    "numericalCols = ['num_erasmus','num_idiomas','edad_fin_primera_titulacion','tto_pcto_dias_trabajados']"
   ]
  },
  {
   "cell_type": "code",
   "execution_count": null,
   "metadata": {},
   "outputs": [],
   "source": [
    "dv_personas_190411_ordenPr_categorical = dv_personas_190411_ordenPr[categoricalCols]\n",
    "dv_personas_190411_ordenPr_categorical.head()"
   ]
  },
  {
   "cell_type": "code",
   "execution_count": null,
   "metadata": {},
   "outputs": [],
   "source": [
    "tto_pcto_dias_trabajados_bucket_array = np.linspace(0,100,11)\n",
    "tto_pcto_dias_trabajados_bucket_array\n",
    "dv_personas_190411_ordenPr_categorical['tto_pcto_dias_trabajados'] = pd.cut(dv_personas_190411_ordenPr_categorical['tto_pcto_dias_trabajados'],tto_pcto_dias_trabajados_bucket_array)\n",
    "dv_personas_190411_ordenPr_categorical.head()"
   ]
  },
  {
   "cell_type": "markdown",
   "metadata": {},
   "source": [
    "#### Creación de tabla de contigencia con orden de preinscripcion para la aplicación de Chi-squared"
   ]
  },
  {
   "cell_type": "code",
   "execution_count": null,
   "metadata": {},
   "outputs": [],
   "source": [
    "table_orden_preinscripcion_ttopcto = pd.crosstab(dv_personas_190411_ordenPr_categorical['orden_preinscripcion'],dv_personas_190411_ordenPr_categorical['tto_pcto_dias_trabajados'],margins= False)\n",
    "print(table_orden_preinscripcion_ttopcto)"
   ]
  },
  {
   "cell_type": "code",
   "execution_count": null,
   "metadata": {},
   "outputs": [],
   "source": [
    "stat, p, dof, expected = chi2_contingency(table_orden_preinscripcion_ttopcto)\n",
    "print('dof=%d' % dof)\n",
    "print(expected)\n",
    "# interpret test-statistic\n",
    "prob = 0.95\n",
    "critical = chi2.ppf(prob, dof)\n",
    "print('probability=%.3f, critical=%.3f, stat=%.3f' % (prob, critical, stat))\n",
    "if abs(stat) >= critical:\n",
    "\tprint('Dependent (reject H0)')\n",
    "else:\n",
    "\tprint('Independent (fail to reject H0)')\n",
    "# interpret p-value\n",
    "alpha = 1.0 - prob\n",
    "print('significance=%.3f, p=%.3f' % (alpha, p))\n",
    "if p <= alpha:\n",
    "\tprint('Dependent (reject H0)')\n",
    "else:\n",
    "\tprint('Independent (fail to reject H0)')"
   ]
  },
  {
   "cell_type": "code",
   "execution_count": null,
   "metadata": {},
   "outputs": [],
   "source": [
    "dependent_features=['sexo','tipo_acceso','tipo_erasmus','edad_fin_primera_titulacion','tto_pcto_dias_trabajados','dni']"
   ]
  },
  {
   "cell_type": "code",
   "execution_count": null,
   "metadata": {},
   "outputs": [],
   "source": [
    "dependent_features.append('orden_preinscripcion')"
   ]
  },
  {
   "cell_type": "code",
   "execution_count": null,
   "metadata": {},
   "outputs": [],
   "source": [
    "dependent_features"
   ]
  },
  {
   "cell_type": "code",
   "execution_count": null,
   "metadata": {
    "scrolled": true
   },
   "outputs": [],
   "source": [
    "dv_personas_190411_ordenPr_model = dv_personas_190411_ordenPr[dependent_features]\n",
    "dv_personas_190411_ordenPr_model.head()"
   ]
  },
  {
   "cell_type": "code",
   "execution_count": null,
   "metadata": {},
   "outputs": [],
   "source": [
    "for titulacion in dv_uex_190401_filtrado_personas_clean.titulacion.unique():\n",
    "    dv_personas_190411_ordenPr_model[\"Titulacion_is_\"+titulacion] = 0"
   ]
  },
  {
   "cell_type": "code",
   "execution_count": null,
   "metadata": {},
   "outputs": [],
   "source": [
    "dv_personas_190411_ordenPr_model.columns"
   ]
  },
  {
   "cell_type": "code",
   "execution_count": null,
   "metadata": {},
   "outputs": [],
   "source": [
    "for dni in dv_uex_190401_filtrado_personas_clean.dni.unique():\n",
    "    rows_dni_x =  dv_uex_190401_filtrado_personas_clean[dv_uex_190401_filtrado_personas_clean.dni.eq(dni)]\n",
    "    titulaciones_dni_x = rows_dni_x.loc[:,['titulacion']].values\n",
    "    for titulacion in titulaciones_dni_x:\n",
    "        dv_personas_190411_ordenPr_model.loc[(dv_personas_190411_ordenPr_model.dni == dni),\"Titulacion_is_\"+titulacion] = 1"
   ]
  },
  {
   "cell_type": "code",
   "execution_count": null,
   "metadata": {},
   "outputs": [],
   "source": [
    "dv_personas_190411_ordenPr_model.columns"
   ]
  },
  {
   "cell_type": "code",
   "execution_count": null,
   "metadata": {},
   "outputs": [],
   "source": [
    "dv_personas_190411_ordenPr_model.head()"
   ]
  },
  {
   "cell_type": "code",
   "execution_count": null,
   "metadata": {},
   "outputs": [],
   "source": [
    "feather.write_dataframe(dv_personas_190411_ordenPr_model,'./data/dv_personas_190411_abt2')"
   ]
  },
  {
   "cell_type": "code",
   "execution_count": null,
   "metadata": {},
   "outputs": [],
   "source": [
    "pingfInfoFilePath = './data/dv_personas_190411_abt2'\n",
    "dv_personas_190411_ordenPr_model = pd.read_feather(pingfInfoFilePath,columns=None, use_threads=True)\n",
    "dv_personas_190411_ordenPr_model.head()"
   ]
  },
  {
   "cell_type": "markdown",
   "metadata": {},
   "source": [
    "## Creación tabla ABT 3"
   ]
  },
  {
   "cell_type": "markdown",
   "metadata": {},
   "source": [
    "#### Procedemos a continuación procesar el dataset dv_personas_190411 pero solo con la información de aquellas personas que hayan cursado una titulación de tipo \"Grado\", para poder tener en cuenta así la duración y probar acotando el dataset de esta forma"
   ]
  },
  {
   "cell_type": "code",
   "execution_count": null,
   "metadata": {},
   "outputs": [],
   "source": [
    "dv_personas_190411_grado = pd.read_csv('./datasets_editados/dv_personas_190411_procesada_grado_duracion.csv',sep='|')"
   ]
  },
  {
   "cell_type": "code",
   "execution_count": null,
   "metadata": {},
   "outputs": [],
   "source": [
    "dv_personas_190411_grado.head()"
   ]
  },
  {
   "cell_type": "code",
   "execution_count": null,
   "metadata": {},
   "outputs": [],
   "source": [
    "dv_personas_190411_grado.dtypes"
   ]
  },
  {
   "cell_type": "code",
   "execution_count": null,
   "metadata": {},
   "outputs": [],
   "source": [
    "boolCols = ['idiomas','erasmus']\n",
    "for col in boolCols:\n",
    "    dv_personas_190411_grado[col] = dv_personas_190411_grado[col].astype('bool')\n",
    "dv_personas_190411_grado.dtypes"
   ]
  },
  {
   "cell_type": "code",
   "execution_count": null,
   "metadata": {},
   "outputs": [],
   "source": [
    "dv_personas_190411_grado.shape"
   ]
  },
  {
   "cell_type": "code",
   "execution_count": null,
   "metadata": {},
   "outputs": [],
   "source": [
    "dv_personas_190411_grado = dv_personas_190411_grado.dropna(subset=['tto_pcto_dias_trabajados'])"
   ]
  },
  {
   "cell_type": "code",
   "execution_count": null,
   "metadata": {},
   "outputs": [],
   "source": [
    "dv_personas_190411_grado.shape\n"
   ]
  },
  {
   "cell_type": "code",
   "execution_count": null,
   "metadata": {},
   "outputs": [],
   "source": [
    "dv_personas_190411_grado.drop('dias_trabajados_fin_titulacion',axis = 1, inplace = True)\n",
    "dv_personas_190411_grado.drop('periodo_dias_inicio_trabajar',axis = 1, inplace = True)\n",
    "dv_personas_190411_grado.drop('dias_trabajados_sin_solap',axis = 1, inplace = True)"
   ]
  },
  {
   "cell_type": "code",
   "execution_count": null,
   "metadata": {},
   "outputs": [],
   "source": [
    "categoricalCols = ['sexo','idiomas','erasmus','tipo_acceso','municipio_familiar','tipo_erasmus','orden_preinscripcion','tto_pcto_dias_trabajados']\n",
    "numericalCols = ['num_erasmus','num_idiomas','edad_fin_primera_titulacion','tto_pcto_dias_trabajados','duracion_studio','num_estudios']"
   ]
  },
  {
   "cell_type": "markdown",
   "metadata": {},
   "source": [
    "#### Procedemos a evaluar la importancia de los atributos numéricos, ya que los categóricos son los mismos de siempre y ya sabemos cuales son dependientes y cuales no "
   ]
  },
  {
   "cell_type": "code",
   "execution_count": null,
   "metadata": {},
   "outputs": [],
   "source": [
    "dv_personas_190411_grado.head()"
   ]
  },
  {
   "cell_type": "code",
   "execution_count": null,
   "metadata": {},
   "outputs": [],
   "source": [
    "dv_personas_190411_grado = dv_personas_190411_grado.dropna()"
   ]
  },
  {
   "cell_type": "code",
   "execution_count": null,
   "metadata": {},
   "outputs": [],
   "source": [
    "dv_personas_190411_grado.shape"
   ]
  },
  {
   "cell_type": "code",
   "execution_count": null,
   "metadata": {},
   "outputs": [],
   "source": [
    "dv_personas_190411_grado_numerical = dv_personas_190411_grado[numericalCols]\n",
    "dv_personas_190411_grado_numerical.head()"
   ]
  },
  {
   "cell_type": "code",
   "execution_count": null,
   "metadata": {},
   "outputs": [],
   "source": [
    "dv_personas_190411_grado_numerical_features = dv_personas_190411_grado_numerical[['num_erasmus','num_idiomas','edad_fin_primera_titulacion','duracion_studio','num_estudios']]\n",
    "dv_personas_190411_grado_numerical_features.head()"
   ]
  },
  {
   "cell_type": "code",
   "execution_count": null,
   "metadata": {},
   "outputs": [],
   "source": [
    "dv_personas_190411_grado_numerical_label = dv_personas_190411_grado_numerical[['tto_pcto_dias_trabajados']]\n",
    "dv_personas_190411_grado_numerical_label.head()"
   ]
  },
  {
   "cell_type": "code",
   "execution_count": null,
   "metadata": {},
   "outputs": [],
   "source": [
    "model = ExtraTreesClassifier()\n",
    "model.fit(dv_personas_190411_grado_numerical_features,dv_personas_190411_grado_numerical_label)\n",
    "print(model.feature_importances_)\n",
    "feat_importances = pd.Series(model.feature_importances_, index=dv_personas_190411_grado_numerical_features.columns)\n",
    "feat_importances.nlargest(10).plot(kind='barh')\n",
    "plt.show()"
   ]
  },
  {
   "cell_type": "code",
   "execution_count": null,
   "metadata": {
    "scrolled": true
   },
   "outputs": [],
   "source": [
    "dependent_features = ['sexo', 'tipo_acceso', 'tipo_erasmus', 'edad_fin_primera_titulacion','duracion_studio','tto_pcto_dias_trabajados','dni','orden_preinscripcion']\n",
    "dv_personas_190411_grado_model = dv_personas_190411_grado[dependent_features]\n",
    "dv_personas_190411_grado_model.head()"
   ]
  },
  {
   "cell_type": "markdown",
   "metadata": {},
   "source": [
    "#### A continuación procedemos a añadir la característica de la titulación con dummies\n"
   ]
  },
  {
   "cell_type": "code",
   "execution_count": null,
   "metadata": {},
   "outputs": [],
   "source": [
    "for titulacion in dv_uex_190401_filtrado_personas_clean.titulacion.unique():\n",
    "    dv_personas_190411_grado_model[\"Titulacion_is_\"+titulacion] = 0"
   ]
  },
  {
   "cell_type": "code",
   "execution_count": null,
   "metadata": {},
   "outputs": [],
   "source": [
    "dv_personas_190411_grado_model.head()"
   ]
  },
  {
   "cell_type": "code",
   "execution_count": null,
   "metadata": {
    "scrolled": true
   },
   "outputs": [],
   "source": [
    "for dni in dv_uex_190401_filtrado_personas_clean.dni.unique():\n",
    "    rows_dni_x =  dv_uex_190401_filtrado_personas_clean[dv_uex_190401_filtrado_personas_clean.dni.eq(dni)]\n",
    "    titulaciones_dni_x = rows_dni_x.loc[:,['titulacion']].values\n",
    "    for titulacion in titulaciones_dni_x:\n",
    "        dv_personas_190411_grado_model.loc[(dv_personas_190411_grado_model.dni == dni),\"Titulacion_is_\"+titulacion] = 1"
   ]
  },
  {
   "cell_type": "code",
   "execution_count": null,
   "metadata": {},
   "outputs": [],
   "source": [
    "feather.write_dataframe(dv_personas_190411_grado_model,'./data/dv_personas_190411_abt3')"
   ]
  },
  {
   "cell_type": "code",
   "execution_count": null,
   "metadata": {},
   "outputs": [],
   "source": [
    "pingfInfoFilePath = './data/dv_personas_190411_abt3'\n",
    "dv_personas_190411_grado_model = pd.read_feather(pingfInfoFilePath,columns=None, use_threads=True)\n",
    "dv_personas_190411_grado_model.head()"
   ]
  },
  {
   "cell_type": "markdown",
   "metadata": {},
   "source": [
    "## Creación tabla ABT 4"
   ]
  },
  {
   "cell_type": "markdown",
   "metadata": {},
   "source": [
    "#### Procedemos a continuación a importar el dataset de personas pero con la característica que nos permitirá distinguir a que rama académica pertenece cada persona, dependiendo de la carrera que haya cursado"
   ]
  },
  {
   "cell_type": "code",
   "execution_count": null,
   "metadata": {},
   "outputs": [],
   "source": [
    "dv_personas_rama_acad_190411 = pd.read_csv('./datasets_editados/dv_personas_190411_rama_acad_procesada.csv',sep='|')"
   ]
  },
  {
   "cell_type": "code",
   "execution_count": null,
   "metadata": {},
   "outputs": [],
   "source": [
    "dv_personas_rama_acad_190411.head()"
   ]
  },
  {
   "cell_type": "code",
   "execution_count": null,
   "metadata": {},
   "outputs": [],
   "source": [
    "dv_personas_rama_acad_190411.drop('edad',axis = 1, inplace = True)\n",
    "dv_personas_rama_acad_190411.drop('fnac',axis = 1, inplace = True)\n",
    "dv_personas_rama_acad_190411.drop('fecha_fin_primer_estudio',axis = 1, inplace = True)"
   ]
  },
  {
   "cell_type": "code",
   "execution_count": null,
   "metadata": {
    "scrolled": true
   },
   "outputs": [],
   "source": [
    "categoricalCols = ['sexo','tipo_acceso','tipo_erasmus','municipio_familiar','idioma_realizado','rama_acad']\n",
    "for col in categoricalCols:\n",
    "    dv_personas_rama_acad_190411[col] = dv_personas_rama_acad_190411[col].astype('category')\n",
    "dv_personas_rama_acad_190411.dtypes"
   ]
  },
  {
   "cell_type": "code",
   "execution_count": null,
   "metadata": {
    "scrolled": true
   },
   "outputs": [],
   "source": [
    "boolCols = ['idiomas','erasmus','master','doctorado']\n",
    "for col in boolCols:\n",
    "    dv_personas_rama_acad_190411[col] = dv_personas_rama_acad_190411[col].astype('bool')\n",
    "dv_personas_rama_acad_190411.dtypes"
   ]
  },
  {
   "cell_type": "code",
   "execution_count": null,
   "metadata": {},
   "outputs": [],
   "source": [
    "dv_personas_rama_acad_190411 = dv_personas_rama_acad_190411.dropna(subset=['tto_pcto_dias_trabajados'])\n",
    "dv_personas_rama_acad_190411 = dv_personas_rama_acad_190411.dropna(subset=['rama_acad'])\n"
   ]
  },
  {
   "cell_type": "code",
   "execution_count": null,
   "metadata": {},
   "outputs": [],
   "source": [
    "dv_personas_rama_acad_190411.shape"
   ]
  },
  {
   "cell_type": "code",
   "execution_count": null,
   "metadata": {
    "scrolled": true
   },
   "outputs": [],
   "source": [
    "dependent_features.append('rama_acad')\n",
    "dependent_features.append('master')\n",
    "dependent_features.append('doctorado')"
   ]
  },
  {
   "cell_type": "code",
   "execution_count": null,
   "metadata": {},
   "outputs": [],
   "source": [
    "dependent_features.remove('orden_preinscripcion')\n",
    "dependent_features.remove('duracion_studio')\n"
   ]
  },
  {
   "cell_type": "code",
   "execution_count": null,
   "metadata": {
    "scrolled": true
   },
   "outputs": [],
   "source": [
    "dependent_features"
   ]
  },
  {
   "cell_type": "code",
   "execution_count": null,
   "metadata": {},
   "outputs": [],
   "source": [
    "dv_personas_rama_acad_190411_model = dv_personas_rama_acad_190411[dependent_features]\n",
    "dv_personas_rama_acad_190411_model.head()"
   ]
  },
  {
   "cell_type": "code",
   "execution_count": null,
   "metadata": {},
   "outputs": [],
   "source": [
    "feather.write_dataframe(dv_personas_rama_acad_190411_model,'./data/dv_personas_190411_abt4')"
   ]
  },
  {
   "cell_type": "code",
   "execution_count": null,
   "metadata": {},
   "outputs": [],
   "source": [
    "pingfInfoFilePath = './data/dv_personas_190411_abt4'\n",
    "dv_personas_rama_acad_190411_model = pd.read_feather(pingfInfoFilePath,columns=None, use_threads=True)\n",
    "dv_personas_rama_acad_190411_model.head()"
   ]
  },
  {
   "cell_type": "code",
   "execution_count": null,
   "metadata": {},
   "outputs": [],
   "source": []
  }
 ],
 "metadata": {
  "kernelspec": {
   "display_name": "Python 3",
   "language": "python",
   "name": "python3"
  },
  "language_info": {
   "codemirror_mode": {
    "name": "ipython",
    "version": 3
   },
   "file_extension": ".py",
   "mimetype": "text/x-python",
   "name": "python",
   "nbconvert_exporter": "python",
   "pygments_lexer": "ipython3",
   "version": "3.7.3"
  }
 },
 "nbformat": 4,
 "nbformat_minor": 4
}
